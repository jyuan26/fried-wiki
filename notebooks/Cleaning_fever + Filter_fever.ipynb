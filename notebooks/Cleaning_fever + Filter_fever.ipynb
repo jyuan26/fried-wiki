{
 "cells": [
  {
   "cell_type": "code",
   "execution_count": 357,
   "metadata": {},
   "outputs": [],
   "source": [
    "import pandas as pd\n",
    "\n",
    "test_fever = pd.read_csv('/opt/math/jupyter/ntr/Experiments_with_text/data/FEVER/test_oversampled.csv')\n",
    "# train_fever = pd.read_csv('/opt/math/jupyter/ntr/Experiments_with_text/data/SNLI/train_snli_style_sampling_2.csv')"
   ]
  },
  {
   "cell_type": "code",
   "execution_count": 310,
   "metadata": {},
   "outputs": [],
   "source": [
    "def clean_hyp(text):\n",
    "    text = str(text)\n",
    "    dot_id = text.rfind('.')\n",
    "    if dot_id > 0:\n",
    "        text = text[1:dot_id+1]\n",
    "    else:\n",
    "        text = text[1:]\n",
    "        t_id = text.find('\\t')\n",
    "        if t_id > 0:\n",
    "            text = text[:t_id]\n",
    "    return text\n",
    "\n",
    "def clean_hyp(text):\n",
    "    text = str(text)\n",
    "    dot_id = text.rfind('.')\n",
    "    if dot_id > 0:\n",
    "        text = text[1:dot_id+1]\n",
    "    else:\n",
    "        text = text[1:]\n",
    "        t_id = text.find('\\t')\n",
    "        if t_id > 0:\n",
    "            text = text[:t_id]\n",
    "    return text\n",
    "\n",
    "def clean_hyp(text):\n",
    "    text = str(text)\n",
    "    if text[:1] == '\\t':\n",
    "        text = text[1:]\n",
    "    \n",
    "    t_id = text.find('\\t')\n",
    "    if t_id > 0:\n",
    "        text = text[:t_id]\n",
    "    return text\n",
    "\n",
    "train_fever.hypothesis = train_fever.hypothesis.apply(clean_hyp).astype(str)"
   ]
  },
  {
   "cell_type": "code",
   "execution_count": 311,
   "metadata": {},
   "outputs": [],
   "source": [
    "train_fever.to_csv('/opt/math/jupyter/ntr/Experiments_with_text/data/SNLI/train_snli_style_sampling.csv', index = False)"
   ]
  },
  {
   "cell_type": "code",
   "execution_count": 257,
   "metadata": {},
   "outputs": [
    {
     "data": {
      "text/plain": [
       "156.9793987341772"
      ]
     },
     "execution_count": 257,
     "metadata": {},
     "output_type": "execute_result"
    }
   ],
   "source": [
    "train_fever.hyp_filtered.astype(str).apply(len).mean()"
   ]
  },
  {
   "cell_type": "code",
   "execution_count": 258,
   "metadata": {},
   "outputs": [
    {
     "data": {
      "text/plain": [
       "248.68786392405065"
      ]
     },
     "execution_count": 258,
     "metadata": {},
     "output_type": "execute_result"
    }
   ],
   "source": [
    "train_fever.hypothesis.astype(str).apply(len).mean()"
   ]
  },
  {
   "cell_type": "markdown",
   "metadata": {},
   "source": [
    "# Analyzing duplicates in texts: \n",
    "\n",
    "Possible filtering techniques: \n",
    "\n",
    "- full duplicates removal (involve contradiction samples removal)\n",
    "- balancing classes in case the same hypothesis always correspond to one class\n",
    "- General class balancing (redusing number of NEI class)"
   ]
  },
  {
   "cell_type": "markdown",
   "metadata": {},
   "source": [
    "## Step 1"
   ]
  },
  {
   "cell_type": "code",
   "execution_count": 259,
   "metadata": {},
   "outputs": [
    {
     "data": {
      "text/plain": [
       "379200"
      ]
     },
     "execution_count": 259,
     "metadata": {},
     "output_type": "execute_result"
    }
   ],
   "source": [
    "len(train_fever)"
   ]
  },
  {
   "cell_type": "code",
   "execution_count": 260,
   "metadata": {},
   "outputs": [
    {
     "data": {
      "text/html": [
       "<div>\n",
       "<style scoped>\n",
       "    .dataframe tbody tr th:only-of-type {\n",
       "        vertical-align: middle;\n",
       "    }\n",
       "\n",
       "    .dataframe tbody tr th {\n",
       "        vertical-align: top;\n",
       "    }\n",
       "\n",
       "    .dataframe thead th {\n",
       "        text-align: right;\n",
       "    }\n",
       "</style>\n",
       "<table border=\"1\" class=\"dataframe\">\n",
       "  <thead>\n",
       "    <tr style=\"text-align: right;\">\n",
       "      <th></th>\n",
       "      <th>claim</th>\n",
       "      <th>hypothesis</th>\n",
       "      <th>label</th>\n",
       "      <th>hyp_filtered</th>\n",
       "    </tr>\n",
       "  </thead>\n",
       "  <tbody>\n",
       "    <tr>\n",
       "      <th>6769</th>\n",
       "      <td>Pitch Perfect 3 stars Anna Kendrick, Anna Camp...</td>\n",
       "      <td>\\tA sequel to 2015 's Pitch Perfect 2 and the ...</td>\n",
       "      <td>SUPPORTS</td>\n",
       "      <td>A sequel to 2015 's Pitch Perfect 2 and the th...</td>\n",
       "    </tr>\n",
       "    <tr>\n",
       "      <th>8651</th>\n",
       "      <td>Dustin Hoffman is an award-winning actor.</td>\n",
       "      <td>\\tHoffman received the AFI Life Achievement Aw...</td>\n",
       "      <td>SUPPORTS</td>\n",
       "      <td>Hoffman received the AFI Life Achievement Awar...</td>\n",
       "    </tr>\n",
       "    <tr>\n",
       "      <th>9488</th>\n",
       "      <td>International Relations only includes the ente...</td>\n",
       "      <td>\\tInternational relations is an academic and a...</td>\n",
       "      <td>NOT ENOUGH INFO</td>\n",
       "      <td>International relations is an academic and a p...</td>\n",
       "    </tr>\n",
       "    <tr>\n",
       "      <th>13172</th>\n",
       "      <td>Meryl Streep is an award losing actress.</td>\n",
       "      <td>\\tStreep has also received 30 Golden Globe nom...</td>\n",
       "      <td>SUPPORTS</td>\n",
       "      <td>Streep has also received 30 Golden Globe nomin...</td>\n",
       "    </tr>\n",
       "    <tr>\n",
       "      <th>13173</th>\n",
       "      <td>Meryl Streep is an award losing actress.</td>\n",
       "      <td>\\tNominated for 20 Academy Awards , Streep has...</td>\n",
       "      <td>NOT ENOUGH INFO</td>\n",
       "      <td>Nominated for 20 Academy Awards , Streep has m...</td>\n",
       "    </tr>\n",
       "    <tr>\n",
       "      <th>...</th>\n",
       "      <td>...</td>\n",
       "      <td>...</td>\n",
       "      <td>...</td>\n",
       "      <td>...</td>\n",
       "    </tr>\n",
       "    <tr>\n",
       "      <th>377870</th>\n",
       "      <td>Hawaii is a state.</td>\n",
       "      <td>\\tHawaii -LRB- -LSB- langpronaudio = en-us-Haw...</td>\n",
       "      <td>NOT ENOUGH INFO</td>\n",
       "      <td>Hawaii -LRB- -LSB- langpronaudio = en-us-Hawaii .</td>\n",
       "    </tr>\n",
       "    <tr>\n",
       "      <th>378541</th>\n",
       "      <td>John Lennon stayed in accounting his whole life.</td>\n",
       "      <td>\\tLennon disengaged himself from the music bus...</td>\n",
       "      <td>NOT ENOUGH INFO</td>\n",
       "      <td>Lennon disengaged himself from the music busin...</td>\n",
       "    </tr>\n",
       "    <tr>\n",
       "      <th>378815</th>\n",
       "      <td>Minos fathered a child.</td>\n",
       "      <td>\\tBy Androgeneia of Phaestus he had Asterion ,...</td>\n",
       "      <td>NOT ENOUGH INFO</td>\n",
       "      <td>By Androgeneia of Phaestus he had Asterion , w...</td>\n",
       "    </tr>\n",
       "    <tr>\n",
       "      <th>379075</th>\n",
       "      <td>James Taylor made an album.</td>\n",
       "      <td>\\tFollowing his 1977 album , JT , he has retai...</td>\n",
       "      <td>NOT ENOUGH INFO</td>\n",
       "      <td>Following his 1977 album , JT , he has retaine...</td>\n",
       "    </tr>\n",
       "    <tr>\n",
       "      <th>379077</th>\n",
       "      <td>James Taylor made an album.</td>\n",
       "      <td>\\tHe achieved his first number one album in th...</td>\n",
       "      <td>NOT ENOUGH INFO</td>\n",
       "      <td>He achieved his first number one album in the ...</td>\n",
       "    </tr>\n",
       "  </tbody>\n",
       "</table>\n",
       "<p>1718 rows × 4 columns</p>\n",
       "</div>"
      ],
      "text/plain": [
       "                                                    claim  \\\n",
       "6769    Pitch Perfect 3 stars Anna Kendrick, Anna Camp...   \n",
       "8651            Dustin Hoffman is an award-winning actor.   \n",
       "9488    International Relations only includes the ente...   \n",
       "13172            Meryl Streep is an award losing actress.   \n",
       "13173            Meryl Streep is an award losing actress.   \n",
       "...                                                   ...   \n",
       "377870                                 Hawaii is a state.   \n",
       "378541   John Lennon stayed in accounting his whole life.   \n",
       "378815                            Minos fathered a child.   \n",
       "379075                        James Taylor made an album.   \n",
       "379077                        James Taylor made an album.   \n",
       "\n",
       "                                               hypothesis            label  \\\n",
       "6769    \\tA sequel to 2015 's Pitch Perfect 2 and the ...         SUPPORTS   \n",
       "8651    \\tHoffman received the AFI Life Achievement Aw...         SUPPORTS   \n",
       "9488    \\tInternational relations is an academic and a...  NOT ENOUGH INFO   \n",
       "13172   \\tStreep has also received 30 Golden Globe nom...         SUPPORTS   \n",
       "13173   \\tNominated for 20 Academy Awards , Streep has...  NOT ENOUGH INFO   \n",
       "...                                                   ...              ...   \n",
       "377870  \\tHawaii -LRB- -LSB- langpronaudio = en-us-Haw...  NOT ENOUGH INFO   \n",
       "378541  \\tLennon disengaged himself from the music bus...  NOT ENOUGH INFO   \n",
       "378815  \\tBy Androgeneia of Phaestus he had Asterion ,...  NOT ENOUGH INFO   \n",
       "379075  \\tFollowing his 1977 album , JT , he has retai...  NOT ENOUGH INFO   \n",
       "379077  \\tHe achieved his first number one album in th...  NOT ENOUGH INFO   \n",
       "\n",
       "                                             hyp_filtered  \n",
       "6769    A sequel to 2015 's Pitch Perfect 2 and the th...  \n",
       "8651    Hoffman received the AFI Life Achievement Awar...  \n",
       "9488    International relations is an academic and a p...  \n",
       "13172   Streep has also received 30 Golden Globe nomin...  \n",
       "13173   Nominated for 20 Academy Awards , Streep has m...  \n",
       "...                                                   ...  \n",
       "377870  Hawaii -LRB- -LSB- langpronaudio = en-us-Hawaii .  \n",
       "378541  Lennon disengaged himself from the music busin...  \n",
       "378815  By Androgeneia of Phaestus he had Asterion , w...  \n",
       "379075  Following his 1977 album , JT , he has retaine...  \n",
       "379077  He achieved his first number one album in the ...  \n",
       "\n",
       "[1718 rows x 4 columns]"
      ]
     },
     "execution_count": 260,
     "metadata": {},
     "output_type": "execute_result"
    }
   ],
   "source": [
    "tmp = train_fever.duplicated(['claim', 'hypothesis'])\n",
    "tmp2 = train_fever.duplicated(['claim', 'hypothesis', 'label'])\n",
    "\n",
    "train_fever[tmp & (~ tmp2)]"
   ]
  },
  {
   "cell_type": "code",
   "execution_count": 261,
   "metadata": {},
   "outputs": [
    {
     "data": {
      "text/html": [
       "<div>\n",
       "<style scoped>\n",
       "    .dataframe tbody tr th:only-of-type {\n",
       "        vertical-align: middle;\n",
       "    }\n",
       "\n",
       "    .dataframe tbody tr th {\n",
       "        vertical-align: top;\n",
       "    }\n",
       "\n",
       "    .dataframe thead th {\n",
       "        text-align: right;\n",
       "    }\n",
       "</style>\n",
       "<table border=\"1\" class=\"dataframe\">\n",
       "  <thead>\n",
       "    <tr style=\"text-align: right;\">\n",
       "      <th></th>\n",
       "      <th>claim</th>\n",
       "      <th>hypothesis</th>\n",
       "      <th>label</th>\n",
       "      <th>hyp_filtered</th>\n",
       "    </tr>\n",
       "  </thead>\n",
       "  <tbody>\n",
       "    <tr>\n",
       "      <th>7069</th>\n",
       "      <td>Meryl Streep is an award losing actress.</td>\n",
       "      <td>\\tShe returned to the stage for the first time...</td>\n",
       "      <td>REFUTES</td>\n",
       "      <td>She returned to the stage for the first time i...</td>\n",
       "    </tr>\n",
       "    <tr>\n",
       "      <th>7070</th>\n",
       "      <td>Meryl Streep is an award losing actress.</td>\n",
       "      <td>\\tStreep has also received 30 Golden Globe nom...</td>\n",
       "      <td>REFUTES</td>\n",
       "      <td>Streep has also received 30 Golden Globe nomin...</td>\n",
       "    </tr>\n",
       "    <tr>\n",
       "      <th>7071</th>\n",
       "      <td>Meryl Streep is an award losing actress.</td>\n",
       "      <td>\\tStreep was awarded the AFI Life Achievement ...</td>\n",
       "      <td>REFUTES</td>\n",
       "      <td>Streep was awarded the AFI Life Achievement Aw...</td>\n",
       "    </tr>\n",
       "    <tr>\n",
       "      <th>7072</th>\n",
       "      <td>Meryl Streep is an award losing actress.</td>\n",
       "      <td>\\tIn 2017 , Streep was awarded the Golden Glob...</td>\n",
       "      <td>REFUTES</td>\n",
       "      <td>In 2017 , Streep was awarded the Golden Globe ...</td>\n",
       "    </tr>\n",
       "    <tr>\n",
       "      <th>7073</th>\n",
       "      <td>Meryl Streep is an award losing actress.</td>\n",
       "      <td>\\tNominated for 20 Academy Awards , Streep has...</td>\n",
       "      <td>REFUTES</td>\n",
       "      <td>Nominated for 20 Academy Awards , Streep has m...</td>\n",
       "    </tr>\n",
       "    <tr>\n",
       "      <th>7074</th>\n",
       "      <td>Meryl Streep is an award losing actress.</td>\n",
       "      <td>\\tPresident Barack Obama awarded her the 2010 ...</td>\n",
       "      <td>REFUTES</td>\n",
       "      <td>President Barack Obama awarded her the 2010 Na...</td>\n",
       "    </tr>\n",
       "    <tr>\n",
       "      <th>7075</th>\n",
       "      <td>Meryl Streep is an award losing actress.</td>\n",
       "      <td>\\tCited in the media as the `` best actress of...</td>\n",
       "      <td>REFUTES</td>\n",
       "      <td>Cited in the media as the `` best actress of h...</td>\n",
       "    </tr>\n",
       "    <tr>\n",
       "      <th>7076</th>\n",
       "      <td>Meryl Streep is an award losing actress.</td>\n",
       "      <td>\\tMary Louise `` Meryl '' Streep -LRB- born Ju...</td>\n",
       "      <td>NOT ENOUGH INFO</td>\n",
       "      <td>Mary Louise `` Meryl '' Streep -LRB- born June...</td>\n",
       "    </tr>\n",
       "    <tr>\n",
       "      <th>7077</th>\n",
       "      <td>Meryl Streep is an award losing actress.</td>\n",
       "      <td>\\tShe made her screen debut in the 1977 televi...</td>\n",
       "      <td>NOT ENOUGH INFO</td>\n",
       "      <td>She made her screen debut in the 1977 televisi...</td>\n",
       "    </tr>\n",
       "    <tr>\n",
       "      <th>7078</th>\n",
       "      <td>Meryl Streep is an award losing actress.</td>\n",
       "      <td>\\tShe went on to win Best Supporting Actress f...</td>\n",
       "      <td>NOT ENOUGH INFO</td>\n",
       "      <td>She went on to win Best Supporting Actress for...</td>\n",
       "    </tr>\n",
       "    <tr>\n",
       "      <th>7079</th>\n",
       "      <td>Meryl Streep is an award losing actress.</td>\n",
       "      <td>\\tIn 1978 , she won an Emmy Award for her role...</td>\n",
       "      <td>NOT ENOUGH INFO</td>\n",
       "      <td>In 1978 , she won an Emmy Award for her role i...</td>\n",
       "    </tr>\n",
       "    <tr>\n",
       "      <th>7080</th>\n",
       "      <td>Meryl Streep is an award losing actress.</td>\n",
       "      <td>\\tShe made her screen debut in the 1977 televi...</td>\n",
       "      <td>NOT ENOUGH INFO</td>\n",
       "      <td>She made her screen debut in the 1977 televisi...</td>\n",
       "    </tr>\n",
       "    <tr>\n",
       "      <th>7081</th>\n",
       "      <td>Meryl Streep is an award losing actress.</td>\n",
       "      <td>\\tShe made her screen debut in the 1977 televi...</td>\n",
       "      <td>NOT ENOUGH INFO</td>\n",
       "      <td>She made her screen debut in the 1977 televisi...</td>\n",
       "    </tr>\n",
       "    <tr>\n",
       "      <th>7082</th>\n",
       "      <td>Meryl Streep is an award losing actress.</td>\n",
       "      <td>\\tIn 1978 , she won an Emmy Award for her role...</td>\n",
       "      <td>NOT ENOUGH INFO</td>\n",
       "      <td>In 1978 , she won an Emmy Award for her role i...</td>\n",
       "    </tr>\n",
       "    <tr>\n",
       "      <th>13172</th>\n",
       "      <td>Meryl Streep is an award losing actress.</td>\n",
       "      <td>\\tStreep has also received 30 Golden Globe nom...</td>\n",
       "      <td>SUPPORTS</td>\n",
       "      <td>Streep has also received 30 Golden Globe nomin...</td>\n",
       "    </tr>\n",
       "    <tr>\n",
       "      <th>13173</th>\n",
       "      <td>Meryl Streep is an award losing actress.</td>\n",
       "      <td>\\tNominated for 20 Academy Awards , Streep has...</td>\n",
       "      <td>NOT ENOUGH INFO</td>\n",
       "      <td>Nominated for 20 Academy Awards , Streep has m...</td>\n",
       "    </tr>\n",
       "  </tbody>\n",
       "</table>\n",
       "</div>"
      ],
      "text/plain": [
       "                                          claim  \\\n",
       "7069   Meryl Streep is an award losing actress.   \n",
       "7070   Meryl Streep is an award losing actress.   \n",
       "7071   Meryl Streep is an award losing actress.   \n",
       "7072   Meryl Streep is an award losing actress.   \n",
       "7073   Meryl Streep is an award losing actress.   \n",
       "7074   Meryl Streep is an award losing actress.   \n",
       "7075   Meryl Streep is an award losing actress.   \n",
       "7076   Meryl Streep is an award losing actress.   \n",
       "7077   Meryl Streep is an award losing actress.   \n",
       "7078   Meryl Streep is an award losing actress.   \n",
       "7079   Meryl Streep is an award losing actress.   \n",
       "7080   Meryl Streep is an award losing actress.   \n",
       "7081   Meryl Streep is an award losing actress.   \n",
       "7082   Meryl Streep is an award losing actress.   \n",
       "13172  Meryl Streep is an award losing actress.   \n",
       "13173  Meryl Streep is an award losing actress.   \n",
       "\n",
       "                                              hypothesis            label  \\\n",
       "7069   \\tShe returned to the stage for the first time...          REFUTES   \n",
       "7070   \\tStreep has also received 30 Golden Globe nom...          REFUTES   \n",
       "7071   \\tStreep was awarded the AFI Life Achievement ...          REFUTES   \n",
       "7072   \\tIn 2017 , Streep was awarded the Golden Glob...          REFUTES   \n",
       "7073   \\tNominated for 20 Academy Awards , Streep has...          REFUTES   \n",
       "7074   \\tPresident Barack Obama awarded her the 2010 ...          REFUTES   \n",
       "7075   \\tCited in the media as the `` best actress of...          REFUTES   \n",
       "7076   \\tMary Louise `` Meryl '' Streep -LRB- born Ju...  NOT ENOUGH INFO   \n",
       "7077   \\tShe made her screen debut in the 1977 televi...  NOT ENOUGH INFO   \n",
       "7078   \\tShe went on to win Best Supporting Actress f...  NOT ENOUGH INFO   \n",
       "7079   \\tIn 1978 , she won an Emmy Award for her role...  NOT ENOUGH INFO   \n",
       "7080   \\tShe made her screen debut in the 1977 televi...  NOT ENOUGH INFO   \n",
       "7081   \\tShe made her screen debut in the 1977 televi...  NOT ENOUGH INFO   \n",
       "7082   \\tIn 1978 , she won an Emmy Award for her role...  NOT ENOUGH INFO   \n",
       "13172  \\tStreep has also received 30 Golden Globe nom...         SUPPORTS   \n",
       "13173  \\tNominated for 20 Academy Awards , Streep has...  NOT ENOUGH INFO   \n",
       "\n",
       "                                            hyp_filtered  \n",
       "7069   She returned to the stage for the first time i...  \n",
       "7070   Streep has also received 30 Golden Globe nomin...  \n",
       "7071   Streep was awarded the AFI Life Achievement Aw...  \n",
       "7072   In 2017 , Streep was awarded the Golden Globe ...  \n",
       "7073   Nominated for 20 Academy Awards , Streep has m...  \n",
       "7074   President Barack Obama awarded her the 2010 Na...  \n",
       "7075   Cited in the media as the `` best actress of h...  \n",
       "7076   Mary Louise `` Meryl '' Streep -LRB- born June...  \n",
       "7077   She made her screen debut in the 1977 televisi...  \n",
       "7078   She went on to win Best Supporting Actress for...  \n",
       "7079   In 1978 , she won an Emmy Award for her role i...  \n",
       "7080   She made her screen debut in the 1977 televisi...  \n",
       "7081   She made her screen debut in the 1977 televisi...  \n",
       "7082   In 1978 , she won an Emmy Award for her role i...  \n",
       "13172  Streep has also received 30 Golden Globe nomin...  \n",
       "13173  Nominated for 20 Academy Awards , Streep has m...  "
      ]
     },
     "execution_count": 261,
     "metadata": {},
     "output_type": "execute_result"
    }
   ],
   "source": [
    "train_fever[train_fever.claim == 'Meryl Streep is an award losing actress.']"
   ]
  },
  {
   "cell_type": "code",
   "execution_count": 262,
   "metadata": {},
   "outputs": [
    {
     "data": {
      "text/plain": [
       "345716"
      ]
     },
     "execution_count": 262,
     "metadata": {},
     "output_type": "execute_result"
    }
   ],
   "source": [
    "train_fever = train_fever.drop_duplicates(['claim', 'hypothesis'])\n",
    "len(train_fever)"
   ]
  },
  {
   "cell_type": "code",
   "execution_count": 272,
   "metadata": {},
   "outputs": [
    {
     "data": {
      "text/plain": [
       "0.08830168776371308"
      ]
     },
     "execution_count": 272,
     "metadata": {},
     "output_type": "execute_result"
    }
   ],
   "source": [
    "(379200 - 345716)/379200"
   ]
  },
  {
   "cell_type": "code",
   "execution_count": 276,
   "metadata": {},
   "outputs": [
    {
     "data": {
      "text/plain": [
       "'\\tStreep has also received 30 Golden Globe nominations , winning eight -- more nominations , and more competitive wins than any other actor .\\thas also received\\tList of awards and nominations received by Meryl Streep\\tGolden Globe\\tGolden Globe Awards'"
      ]
     },
     "execution_count": 276,
     "metadata": {},
     "output_type": "execute_result"
    }
   ],
   "source": [
    "train_fever.loc[13172].hypothesis"
   ]
  },
  {
   "cell_type": "code",
   "execution_count": null,
   "metadata": {},
   "outputs": [],
   "source": []
  },
  {
   "cell_type": "code",
   "execution_count": 277,
   "metadata": {},
   "outputs": [
    {
     "data": {
      "text/plain": [
       "0.06856540084388185"
      ]
     },
     "execution_count": 277,
     "metadata": {},
     "output_type": "execute_result"
    }
   ],
   "source": [
    "(345716 - 319716)/379200"
   ]
  },
  {
   "cell_type": "code",
   "execution_count": null,
   "metadata": {},
   "outputs": [],
   "source": []
  },
  {
   "cell_type": "markdown",
   "metadata": {},
   "source": [
    "## Step 2: look for claims that correspond to one class\n",
    "\n",
    "get top 20% most frequent hypothesis and slightly equalize the classess (select randomly number of samples to dop) where number of samples determined with random picking the integer between 0 and n_magor_class - n_minor_class."
   ]
  },
  {
   "cell_type": "code",
   "execution_count": 263,
   "metadata": {},
   "outputs": [
    {
     "data": {
      "text/plain": [
       "He is best known for his collaborations with Andrew Lloyd Webber , with whom he wrote Joseph and the Amazing Technicolor Dreamcoat , Jesus Christ Superstar , and Evita ; with Björn Ulvaeus and Benny Andersson of ABBA , with whom he wrote Chess ; for additional songs for the 2011 West End revival of The Wizard of Oz ; and for his work for Walt Disney Studios with Alan Menken -LRB- Aladdin , Beauty and the Beast , King David -RRB- , Elton John -LRB- The Lion King , Aida , The Road to El Dorado -RRB- and Ennio Morricone .    121\n",
       "A Song of Ice and Fire is a series of epic fantasy novels by the American novelist and screenwriter George R. R. Martin .                                                                                                                                                                                                                                                                                                                                                                                                                       108\n",
       "Furia is a 1999 French romantic drama film directed by Alexandre Aja , who co-wrote screenplay with Grégory Levasseur , adapted from the science fiction short story `` Graffiti '' by Julio Cortázar .                                                                                                                                                                                                                                                                                                                                         100\n",
       "Name: hyp_filtered, dtype: int64"
      ]
     },
     "execution_count": 263,
     "metadata": {},
     "output_type": "execute_result"
    }
   ],
   "source": [
    "train_fever.hyp_filtered.value_counts().head(3)"
   ]
  },
  {
   "cell_type": "code",
   "execution_count": 264,
   "metadata": {},
   "outputs": [
    {
     "name": "stdout",
     "output_type": "stream",
     "text": [
      "SUPPORTS    85\n",
      "REFUTES     36\n",
      "Name: label, dtype: int64\n",
      "Series([], Name: label, dtype: int64)\n"
     ]
    }
   ],
   "source": [
    "text = 'He is best known for his collaborations with Andrew Lloyd Webber , with whom he wrote Joseph and the Amazing Technicolor Dreamcoat , Jesus Christ Superstar , and Evita ; with Björn Ulvaeus and Benny Andersson of ABBA , with whom he wrote Chess ; for additional songs for the 2011 West End revival of The Wizard of Oz ; and for his work for Walt Disney Studios with Alan Menken -LRB- Aladdin , Beauty and the Beast , King David -RRB- , Elton John -LRB- The Lion King , Aida , The Road to El Dorado -RRB- and Ennio Morricone .'\n",
    "\n",
    "print(train_fever[train_fever.hyp_filtered == text].label.value_counts())\n",
    "print(test_fever[test_fever.hyp_filtered == text].label.value_counts())"
   ]
  },
  {
   "cell_type": "code",
   "execution_count": 265,
   "metadata": {},
   "outputs": [
    {
     "data": {
      "text/plain": [
       "9.0"
      ]
     },
     "execution_count": 265,
     "metadata": {},
     "output_type": "execute_result"
    }
   ],
   "source": [
    "train_fever.hyp_filtered.value_counts().quantile(0.8)"
   ]
  },
  {
   "cell_type": "code",
   "execution_count": 266,
   "metadata": {
    "scrolled": true
   },
   "outputs": [
    {
     "data": {
      "application/vnd.jupyter.widget-view+json": {
       "model_id": "b5570b55460e480d9417f18bf4d34e4b",
       "version_major": 2,
       "version_minor": 0
      },
      "text/plain": [
       "HBox(children=(FloatProgress(value=0.0, max=11304.0), HTML(value='')))"
      ]
     },
     "metadata": {},
     "output_type": "display_data"
    },
    {
     "name": "stdout",
     "output_type": "stream",
     "text": [
      "\n"
     ]
    }
   ],
   "source": [
    "import numpy as np\n",
    "from tqdm.auto import tqdm\n",
    "\n",
    "tmp = train_fever.hyp_filtered.value_counts()\n",
    "freq_hyp = list(tmp[tmp > 9].index) # top 25%\n",
    "\n",
    "for text in tqdm(freq_hyp):\n",
    "    tmp_sample = train_fever[train_fever.hyp_filtered == text]\n",
    "    freq_dict = tmp_sample.label.value_counts().to_dict()\n",
    "\n",
    "    support = freq_dict.get('SUPPORTS', 0)\n",
    "    refute = freq_dict.get('REFUTES', 0)\n",
    "\n",
    "    if support > refute:\n",
    "        key_to_drop = 'SUPPORTS'\n",
    "        n_drop = np.random.choice(np.arange(0, support - refute))\n",
    "    elif support < refute:\n",
    "        key_to_drop = 'REFUTES'\n",
    "        n_drop = np.random.choice(np.arange(0, refute - support))\n",
    "    else:\n",
    "        continue\n",
    "\n",
    "    indexes_to_drop = np.random.choice(list(tmp_sample[tmp_sample.label == key_to_drop].index), n_drop, replace = False)\n",
    "    train_fever.drop(indexes_to_drop, inplace=True)"
   ]
  },
  {
   "cell_type": "code",
   "execution_count": 267,
   "metadata": {
    "scrolled": true
   },
   "outputs": [
    {
     "data": {
      "text/plain": [
       "319716"
      ]
     },
     "execution_count": 267,
     "metadata": {},
     "output_type": "execute_result"
    }
   ],
   "source": [
    "len(train_fever)"
   ]
  },
  {
   "cell_type": "code",
   "execution_count": 278,
   "metadata": {},
   "outputs": [
    {
     "data": {
      "text/plain": [
       "0.12234704641350211"
      ]
     },
     "execution_count": 278,
     "metadata": {},
     "output_type": "execute_result"
    }
   ],
   "source": [
    "(319716 - 273322)/379200"
   ]
  },
  {
   "cell_type": "code",
   "execution_count": null,
   "metadata": {},
   "outputs": [],
   "source": []
  },
  {
   "cell_type": "markdown",
   "metadata": {},
   "source": [
    "## Step 3: make the NEI class more equal less dominant\n",
    "\n"
   ]
  },
  {
   "cell_type": "code",
   "execution_count": 268,
   "metadata": {},
   "outputs": [
    {
     "name": "stdout",
     "output_type": "stream",
     "text": [
      "{'NOT ENOUGH INFO': 155989, 'SUPPORTS': 109595, 'REFUTES': 54132}\n"
     ]
    }
   ],
   "source": [
    "freq_dict = train_fever.label.value_counts().to_dict()\n",
    "print(freq_dict)\n",
    "\n",
    "support = freq_dict.get('SUPPORTS', 0)\n",
    "refute = freq_dict.get('REFUTES', 0)\n",
    "nei = freq_dict.get('NOT ENOUGH INFO', 0)\n",
    "\n",
    "desired_number_to_drop = nei - np.max([support, refute])\n",
    "\n",
    "indexes_to_drop = np.random.choice(list(train_fever[train_fever.label == 'NOT ENOUGH INFO'].index), desired_number_to_drop, replace = False)\n",
    "\n",
    "train_fever.drop(indexes_to_drop, inplace=True)"
   ]
  },
  {
   "cell_type": "code",
   "execution_count": 269,
   "metadata": {},
   "outputs": [
    {
     "data": {
      "text/plain": [
       "273322"
      ]
     },
     "execution_count": 269,
     "metadata": {},
     "output_type": "execute_result"
    }
   ],
   "source": [
    "len(train_fever)"
   ]
  },
  {
   "cell_type": "code",
   "execution_count": 270,
   "metadata": {},
   "outputs": [],
   "source": [
    "train_fever.to_csv('/opt/math/jupyter/ntr/Experiments_with_text/data/SNLI/train_snli_style_sampling_clean_filltered.csv', index = False)"
   ]
  },
  {
   "cell_type": "code",
   "execution_count": 271,
   "metadata": {},
   "outputs": [
    {
     "data": {
      "text/plain": [
       "<AxesSubplot:>"
      ]
     },
     "execution_count": 271,
     "metadata": {},
     "output_type": "execute_result"
    },
    {
     "data": {
      "image/png": "[encoded data removed]",
      "text/plain": [
       "<Figure size 432x288 with 1 Axes>"
      ]
     },
     "metadata": {
      "needs_background": "light"
     },
     "output_type": "display_data"
    }
   ],
   "source": [
    "train_fever.label.hist()"
   ]
  },
  {
   "cell_type": "code",
   "execution_count": 279,
   "metadata": {},
   "outputs": [
    {
     "name": "stdout",
     "output_type": "stream",
     "text": [
      "{'NOT ENOUGH INFO': 175159, 'SUPPORTS': 147111, 'REFUTES': 56930}\n"
     ]
    }
   ],
   "source": [
    "freq_dict = train_fever.label.value_counts().to_dict()\n",
    "print(freq_dict)"
   ]
  },
  {
   "cell_type": "code",
   "execution_count": 356,
   "metadata": {},
   "outputs": [
    {
     "name": "stdout",
     "output_type": "stream",
     "text": [
      "        n                c         s\n",
      "0  175159  NOT ENOUGH INFO  original\n",
      "1  147111         SUPPORTS  original\n",
      "2   56930          REFUTES  original\n",
      "3  109595  NOT ENOUGH INFO  filtered\n",
      "4  109595         SUPPORTS  filtered\n",
      "5   54132          REFUTES  filtered\n"
     ]
    },
    {
     "data": {
      "text/html": [
       "\n",
       "<div id=\"altair-viz-cd7a2e7084654fdda009c61f219ae6f3\"></div>\n",
       "<script type=\"text/javascript\">\n",
       "  (function(spec, embedOpt){\n",
       "    let outputDiv = document.currentScript.previousElementSibling;\n",
       "    if (outputDiv.id !== \"altair-viz-cd7a2e7084654fdda009c61f219ae6f3\") {\n",
       "      outputDiv = document.getElementById(\"altair-viz-cd7a2e7084654fdda009c61f219ae6f3\");\n",
       "    }\n",
       "    const paths = {\n",
       "      \"vega\": \"https://cdn.jsdelivr.net/npm//vega@5?noext\",\n",
       "      \"vega-lib\": \"https://cdn.jsdelivr.net/npm//vega-lib?noext\",\n",
       "      \"vega-lite\": \"https://cdn.jsdelivr.net/npm//vega-lite@4.8.1?noext\",\n",
       "      \"vega-embed\": \"https://cdn.jsdelivr.net/npm//vega-embed@6?noext\",\n",
       "    };\n",
       "\n",
       "    function loadScript(lib) {\n",
       "      return new Promise(function(resolve, reject) {\n",
       "        var s = document.createElement('script');\n",
       "        s.src = paths[lib];\n",
       "        s.async = true;\n",
       "        s.onload = () => resolve(paths[lib]);\n",
       "        s.onerror = () => reject(`Error loading script: ${paths[lib]}`);\n",
       "        document.getElementsByTagName(\"head\")[0].appendChild(s);\n",
       "      });\n",
       "    }\n",
       "\n",
       "    function showError(err) {\n",
       "      outputDiv.innerHTML = `<div class=\"error\" style=\"color:red;\">${err}</div>`;\n",
       "      throw err;\n",
       "    }\n",
       "\n",
       "    function displayChart(vegaEmbed) {\n",
       "      vegaEmbed(outputDiv, spec, embedOpt)\n",
       "        .catch(err => showError(`Javascript Error: ${err.message}<br>This usually means there's a typo in your chart specification. See the javascript console for the full traceback.`));\n",
       "    }\n",
       "\n",
       "    if(typeof define === \"function\" && define.amd) {\n",
       "      requirejs.config({paths});\n",
       "      require([\"vega-embed\"], displayChart, err => showError(`Error loading script: ${err.message}`));\n",
       "    } else if (typeof vegaEmbed === \"function\") {\n",
       "      displayChart(vegaEmbed);\n",
       "    } else {\n",
       "      loadScript(\"vega\")\n",
       "        .then(() => loadScript(\"vega-lite\"))\n",
       "        .then(() => loadScript(\"vega-embed\"))\n",
       "        .catch(showError)\n",
       "        .then(() => displayChart(vegaEmbed));\n",
       "    }\n",
       "  })({\"config\": {\"view\": {\"continuousWidth\": 400, \"continuousHeight\": 300, \"stroke\": \"transparent\"}}, \"data\": {\"name\": \"data-644395169afa1546a11da7f6493b99be\"}, \"mark\": \"bar\", \"encoding\": {\"color\": {\"type\": \"nominal\", \"field\": \"s\", \"legend\": {\"labelFontSize\": 15, \"titleFontSize\": 18}, \"title\": \"Dataset version\"}, \"column\": {\"type\": \"nominal\", \"field\": \"c\", \"header\": {\"labelFontSize\": 18, \"labelFontWeight\": 300, \"titleFontSize\": 18, \"titleFontWeight\": 300}, \"title\": \"Lable type\"}, \"x\": {\"type\": \"nominal\", \"axis\": {\"domain\": false, \"grid\": false, \"gridDash\": [0, 2, 0], \"labelAngle\": 0, \"labelFontSize\": 15, \"labelPadding\": 7, \"ticks\": false, \"titleAngle\": 0, \"titleFontSize\": 18, \"titleFontWeight\": 300, \"titlePadding\": 10}, \"field\": \"s\", \"title\": \"Dataset version\"}, \"y\": {\"type\": \"quantitative\", \"axis\": {\"domain\": false, \"grid\": true, \"gridDash\": [0, 2, 0], \"labelAngle\": 0, \"labelFontSize\": 15, \"labelPadding\": 7, \"ticks\": false, \"titleFontSize\": 18, \"titleFontWeight\": 300, \"titlePadding\": 10}, \"field\": \"n\", \"title\": \"Number of samples\"}}, \"height\": 200, \"width\": 180, \"$schema\": \"https://vega.github.io/schema/vega-lite/v4.8.1.json\", \"datasets\": {\"data-644395169afa1546a11da7f6493b99be\": [{\"n\": 175159, \"c\": \"NOT ENOUGH INFO\", \"s\": \"original\"}, {\"n\": 147111, \"c\": \"SUPPORTS\", \"s\": \"original\"}, {\"n\": 56930, \"c\": \"REFUTES\", \"s\": \"original\"}, {\"n\": 109595, \"c\": \"NOT ENOUGH INFO\", \"s\": \"filtered\"}, {\"n\": 109595, \"c\": \"SUPPORTS\", \"s\": \"filtered\"}, {\"n\": 54132, \"c\": \"REFUTES\", \"s\": \"filtered\"}]}}, {\"mode\": \"vega-lite\"});\n",
       "</script>"
      ],
      "text/plain": [
       "alt.Chart(...)"
      ]
     },
     "execution_count": 356,
     "metadata": {},
     "output_type": "execute_result"
    }
   ],
   "source": [
    "axisX = alt.Axis(gridDash = [0,2,0], grid=False,  \n",
    "                 domain=False, \n",
    "                 ticks=False,\n",
    "                 labelAngle = 0,\n",
    "                 labelFontSize = 15,\n",
    "                 labelPadding = 7,\n",
    "                 titleFontSize = 18,\n",
    "                 titleFontWeight = 300,\n",
    "                 titlePadding = 10,\n",
    "                 titleAngle = 0)\n",
    "\n",
    "axisY = alt.Axis(gridDash = [0,2,0], grid=True,  \n",
    "                 domain=False, \n",
    "                 ticks=False,\n",
    "                 labelAngle = 0,\n",
    "                 labelFontSize = 15,\n",
    "                 labelPadding = 7,\n",
    "                 titleFontSize = 18,\n",
    "                 titleFontWeight = 300,\n",
    "                 titlePadding = 10)\n",
    "\n",
    "\n",
    "n = [175159,  147111, 56930, 109595, 109595, 54132]\n",
    "c = ['NOT ENOUGH INFO', 'SUPPORTS', 'REFUTES', 'NOT ENOUGH INFO', 'SUPPORTS', 'REFUTES']\n",
    "s = ['original', 'original', 'original', 'filtered', 'filtered', 'filtered']\n",
    "\n",
    "df = pd.DataFrame({'n':n, 'c':c, 's': s})\n",
    "print(df)\n",
    "\n",
    "import altair as alt\n",
    "\n",
    "alt.Chart(df).mark_bar().encode(\n",
    "    x=alt.X('s:N', title = 'Dataset version', axis=axisX),\n",
    "    y=alt.Y('n:Q', title = 'Number of samples', axis=axisY),\n",
    "    color=alt.Color('s:N', title = 'Dataset version', legend = alt.Legend(labelFontSize = 15, titleFontSize = 18)),\n",
    "    column = alt.Column('c:N', title = 'Lable type', header=alt.Header(titleFontSize=18, labelFontSize=18, titleFontWeight = 300, labelFontWeight= 300))\n",
    ").properties(width=180, height=200).configure_view(\n",
    "    stroke='transparent'\n",
    ")"
   ]
  },
  {
   "cell_type": "code",
   "execution_count": 360,
   "metadata": {},
   "outputs": [],
   "source": [
    "train_fever = pd.read_csv('/opt/math/jupyter/ntr/Experiments_with_text/data/SNLI/train_snli_style_sampling_clean_filltered.csv')\n",
    "# train_fever.to_csv('/opt/math/jupyter/ntr/Experiments_with_text/data/SNLI/train_snli_style_sampling_clean_filltered.csv', index = False)"
   ]
  }
 ],
 "metadata": {
  "kernelspec": {
   "display_name": "ntr",
   "language": "python",
   "name": "ntr"
  },
  "language_info": {
   "codemirror_mode": {
    "name": "ipython",
    "version": 3
   },
   "file_extension": ".py",
   "mimetype": "text/x-python",
   "name": "python",
   "nbconvert_exporter": "python",
   "pygments_lexer": "ipython3",
   "version": "3.7.7"
  }
 },
 "nbformat": 4,
 "nbformat_minor": 2
}
