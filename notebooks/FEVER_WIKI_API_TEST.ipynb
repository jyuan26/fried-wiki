{
 "cells": [
  {
   "cell_type": "code",
   "execution_count": 4,
   "metadata": {},
   "outputs": [],
   "source": [
    "import pandas as pd\n",
    "import numpy as np\n",
    "import json\n",
    "import re\n",
    "import pickle\n",
    "from tqdm.auto import tqdm\n",
    "import unidecode"
   ]
  },
  {
   "cell_type": "code",
   "execution_count": 5,
   "metadata": {},
   "outputs": [
    {
     "data": {
      "text/html": [
       "<div>\n",
       "<style scoped>\n",
       "    .dataframe tbody tr th:only-of-type {\n",
       "        vertical-align: middle;\n",
       "    }\n",
       "\n",
       "    .dataframe tbody tr th {\n",
       "        vertical-align: top;\n",
       "    }\n",
       "\n",
       "    .dataframe thead th {\n",
       "        text-align: right;\n",
       "    }\n",
       "</style>\n",
       "<table border=\"1\" class=\"dataframe\">\n",
       "  <thead>\n",
       "    <tr style=\"text-align: right;\">\n",
       "      <th></th>\n",
       "      <th>id</th>\n",
       "      <th>verifiable</th>\n",
       "      <th>label</th>\n",
       "      <th>claim</th>\n",
       "      <th>evidence</th>\n",
       "      <th>evidence_sources</th>\n",
       "      <th>NER</th>\n",
       "      <th>valid_link</th>\n",
       "    </tr>\n",
       "  </thead>\n",
       "  <tbody>\n",
       "    <tr>\n",
       "      <th>0</th>\n",
       "      <td>75397</td>\n",
       "      <td>VERIFIABLE</td>\n",
       "      <td>SUPPORTS</td>\n",
       "      <td>Nikolaj Coster-Waldau worked with the Fox Broa...</td>\n",
       "      <td>[[[92206, 104971, 'Nikolaj_Coster-Waldau', 7],...</td>\n",
       "      <td>{'Fox_Broadcasting_Company', 'Nikolaj_Coster-W...</td>\n",
       "      <td>['Nikolaj Coster-Waldau', 'Fox Broadcasting Co...</td>\n",
       "      <td>True</td>\n",
       "    </tr>\n",
       "    <tr>\n",
       "      <th>1</th>\n",
       "      <td>150448</td>\n",
       "      <td>VERIFIABLE</td>\n",
       "      <td>SUPPORTS</td>\n",
       "      <td>Roman Atwood is a content creator.</td>\n",
       "      <td>[[[174271, 187498, 'Roman_Atwood', 1]], [[1742...</td>\n",
       "      <td>{'Roman_Atwood'}</td>\n",
       "      <td>['Roman Atwood']</td>\n",
       "      <td>True</td>\n",
       "    </tr>\n",
       "    <tr>\n",
       "      <th>2</th>\n",
       "      <td>214861</td>\n",
       "      <td>VERIFIABLE</td>\n",
       "      <td>SUPPORTS</td>\n",
       "      <td>History of art includes architecture, dance, s...</td>\n",
       "      <td>[[[255136, 254645, 'History_of_art', 2]]]</td>\n",
       "      <td>{'History_of_art'}</td>\n",
       "      <td>[]</td>\n",
       "      <td>True</td>\n",
       "    </tr>\n",
       "    <tr>\n",
       "      <th>3</th>\n",
       "      <td>156709</td>\n",
       "      <td>VERIFIABLE</td>\n",
       "      <td>REFUTES</td>\n",
       "      <td>Adrienne Bailon is an accountant.</td>\n",
       "      <td>[[[180804, 193183, 'Adrienne_Bailon', 0]]]</td>\n",
       "      <td>{'Adrienne_Bailon'}</td>\n",
       "      <td>['Adrienne Bailon']</td>\n",
       "      <td>True</td>\n",
       "    </tr>\n",
       "    <tr>\n",
       "      <th>4</th>\n",
       "      <td>129629</td>\n",
       "      <td>VERIFIABLE</td>\n",
       "      <td>SUPPORTS</td>\n",
       "      <td>Homeland is an American television spy thrille...</td>\n",
       "      <td>[[[151831, 166598, 'Homeland_-LRB-TV_series-RR...</td>\n",
       "      <td>{'Prisoners_of_War_(TV_series)', 'Homeland_(TV...</td>\n",
       "      <td>['American', 'Israeli', 'Prisoners of War']</td>\n",
       "      <td>True</td>\n",
       "    </tr>\n",
       "  </tbody>\n",
       "</table>\n",
       "</div>"
      ],
      "text/plain": [
       "       id  verifiable     label  \\\n",
       "0   75397  VERIFIABLE  SUPPORTS   \n",
       "1  150448  VERIFIABLE  SUPPORTS   \n",
       "2  214861  VERIFIABLE  SUPPORTS   \n",
       "3  156709  VERIFIABLE   REFUTES   \n",
       "4  129629  VERIFIABLE  SUPPORTS   \n",
       "\n",
       "                                               claim  \\\n",
       "0  Nikolaj Coster-Waldau worked with the Fox Broa...   \n",
       "1                 Roman Atwood is a content creator.   \n",
       "2  History of art includes architecture, dance, s...   \n",
       "3                  Adrienne Bailon is an accountant.   \n",
       "4  Homeland is an American television spy thrille...   \n",
       "\n",
       "                                            evidence  \\\n",
       "0  [[[92206, 104971, 'Nikolaj_Coster-Waldau', 7],...   \n",
       "1  [[[174271, 187498, 'Roman_Atwood', 1]], [[1742...   \n",
       "2          [[[255136, 254645, 'History_of_art', 2]]]   \n",
       "3         [[[180804, 193183, 'Adrienne_Bailon', 0]]]   \n",
       "4  [[[151831, 166598, 'Homeland_-LRB-TV_series-RR...   \n",
       "\n",
       "                                    evidence_sources  \\\n",
       "0  {'Fox_Broadcasting_Company', 'Nikolaj_Coster-W...   \n",
       "1                                   {'Roman_Atwood'}   \n",
       "2                                 {'History_of_art'}   \n",
       "3                                {'Adrienne_Bailon'}   \n",
       "4  {'Prisoners_of_War_(TV_series)', 'Homeland_(TV...   \n",
       "\n",
       "                                                 NER  valid_link  \n",
       "0  ['Nikolaj Coster-Waldau', 'Fox Broadcasting Co...        True  \n",
       "1                                   ['Roman Atwood']        True  \n",
       "2                                                 []        True  \n",
       "3                                ['Adrienne Bailon']        True  \n",
       "4        ['American', 'Israeli', 'Prisoners of War']        True  "
      ]
     },
     "execution_count": 5,
     "metadata": {},
     "output_type": "execute_result"
    }
   ],
   "source": [
    "all_fever = pd.read_csv('all_fever_upd.csv')\n",
    "all_fever.head()"
   ]
  },
  {
   "cell_type": "markdown",
   "metadata": {},
   "source": [
    "## Loading and validating candidates: "
   ]
  },
  {
   "cell_type": "code",
   "execution_count": 6,
   "metadata": {},
   "outputs": [],
   "source": [
    "candidates_files = ['parsed_candidates10.pickle', \n",
    "                    'parsed_candidates_30.pickle', \n",
    "                    'parsed_candidates_50.pickle',\n",
    "                    'parsed_candidates_spacy_10_en_core_web_sm.pickle', \n",
    "                    'parsed_candidates_spacy_30_en_core_web_sm.pickle', \n",
    "                    'parsed_candidates_spacy_50_en_core_web_sm.pickle',\n",
    "                    'parsed_candidates_spacy_10_en_core_web_sm_SEPAR_noextend.pickle',\n",
    "                    'parsed_candidates_spacy_10_en_core_web_sm_SEPAR_extend.pickle',\n",
    "                    'trf_10_merge_noextend.pickle',\n",
    "                    'parsed_candidates_spacy_trf_3_SEPAR_noextend.pickle',\n",
    "                    'trf_5_SEPAR_noextend.pickle',\n",
    "                    \"trf_10_SEPAR_noextend.pickle\",\n",
    "                    'trf_10_SEPAR_extend.pickle',\n",
    "                    'parsed_candidates_flair_10_simple.pickle',\n",
    "                    'parsed_candidates_flair_3_SEPAR_notextend.pickle',\n",
    "                    'parsed_candidates_flair_5_SEPAR_notextend.pickle',\n",
    "                    'flair_10_SEPAR_noextend.pickle',\n",
    "                    'flair_10_SEPAR_extend.pickle' # that should be changed\n",
    "                    ]"
   ]
  },
  {
   "cell_type": "code",
   "execution_count": 10,
   "metadata": {},
   "outputs": [],
   "source": [
    "from ast import literal_eval\n",
    "\n",
    "res = 0\n",
    "\n",
    "def calculate_acc(a,b):\n",
    "    if type(a) is not set:\n",
    "        a = literal_eval(a)\n",
    "    f = 0\n",
    "    for i in a:\n",
    "        for j in b:\n",
    "            if unidecode.unidecode(i) == unidecode.unidecode(j):\n",
    "                f+=1\n",
    "    return f\n",
    "\n",
    "def calculate_recall(a,b):\n",
    "    if type(a) is not set:\n",
    "        a = literal_eval(a)\n",
    "    f = 0\n",
    "    for i in a:\n",
    "        for j in b:\n",
    "            if unidecode.unidecode(i) == unidecode.unidecode(j):\n",
    "                f+=1\n",
    "    return f/len(a)\n",
    "\n",
    "\n",
    "\n",
    "def get_metrics(file):\n",
    "    print('processing')\n",
    "    name = file[:-7]\n",
    "    with open(file, 'rb') as handle:\n",
    "        precaclc = pickle.load(handle)['results']\n",
    "        \n",
    "    precaclc = pd.DataFrame(precaclc, columns = ['query', 'candidates'])\n",
    "\n",
    "    all_fever['idd'] = np.arange(0, len(all_fever))\n",
    "\n",
    "    res = all_fever.merge(precaclc, left_on='claim', right_on='query')\n",
    "    res = res.drop('evidence', axis=1).drop_duplicates('idd')\n",
    "    \n",
    "    res = res[res.valid_link]\n",
    "    \n",
    "    acc = []\n",
    "    for s1, s2 in tqdm(zip(res.evidence_sources, res.candidates)):\n",
    "#         acc.append(calculate_acc(s1,s2)>0)\n",
    "        acc.append(calculate_recall(s1,s2))\n",
    "    \n",
    "    n_c = res['candidates'].apply(len).mean()\n",
    "        \n",
    "    ### General accuracy of API n==10\n",
    "    return {'name': name, 'n_matched': len(acc), 'accuracy': np.mean(acc), 'n_candidates':n_c}"
   ]
  },
  {
   "cell_type": "code",
   "execution_count": 11,
   "metadata": {},
   "outputs": [
    {
     "name": "stdout",
     "output_type": "stream",
     "text": [
      "processing\n"
     ]
    },
    {
     "data": {
      "application/vnd.jupyter.widget-view+json": {
       "model_id": "b4cb8135ce7047d8943bce3947df59da",
       "version_major": 2,
       "version_minor": 0
      },
      "text/plain": [
       "0it [00:00, ?it/s]"
      ]
     },
     "metadata": {},
     "output_type": "display_data"
    },
    {
     "name": "stdout",
     "output_type": "stream",
     "text": [
      "processing\n"
     ]
    },
    {
     "data": {
      "application/vnd.jupyter.widget-view+json": {
       "model_id": "8c4e64fabd614c10a1737e6e601c2096",
       "version_major": 2,
       "version_minor": 0
      },
      "text/plain": [
       "0it [00:00, ?it/s]"
      ]
     },
     "metadata": {},
     "output_type": "display_data"
    },
    {
     "name": "stdout",
     "output_type": "stream",
     "text": [
      "processing\n"
     ]
    },
    {
     "data": {
      "application/vnd.jupyter.widget-view+json": {
       "model_id": "1dadf6cccab242b1a3b087c915ea9385",
       "version_major": 2,
       "version_minor": 0
      },
      "text/plain": [
       "0it [00:00, ?it/s]"
      ]
     },
     "metadata": {},
     "output_type": "display_data"
    },
    {
     "name": "stdout",
     "output_type": "stream",
     "text": [
      "processing\n"
     ]
    },
    {
     "data": {
      "application/vnd.jupyter.widget-view+json": {
       "model_id": "1a7172510a514524b2ad2647635e1eea",
       "version_major": 2,
       "version_minor": 0
      },
      "text/plain": [
       "0it [00:00, ?it/s]"
      ]
     },
     "metadata": {},
     "output_type": "display_data"
    },
    {
     "name": "stdout",
     "output_type": "stream",
     "text": [
      "processing\n"
     ]
    },
    {
     "data": {
      "application/vnd.jupyter.widget-view+json": {
       "model_id": "b6f37f069ac2435f93288f4109506259",
       "version_major": 2,
       "version_minor": 0
      },
      "text/plain": [
       "0it [00:00, ?it/s]"
      ]
     },
     "metadata": {},
     "output_type": "display_data"
    },
    {
     "name": "stdout",
     "output_type": "stream",
     "text": [
      "processing\n"
     ]
    },
    {
     "data": {
      "application/vnd.jupyter.widget-view+json": {
       "model_id": "3d284361a9584f1d96cd492264a847b7",
       "version_major": 2,
       "version_minor": 0
      },
      "text/plain": [
       "0it [00:00, ?it/s]"
      ]
     },
     "metadata": {},
     "output_type": "display_data"
    },
    {
     "name": "stdout",
     "output_type": "stream",
     "text": [
      "processing\n"
     ]
    },
    {
     "data": {
      "application/vnd.jupyter.widget-view+json": {
       "model_id": "2b455adade2c49539ead5177779d9bb4",
       "version_major": 2,
       "version_minor": 0
      },
      "text/plain": [
       "0it [00:00, ?it/s]"
      ]
     },
     "metadata": {},
     "output_type": "display_data"
    },
    {
     "name": "stdout",
     "output_type": "stream",
     "text": [
      "processing\n"
     ]
    },
    {
     "data": {
      "application/vnd.jupyter.widget-view+json": {
       "model_id": "ea4b652779164482b483045d74a4dae0",
       "version_major": 2,
       "version_minor": 0
      },
      "text/plain": [
       "0it [00:00, ?it/s]"
      ]
     },
     "metadata": {},
     "output_type": "display_data"
    },
    {
     "name": "stdout",
     "output_type": "stream",
     "text": [
      "processing\n"
     ]
    },
    {
     "data": {
      "application/vnd.jupyter.widget-view+json": {
       "model_id": "0c8ea003a33c489b90e7f41bd8365367",
       "version_major": 2,
       "version_minor": 0
      },
      "text/plain": [
       "0it [00:00, ?it/s]"
      ]
     },
     "metadata": {},
     "output_type": "display_data"
    },
    {
     "name": "stdout",
     "output_type": "stream",
     "text": [
      "processing\n"
     ]
    },
    {
     "data": {
      "application/vnd.jupyter.widget-view+json": {
       "model_id": "6cd99f182632423b9f731e1b78922dbf",
       "version_major": 2,
       "version_minor": 0
      },
      "text/plain": [
       "0it [00:00, ?it/s]"
      ]
     },
     "metadata": {},
     "output_type": "display_data"
    },
    {
     "name": "stdout",
     "output_type": "stream",
     "text": [
      "processing\n"
     ]
    },
    {
     "data": {
      "application/vnd.jupyter.widget-view+json": {
       "model_id": "e805b256890e4307862b4157d6691782",
       "version_major": 2,
       "version_minor": 0
      },
      "text/plain": [
       "0it [00:00, ?it/s]"
      ]
     },
     "metadata": {},
     "output_type": "display_data"
    },
    {
     "name": "stdout",
     "output_type": "stream",
     "text": [
      "processing\n"
     ]
    },
    {
     "data": {
      "application/vnd.jupyter.widget-view+json": {
       "model_id": "026c4cd76cb94ec8bf815022f13e47c8",
       "version_major": 2,
       "version_minor": 0
      },
      "text/plain": [
       "0it [00:00, ?it/s]"
      ]
     },
     "metadata": {},
     "output_type": "display_data"
    },
    {
     "name": "stdout",
     "output_type": "stream",
     "text": [
      "processing\n"
     ]
    },
    {
     "data": {
      "application/vnd.jupyter.widget-view+json": {
       "model_id": "119378f480a34b5ca73cfd0a6d89ee34",
       "version_major": 2,
       "version_minor": 0
      },
      "text/plain": [
       "0it [00:00, ?it/s]"
      ]
     },
     "metadata": {},
     "output_type": "display_data"
    },
    {
     "name": "stdout",
     "output_type": "stream",
     "text": [
      "processing\n"
     ]
    },
    {
     "data": {
      "application/vnd.jupyter.widget-view+json": {
       "model_id": "3f869d3ff4d948abba41dd38f567a92c",
       "version_major": 2,
       "version_minor": 0
      },
      "text/plain": [
       "0it [00:00, ?it/s]"
      ]
     },
     "metadata": {},
     "output_type": "display_data"
    },
    {
     "name": "stdout",
     "output_type": "stream",
     "text": [
      "processing\n"
     ]
    },
    {
     "data": {
      "application/vnd.jupyter.widget-view+json": {
       "model_id": "ab3ff38308fd461987a279c73b0cd8f2",
       "version_major": 2,
       "version_minor": 0
      },
      "text/plain": [
       "0it [00:00, ?it/s]"
      ]
     },
     "metadata": {},
     "output_type": "display_data"
    },
    {
     "name": "stdout",
     "output_type": "stream",
     "text": [
      "processing\n"
     ]
    },
    {
     "data": {
      "application/vnd.jupyter.widget-view+json": {
       "model_id": "988bc50ba2b54577ac16b3dbddee3863",
       "version_major": 2,
       "version_minor": 0
      },
      "text/plain": [
       "0it [00:00, ?it/s]"
      ]
     },
     "metadata": {},
     "output_type": "display_data"
    },
    {
     "name": "stdout",
     "output_type": "stream",
     "text": [
      "processing\n"
     ]
    },
    {
     "data": {
      "application/vnd.jupyter.widget-view+json": {
       "model_id": "0504318f8cd24c70a507311ba9a390f5",
       "version_major": 2,
       "version_minor": 0
      },
      "text/plain": [
       "0it [00:00, ?it/s]"
      ]
     },
     "metadata": {},
     "output_type": "display_data"
    },
    {
     "name": "stdout",
     "output_type": "stream",
     "text": [
      "processing\n"
     ]
    },
    {
     "data": {
      "application/vnd.jupyter.widget-view+json": {
       "model_id": "664bff455e2449e1bd751616502f9242",
       "version_major": 2,
       "version_minor": 0
      },
      "text/plain": [
       "0it [00:00, ?it/s]"
      ]
     },
     "metadata": {},
     "output_type": "display_data"
    }
   ],
   "source": [
    "results = [get_metrics(file) for file in candidates_files]"
   ]
  },
  {
   "cell_type": "code",
   "execution_count": 12,
   "metadata": {
    "scrolled": true
   },
   "outputs": [
    {
     "data": {
      "text/html": [
       "<div>\n",
       "<style scoped>\n",
       "    .dataframe tbody tr th:only-of-type {\n",
       "        vertical-align: middle;\n",
       "    }\n",
       "\n",
       "    .dataframe tbody tr th {\n",
       "        vertical-align: top;\n",
       "    }\n",
       "\n",
       "    .dataframe thead th {\n",
       "        text-align: right;\n",
       "    }\n",
       "</style>\n",
       "<table border=\"1\" class=\"dataframe\">\n",
       "  <thead>\n",
       "    <tr style=\"text-align: right;\">\n",
       "      <th></th>\n",
       "      <th>name</th>\n",
       "      <th>n_matched</th>\n",
       "      <th>accuracy</th>\n",
       "      <th>n_candidates</th>\n",
       "    </tr>\n",
       "  </thead>\n",
       "  <tbody>\n",
       "    <tr>\n",
       "      <th>0</th>\n",
       "      <td>parsed_candidates10</td>\n",
       "      <td>117778</td>\n",
       "      <td>0.627848</td>\n",
       "      <td>9.112822</td>\n",
       "    </tr>\n",
       "    <tr>\n",
       "      <th>1</th>\n",
       "      <td>parsed_candidates_30</td>\n",
       "      <td>117778</td>\n",
       "      <td>0.645186</td>\n",
       "      <td>25.021982</td>\n",
       "    </tr>\n",
       "    <tr>\n",
       "      <th>2</th>\n",
       "      <td>parsed_candidates_50</td>\n",
       "      <td>117778</td>\n",
       "      <td>0.648865</td>\n",
       "      <td>39.157101</td>\n",
       "    </tr>\n",
       "    <tr>\n",
       "      <th>3</th>\n",
       "      <td>parsed_candidates_spacy_10_en_core_web_sm</td>\n",
       "      <td>117777</td>\n",
       "      <td>0.809724</td>\n",
       "      <td>15.333996</td>\n",
       "    </tr>\n",
       "    <tr>\n",
       "      <th>4</th>\n",
       "      <td>parsed_candidates_spacy_30_en_core_web_sm</td>\n",
       "      <td>117778</td>\n",
       "      <td>0.833226</td>\n",
       "      <td>44.022559</td>\n",
       "    </tr>\n",
       "    <tr>\n",
       "      <th>5</th>\n",
       "      <td>parsed_candidates_spacy_50_en_core_web_sm</td>\n",
       "      <td>117778</td>\n",
       "      <td>0.840023</td>\n",
       "      <td>70.676468</td>\n",
       "    </tr>\n",
       "    <tr>\n",
       "      <th>6</th>\n",
       "      <td>parsed_candidates_spacy_10_en_core_web_sm_SEPA...</td>\n",
       "      <td>117761</td>\n",
       "      <td>0.834486</td>\n",
       "      <td>10.117806</td>\n",
       "    </tr>\n",
       "    <tr>\n",
       "      <th>7</th>\n",
       "      <td>parsed_candidates_spacy_10_en_core_web_sm_SEPA...</td>\n",
       "      <td>117672</td>\n",
       "      <td>0.838657</td>\n",
       "      <td>10.111335</td>\n",
       "    </tr>\n",
       "    <tr>\n",
       "      <th>8</th>\n",
       "      <td>trf_10_merge_noextend</td>\n",
       "      <td>117778</td>\n",
       "      <td>0.826538</td>\n",
       "      <td>15.096886</td>\n",
       "    </tr>\n",
       "    <tr>\n",
       "      <th>9</th>\n",
       "      <td>parsed_candidates_spacy_trf_3_SEPAR_noextend</td>\n",
       "      <td>117778</td>\n",
       "      <td>0.874569</td>\n",
       "      <td>6.928985</td>\n",
       "    </tr>\n",
       "    <tr>\n",
       "      <th>10</th>\n",
       "      <td>trf_5_SEPAR_noextend</td>\n",
       "      <td>117778</td>\n",
       "      <td>0.891642</td>\n",
       "      <td>11.678777</td>\n",
       "    </tr>\n",
       "    <tr>\n",
       "      <th>11</th>\n",
       "      <td>trf_10_SEPAR_noextend</td>\n",
       "      <td>117749</td>\n",
       "      <td>0.910641</td>\n",
       "      <td>23.470976</td>\n",
       "    </tr>\n",
       "    <tr>\n",
       "      <th>12</th>\n",
       "      <td>trf_10_SEPAR_extend</td>\n",
       "      <td>117733</td>\n",
       "      <td>0.912611</td>\n",
       "      <td>23.437184</td>\n",
       "    </tr>\n",
       "    <tr>\n",
       "      <th>13</th>\n",
       "      <td>parsed_candidates_flair_10_simple</td>\n",
       "      <td>117760</td>\n",
       "      <td>0.861356</td>\n",
       "      <td>15.543308</td>\n",
       "    </tr>\n",
       "    <tr>\n",
       "      <th>14</th>\n",
       "      <td>parsed_candidates_flair_3_SEPAR_notextend</td>\n",
       "      <td>116646</td>\n",
       "      <td>0.878741</td>\n",
       "      <td>6.275372</td>\n",
       "    </tr>\n",
       "    <tr>\n",
       "      <th>15</th>\n",
       "      <td>parsed_candidates_flair_5_SEPAR_notextend</td>\n",
       "      <td>116625</td>\n",
       "      <td>0.895409</td>\n",
       "      <td>10.588004</td>\n",
       "    </tr>\n",
       "    <tr>\n",
       "      <th>16</th>\n",
       "      <td>flair_10_SEPAR_noextend</td>\n",
       "      <td>117757</td>\n",
       "      <td>0.913710</td>\n",
       "      <td>21.301528</td>\n",
       "    </tr>\n",
       "    <tr>\n",
       "      <th>17</th>\n",
       "      <td>flair_10_SEPAR_extend</td>\n",
       "      <td>117716</td>\n",
       "      <td>0.915337</td>\n",
       "      <td>21.278917</td>\n",
       "    </tr>\n",
       "  </tbody>\n",
       "</table>\n",
       "</div>"
      ],
      "text/plain": [
       "                                                 name  n_matched  accuracy  \\\n",
       "0                                 parsed_candidates10     117778  0.627848   \n",
       "1                                parsed_candidates_30     117778  0.645186   \n",
       "2                                parsed_candidates_50     117778  0.648865   \n",
       "3           parsed_candidates_spacy_10_en_core_web_sm     117777  0.809724   \n",
       "4           parsed_candidates_spacy_30_en_core_web_sm     117778  0.833226   \n",
       "5           parsed_candidates_spacy_50_en_core_web_sm     117778  0.840023   \n",
       "6   parsed_candidates_spacy_10_en_core_web_sm_SEPA...     117761  0.834486   \n",
       "7   parsed_candidates_spacy_10_en_core_web_sm_SEPA...     117672  0.838657   \n",
       "8                               trf_10_merge_noextend     117778  0.826538   \n",
       "9        parsed_candidates_spacy_trf_3_SEPAR_noextend     117778  0.874569   \n",
       "10                               trf_5_SEPAR_noextend     117778  0.891642   \n",
       "11                              trf_10_SEPAR_noextend     117749  0.910641   \n",
       "12                                trf_10_SEPAR_extend     117733  0.912611   \n",
       "13                  parsed_candidates_flair_10_simple     117760  0.861356   \n",
       "14          parsed_candidates_flair_3_SEPAR_notextend     116646  0.878741   \n",
       "15          parsed_candidates_flair_5_SEPAR_notextend     116625  0.895409   \n",
       "16                            flair_10_SEPAR_noextend     117757  0.913710   \n",
       "17                              flair_10_SEPAR_extend     117716  0.915337   \n",
       "\n",
       "    n_candidates  \n",
       "0       9.112822  \n",
       "1      25.021982  \n",
       "2      39.157101  \n",
       "3      15.333996  \n",
       "4      44.022559  \n",
       "5      70.676468  \n",
       "6      10.117806  \n",
       "7      10.111335  \n",
       "8      15.096886  \n",
       "9       6.928985  \n",
       "10     11.678777  \n",
       "11     23.470976  \n",
       "12     23.437184  \n",
       "13     15.543308  \n",
       "14      6.275372  \n",
       "15     10.588004  \n",
       "16     21.301528  \n",
       "17     21.278917  "
      ]
     },
     "execution_count": 12,
     "metadata": {},
     "output_type": "execute_result"
    }
   ],
   "source": [
    "pd.DataFrame(results)\n",
    "\n"
   ]
  },
  {
   "cell_type": "markdown",
   "metadata": {},
   "source": [
    "## Looking on one specific case"
   ]
  },
  {
   "cell_type": "code",
   "execution_count": 67,
   "metadata": {
    "scrolled": true
   },
   "outputs": [
    {
     "name": "stdout",
     "output_type": "stream",
     "text": [
      "processing\n"
     ]
    },
    {
     "data": {
      "application/vnd.jupyter.widget-view+json": {
       "model_id": "309683807ec04c2684f1c3dce3e3f5cc",
       "version_major": 2,
       "version_minor": 0
      },
      "text/plain": [
       "HBox(children=(FloatProgress(value=1.0, bar_style='info', max=1.0), HTML(value='')))"
      ]
     },
     "metadata": {},
     "output_type": "display_data"
    },
    {
     "name": "stdout",
     "output_type": "stream",
     "text": [
      "\n"
     ]
    }
   ],
   "source": [
    "# file = 'parsed_candidates_spacy.pickle'\n",
    "file = 'parsed_candidates_flair_10_SEPAR_extend.pickle'\n",
    "\n",
    "print('processing')\n",
    "name = file[:-7]\n",
    "with open(file, 'rb') as handle:\n",
    "    precaclc = pickle.load(handle)['results']\n",
    "\n",
    "precaclc = pd.DataFrame(precaclc, columns = ['query', 'candidates'])\n",
    "\n",
    "all_fever['idd'] = np.arange(0, len(all_fever))\n",
    "\n",
    "res = all_fever.merge(precaclc, left_on='claim', right_on='query')\n",
    "res = res.drop('evidence', axis=1).drop_duplicates('idd')\n",
    "res = res[res.valid_link]\n",
    "\n",
    "acc = []\n",
    "for s1, s2 in tqdm(zip(res.evidence_sources, res.candidates)):\n",
    "    acc.append(calculate_acc(s1,s2)>0)\n"
   ]
  },
  {
   "cell_type": "code",
   "execution_count": 91,
   "metadata": {},
   "outputs": [
    {
     "data": {
      "text/html": [
       "<div>\n",
       "<style scoped>\n",
       "    .dataframe tbody tr th:only-of-type {\n",
       "        vertical-align: middle;\n",
       "    }\n",
       "\n",
       "    .dataframe tbody tr th {\n",
       "        vertical-align: top;\n",
       "    }\n",
       "\n",
       "    .dataframe thead th {\n",
       "        text-align: right;\n",
       "    }\n",
       "</style>\n",
       "<table border=\"1\" class=\"dataframe\">\n",
       "  <thead>\n",
       "    <tr style=\"text-align: right;\">\n",
       "      <th></th>\n",
       "      <th>claim</th>\n",
       "      <th>evidence_sources</th>\n",
       "      <th>candidates</th>\n",
       "      <th>valid_link</th>\n",
       "    </tr>\n",
       "  </thead>\n",
       "  <tbody>\n",
       "    <tr>\n",
       "      <th>128</th>\n",
       "      <td>Furia is adapted from a short story by Anna Po...</td>\n",
       "      <td>{'Furia_(film)'}</td>\n",
       "      <td>{Anna_Politkovskaya, Furia}</td>\n",
       "      <td>True</td>\n",
       "    </tr>\n",
       "    <tr>\n",
       "      <th>141</th>\n",
       "      <td>The Challenge was a scripted show.</td>\n",
       "      <td>{'The_Challenge_(TV_series)'}</td>\n",
       "      <td>{The_Horror_Show_at_Extreme_Rules, NCIS_(TV_se...</td>\n",
       "      <td>True</td>\n",
       "    </tr>\n",
       "    <tr>\n",
       "      <th>153</th>\n",
       "      <td>Charles, Prince of Wales is patron of numerous...</td>\n",
       "      <td>{'Charles,_Prince_of_Wales'}</td>\n",
       "      <td>{Prince_Harry,_Duke_of_Sussex, Royal_tours_of_...</td>\n",
       "      <td>True</td>\n",
       "    </tr>\n",
       "    <tr>\n",
       "      <th>156</th>\n",
       "      <td>Pope John Paul II co-stars many actors besides...</td>\n",
       "      <td>{'Pope_John_Paul_II_(miniseries)'}</td>\n",
       "      <td>{Legitimacy_(family_law), Romeo_and_Juliet, Ch...</td>\n",
       "      <td>True</td>\n",
       "    </tr>\n",
       "    <tr>\n",
       "      <th>178</th>\n",
       "      <td>Filmfare is about cheese.</td>\n",
       "      <td>{'Filmfare'}</td>\n",
       "      <td>{1991_in_music, Delhi_Belly_(film), Kiara_Adva...</td>\n",
       "      <td>True</td>\n",
       "    </tr>\n",
       "    <tr>\n",
       "      <th>...</th>\n",
       "      <td>...</td>\n",
       "      <td>...</td>\n",
       "      <td>...</td>\n",
       "      <td>...</td>\n",
       "    </tr>\n",
       "    <tr>\n",
       "      <th>153042</th>\n",
       "      <td>Sledgehammer made an appearance on Good Mornin...</td>\n",
       "      <td>{'Sledgehammer_(Fifth_Harmony_song)'}</td>\n",
       "      <td>{Janice_Rand, Jeffrey_Dahmer, Reflection_(Fift...</td>\n",
       "      <td>True</td>\n",
       "    </tr>\n",
       "    <tr>\n",
       "      <th>153049</th>\n",
       "      <td>The Quiet is only a television show.</td>\n",
       "      <td>{'The_Quiet'}</td>\n",
       "      <td>{Mehmet_Oz, List_of_British_television_program...</td>\n",
       "      <td>True</td>\n",
       "    </tr>\n",
       "    <tr>\n",
       "      <th>153051</th>\n",
       "      <td>The Hit was released on DVD.</td>\n",
       "      <td>{'The_Hit_(1984_film)'}</td>\n",
       "      <td>{Bret_\"Hit_Man\"_Hart:_The_Best_There_Is,_the_B...</td>\n",
       "      <td>True</td>\n",
       "    </tr>\n",
       "    <tr>\n",
       "      <th>153066</th>\n",
       "      <td>Hermit crabs are arachnids.</td>\n",
       "      <td>{'Arachnid', 'Hermit_crab', 'Decapoda'}</td>\n",
       "      <td>{Invertebrate, Gill, Eurypterid, Seashell, Jur...</td>\n",
       "      <td>True</td>\n",
       "    </tr>\n",
       "    <tr>\n",
       "      <th>153069</th>\n",
       "      <td>Trouble with the Curve is a television show.</td>\n",
       "      <td>{'Trouble_with_the_Curve'}</td>\n",
       "      <td>{List_of_dramatic_television_series_with_LGBT_...</td>\n",
       "      <td>True</td>\n",
       "    </tr>\n",
       "  </tbody>\n",
       "</table>\n",
       "<p>9275 rows × 4 columns</p>\n",
       "</div>"
      ],
      "text/plain": [
       "                                                    claim  \\\n",
       "128     Furia is adapted from a short story by Anna Po...   \n",
       "141                    The Challenge was a scripted show.   \n",
       "153     Charles, Prince of Wales is patron of numerous...   \n",
       "156     Pope John Paul II co-stars many actors besides...   \n",
       "178                             Filmfare is about cheese.   \n",
       "...                                                   ...   \n",
       "153042  Sledgehammer made an appearance on Good Mornin...   \n",
       "153049               The Quiet is only a television show.   \n",
       "153051                       The Hit was released on DVD.   \n",
       "153066                        Hermit crabs are arachnids.   \n",
       "153069       Trouble with the Curve is a television show.   \n",
       "\n",
       "                               evidence_sources  \\\n",
       "128                            {'Furia_(film)'}   \n",
       "141               {'The_Challenge_(TV_series)'}   \n",
       "153                {'Charles,_Prince_of_Wales'}   \n",
       "156          {'Pope_John_Paul_II_(miniseries)'}   \n",
       "178                                {'Filmfare'}   \n",
       "...                                         ...   \n",
       "153042    {'Sledgehammer_(Fifth_Harmony_song)'}   \n",
       "153049                            {'The_Quiet'}   \n",
       "153051                  {'The_Hit_(1984_film)'}   \n",
       "153066  {'Arachnid', 'Hermit_crab', 'Decapoda'}   \n",
       "153069               {'Trouble_with_the_Curve'}   \n",
       "\n",
       "                                               candidates  valid_link  \n",
       "128                           {Anna_Politkovskaya, Furia}        True  \n",
       "141     {The_Horror_Show_at_Extreme_Rules, NCIS_(TV_se...        True  \n",
       "153     {Prince_Harry,_Duke_of_Sussex, Royal_tours_of_...        True  \n",
       "156     {Legitimacy_(family_law), Romeo_and_Juliet, Ch...        True  \n",
       "178     {1991_in_music, Delhi_Belly_(film), Kiara_Adva...        True  \n",
       "...                                                   ...         ...  \n",
       "153042  {Janice_Rand, Jeffrey_Dahmer, Reflection_(Fift...        True  \n",
       "153049  {Mehmet_Oz, List_of_British_television_program...        True  \n",
       "153051  {Bret_\"Hit_Man\"_Hart:_The_Best_There_Is,_the_B...        True  \n",
       "153066  {Invertebrate, Gill, Eurypterid, Seashell, Jur...        True  \n",
       "153069  {List_of_dramatic_television_series_with_LGBT_...        True  \n",
       "\n",
       "[9275 rows x 4 columns]"
      ]
     },
     "execution_count": 91,
     "metadata": {},
     "output_type": "execute_result"
    }
   ],
   "source": [
    "res[~res['accuracy']][['claim', 'evidence_sources', 'candidates', 'valid_link']]"
   ]
  }
 ],
 "metadata": {
  "kernelspec": {
   "display_name": "Python 3",
   "language": "python",
   "name": "python3"
  },
  "language_info": {
   "codemirror_mode": {
    "name": "ipython",
    "version": 3
   },
   "file_extension": ".py",
   "mimetype": "text/x-python",
   "name": "python",
   "nbconvert_exporter": "python",
   "pygments_lexer": "ipython3",
   "version": "3.8.3"
  }
 },
 "nbformat": 4,
 "nbformat_minor": 4
}
