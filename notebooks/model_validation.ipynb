{
 "cells": [
  {
   "cell_type": "markdown",
   "metadata": {},
   "source": [
    "### Loading pretrained model"
   ]
  },
  {
   "cell_type": "code",
   "execution_count": 1,
   "metadata": {},
   "outputs": [],
   "source": [
    "import os\n",
    "os.environ[\"CUDA_VISIBLE_DEVICES\"]=\"0\"\n",
    "\n",
    "import sys\n",
    "import json\n",
    "# for debug mode\n",
    "sys.path.insert(0, \"/opt/math/jupyter/ntr/Experiments_with_text\")"
   ]
  },
  {
   "cell_type": "code",
   "execution_count": 2,
   "metadata": {},
   "outputs": [],
   "source": [
    "from fairapi.modules.sentence_bert_model import SentenceBertModel\n",
    "from fairapi.modules.logging_utils import *\n",
    "logger = get_logger(name=ROOT_LOGGER_NAME,\n",
    "                    console=True,\n",
    "                    log_level=\"INFO\",\n",
    "                    propagate=False)"
   ]
  },
  {
   "cell_type": "code",
   "execution_count": 15,
   "metadata": {},
   "outputs": [],
   "source": [
    "config = {'bert_model_path': '/opt/math/jupyter/ntr/Experiments_with_text/models_filtered/bert_fine/bert_model_trained', \n",
    "          'classification_model_path': '/opt/math/jupyter/ntr/Experiments_with_text/models_filtered/bert_fine/classifier_model', \n",
    "          'cache_path': ''}"
   ]
  },
  {
   "cell_type": "code",
   "execution_count": 16,
   "metadata": {
    "scrolled": true
   },
   "outputs": [
    {
     "name": "stderr",
     "output_type": "stream",
     "text": [
      "[2021-05-09 10:11:04][NLI_API][INFO] Models are loaded and ready to use.\n",
      "[2021-05-09 10:11:04][NLI_API][INFO] Loading cache...\n",
      "[2021-05-09 10:11:04][NLI_API][INFO] Cache is not used.\n"
     ]
    }
   ],
   "source": [
    "model = SentenceBertModel(logger, **config)"
   ]
  },
  {
   "cell_type": "markdown",
   "metadata": {},
   "source": [
    "### Transfer learning validation"
   ]
  },
  {
   "cell_type": "markdown",
   "metadata": {},
   "source": [
    "## FEVER FILLED NEI CLASS"
   ]
  },
  {
   "cell_type": "code",
   "execution_count": 17,
   "metadata": {},
   "outputs": [
    {
     "data": {
      "text/html": [
       "<div>\n",
       "<style scoped>\n",
       "    .dataframe tbody tr th:only-of-type {\n",
       "        vertical-align: middle;\n",
       "    }\n",
       "\n",
       "    .dataframe tbody tr th {\n",
       "        vertical-align: top;\n",
       "    }\n",
       "\n",
       "    .dataframe thead th {\n",
       "        text-align: right;\n",
       "    }\n",
       "</style>\n",
       "<table border=\"1\" class=\"dataframe\">\n",
       "  <thead>\n",
       "    <tr style=\"text-align: right;\">\n",
       "      <th></th>\n",
       "      <th>claim</th>\n",
       "      <th>hypothesis</th>\n",
       "      <th>label</th>\n",
       "      <th>query</th>\n",
       "      <th>candidates</th>\n",
       "    </tr>\n",
       "  </thead>\n",
       "  <tbody>\n",
       "    <tr>\n",
       "      <th>0</th>\n",
       "      <td>Colin Kaepernick became a starting quarterback...</td>\n",
       "      <td>\\tThese quarterbacks have started at least one...</td>\n",
       "      <td>NOT ENOUGH INFO</td>\n",
       "      <td>Colin Kaepernick became a starting quarterback...</td>\n",
       "      <td>{'List_of_San_Francisco_49ers_starting_quarter...</td>\n",
       "    </tr>\n",
       "    <tr>\n",
       "      <th>1</th>\n",
       "      <td>Tilda Swinton is a vegan.</td>\n",
       "      <td>\\tShe next starred in Sally Potter 's Orlando ...</td>\n",
       "      <td>NOT ENOUGH INFO</td>\n",
       "      <td>Tilda Swinton is a vegan.</td>\n",
       "      <td>{'Tilda_Swinton', 'John_Swinton_of_Kimmerghame...</td>\n",
       "    </tr>\n",
       "    <tr>\n",
       "      <th>2</th>\n",
       "      <td>Tilda Swinton is a vegan.</td>\n",
       "      <td>\\tIn 2005 , Swinton was given the Richard Harr...</td>\n",
       "      <td>NOT ENOUGH INFO</td>\n",
       "      <td>Tilda Swinton is a vegan.</td>\n",
       "      <td>{'Tilda_Swinton', 'John_Swinton_of_Kimmerghame...</td>\n",
       "    </tr>\n",
       "    <tr>\n",
       "      <th>3</th>\n",
       "      <td>Tilda Swinton is a vegan.</td>\n",
       "      <td>\\tShe followed this with appearances in Vanill...</td>\n",
       "      <td>NOT ENOUGH INFO</td>\n",
       "      <td>Tilda Swinton is a vegan.</td>\n",
       "      <td>{'Tilda_Swinton', 'John_Swinton_of_Kimmerghame...</td>\n",
       "    </tr>\n",
       "    <tr>\n",
       "      <th>4</th>\n",
       "      <td>Tilda Swinton is a vegan.</td>\n",
       "      <td>\\tShe is the recipient of two BAFTA Awards , o...</td>\n",
       "      <td>NOT ENOUGH INFO</td>\n",
       "      <td>Tilda Swinton is a vegan.</td>\n",
       "      <td>{'Tilda_Swinton', 'John_Swinton_of_Kimmerghame...</td>\n",
       "    </tr>\n",
       "  </tbody>\n",
       "</table>\n",
       "</div>"
      ],
      "text/plain": [
       "                                               claim  \\\n",
       "0  Colin Kaepernick became a starting quarterback...   \n",
       "1                          Tilda Swinton is a vegan.   \n",
       "2                          Tilda Swinton is a vegan.   \n",
       "3                          Tilda Swinton is a vegan.   \n",
       "4                          Tilda Swinton is a vegan.   \n",
       "\n",
       "                                          hypothesis            label  \\\n",
       "0  \\tThese quarterbacks have started at least one...  NOT ENOUGH INFO   \n",
       "1  \\tShe next starred in Sally Potter 's Orlando ...  NOT ENOUGH INFO   \n",
       "2  \\tIn 2005 , Swinton was given the Richard Harr...  NOT ENOUGH INFO   \n",
       "3  \\tShe followed this with appearances in Vanill...  NOT ENOUGH INFO   \n",
       "4  \\tShe is the recipient of two BAFTA Awards , o...  NOT ENOUGH INFO   \n",
       "\n",
       "                                               query  \\\n",
       "0  Colin Kaepernick became a starting quarterback...   \n",
       "1                          Tilda Swinton is a vegan.   \n",
       "2                          Tilda Swinton is a vegan.   \n",
       "3                          Tilda Swinton is a vegan.   \n",
       "4                          Tilda Swinton is a vegan.   \n",
       "\n",
       "                                          candidates  \n",
       "0  {'List_of_San_Francisco_49ers_starting_quarter...  \n",
       "1  {'Tilda_Swinton', 'John_Swinton_of_Kimmerghame...  \n",
       "2  {'Tilda_Swinton', 'John_Swinton_of_Kimmerghame...  \n",
       "3  {'Tilda_Swinton', 'John_Swinton_of_Kimmerghame...  \n",
       "4  {'Tilda_Swinton', 'John_Swinton_of_Kimmerghame...  "
      ]
     },
     "execution_count": 17,
     "metadata": {},
     "output_type": "execute_result"
    }
   ],
   "source": [
    "import pandas as pd\n",
    "test_fever = pd.read_csv('../../data/FEVER/test_oversampled.csv')\n",
    "test_fever.dropna(inplace = True)\n",
    "test_fever.drop_duplicates(inplace = True)\n",
    "test_fever.reset_index(drop=True, inplace=True)\n",
    "test_fever.head()"
   ]
  },
  {
   "cell_type": "code",
   "execution_count": 18,
   "metadata": {},
   "outputs": [
    {
     "data": {
      "application/vnd.jupyter.widget-view+json": {
       "model_id": "7cb84e8f1c934724a5537fc43ab4c2f6",
       "version_major": 2,
       "version_minor": 0
      },
      "text/plain": [
       "HBox(children=(FloatProgress(value=0.0, description='Batches', max=1053.0, style=ProgressStyle(description_wid…"
      ]
     },
     "metadata": {},
     "output_type": "display_data"
    },
    {
     "name": "stdout",
     "output_type": "stream",
     "text": [
      "\n"
     ]
    },
    {
     "data": {
      "application/vnd.jupyter.widget-view+json": {
       "model_id": "750bd4fc705b4dcb8e643268fe127d0f",
       "version_major": 2,
       "version_minor": 0
      },
      "text/plain": [
       "HBox(children=(FloatProgress(value=0.0, description='Batches', max=1053.0, style=ProgressStyle(description_wid…"
      ]
     },
     "metadata": {},
     "output_type": "display_data"
    },
    {
     "name": "stdout",
     "output_type": "stream",
     "text": [
      "\n"
     ]
    }
   ],
   "source": [
    "from tqdm.auto import tqdm\n",
    "preds = model.predict_batch(test_fever.claim, test_fever.hypothesis)"
   ]
  },
  {
   "cell_type": "code",
   "execution_count": 19,
   "metadata": {},
   "outputs": [
    {
     "data": {
      "text/plain": [
       "0.7348478099480327"
      ]
     },
     "execution_count": 19,
     "metadata": {},
     "output_type": "execute_result"
    }
   ],
   "source": [
    "preds_df_fever = pd.DataFrame(preds)\n",
    "\n",
    "preds_df_fever['label_true'] = test_fever['label']\n",
    "preds_df_fever['label_true'] = preds_df_fever['label_true']\n",
    "\n",
    "import numpy as np\n",
    "np.mean(preds_df_fever.label == preds_df_fever.label_true)"
   ]
  },
  {
   "cell_type": "code",
   "execution_count": 20,
   "metadata": {},
   "outputs": [
    {
     "data": {
      "text/html": [
       "<div>\n",
       "<style scoped>\n",
       "    .dataframe tbody tr th:only-of-type {\n",
       "        vertical-align: middle;\n",
       "    }\n",
       "\n",
       "    .dataframe tbody tr th {\n",
       "        vertical-align: top;\n",
       "    }\n",
       "\n",
       "    .dataframe thead th {\n",
       "        text-align: right;\n",
       "    }\n",
       "</style>\n",
       "<table border=\"1\" class=\"dataframe\">\n",
       "  <thead>\n",
       "    <tr style=\"text-align: right;\">\n",
       "      <th></th>\n",
       "      <th>label</th>\n",
       "      <th>contradiction_prob</th>\n",
       "      <th>entailment_prob</th>\n",
       "      <th>neutral_prob</th>\n",
       "      <th>label_true</th>\n",
       "    </tr>\n",
       "  </thead>\n",
       "  <tbody>\n",
       "    <tr>\n",
       "      <th>0</th>\n",
       "      <td>NOT ENOUGH INFO</td>\n",
       "      <td>0.000000</td>\n",
       "      <td>0.460723</td>\n",
       "      <td>0.539277</td>\n",
       "      <td>NOT ENOUGH INFO</td>\n",
       "    </tr>\n",
       "    <tr>\n",
       "      <th>1</th>\n",
       "      <td>NOT ENOUGH INFO</td>\n",
       "      <td>0.375752</td>\n",
       "      <td>0.000000</td>\n",
       "      <td>0.624248</td>\n",
       "      <td>NOT ENOUGH INFO</td>\n",
       "    </tr>\n",
       "    <tr>\n",
       "      <th>2</th>\n",
       "      <td>NOT ENOUGH INFO</td>\n",
       "      <td>0.414830</td>\n",
       "      <td>0.000000</td>\n",
       "      <td>0.585170</td>\n",
       "      <td>NOT ENOUGH INFO</td>\n",
       "    </tr>\n",
       "    <tr>\n",
       "      <th>3</th>\n",
       "      <td>NOT ENOUGH INFO</td>\n",
       "      <td>0.376625</td>\n",
       "      <td>0.000000</td>\n",
       "      <td>0.623375</td>\n",
       "      <td>NOT ENOUGH INFO</td>\n",
       "    </tr>\n",
       "    <tr>\n",
       "      <th>4</th>\n",
       "      <td>NOT ENOUGH INFO</td>\n",
       "      <td>0.399986</td>\n",
       "      <td>0.000000</td>\n",
       "      <td>0.600014</td>\n",
       "      <td>NOT ENOUGH INFO</td>\n",
       "    </tr>\n",
       "    <tr>\n",
       "      <th>...</th>\n",
       "      <td>...</td>\n",
       "      <td>...</td>\n",
       "      <td>...</td>\n",
       "      <td>...</td>\n",
       "      <td>...</td>\n",
       "    </tr>\n",
       "    <tr>\n",
       "      <th>33670</th>\n",
       "      <td>NOT ENOUGH INFO</td>\n",
       "      <td>0.000000</td>\n",
       "      <td>0.085439</td>\n",
       "      <td>0.914561</td>\n",
       "      <td>NOT ENOUGH INFO</td>\n",
       "    </tr>\n",
       "    <tr>\n",
       "      <th>33671</th>\n",
       "      <td>NOT ENOUGH INFO</td>\n",
       "      <td>0.000000</td>\n",
       "      <td>0.108806</td>\n",
       "      <td>0.891194</td>\n",
       "      <td>NOT ENOUGH INFO</td>\n",
       "    </tr>\n",
       "    <tr>\n",
       "      <th>33672</th>\n",
       "      <td>REFUTES</td>\n",
       "      <td>0.884510</td>\n",
       "      <td>0.000000</td>\n",
       "      <td>0.115490</td>\n",
       "      <td>REFUTES</td>\n",
       "    </tr>\n",
       "    <tr>\n",
       "      <th>33673</th>\n",
       "      <td>REFUTES</td>\n",
       "      <td>0.542505</td>\n",
       "      <td>0.000000</td>\n",
       "      <td>0.457495</td>\n",
       "      <td>REFUTES</td>\n",
       "    </tr>\n",
       "    <tr>\n",
       "      <th>33674</th>\n",
       "      <td>NOT ENOUGH INFO</td>\n",
       "      <td>0.468962</td>\n",
       "      <td>0.000000</td>\n",
       "      <td>0.531038</td>\n",
       "      <td>REFUTES</td>\n",
       "    </tr>\n",
       "  </tbody>\n",
       "</table>\n",
       "<p>33675 rows × 5 columns</p>\n",
       "</div>"
      ],
      "text/plain": [
       "                 label  contradiction_prob  entailment_prob  neutral_prob  \\\n",
       "0      NOT ENOUGH INFO            0.000000         0.460723      0.539277   \n",
       "1      NOT ENOUGH INFO            0.375752         0.000000      0.624248   \n",
       "2      NOT ENOUGH INFO            0.414830         0.000000      0.585170   \n",
       "3      NOT ENOUGH INFO            0.376625         0.000000      0.623375   \n",
       "4      NOT ENOUGH INFO            0.399986         0.000000      0.600014   \n",
       "...                ...                 ...              ...           ...   \n",
       "33670  NOT ENOUGH INFO            0.000000         0.085439      0.914561   \n",
       "33671  NOT ENOUGH INFO            0.000000         0.108806      0.891194   \n",
       "33672          REFUTES            0.884510         0.000000      0.115490   \n",
       "33673          REFUTES            0.542505         0.000000      0.457495   \n",
       "33674  NOT ENOUGH INFO            0.468962         0.000000      0.531038   \n",
       "\n",
       "            label_true  \n",
       "0      NOT ENOUGH INFO  \n",
       "1      NOT ENOUGH INFO  \n",
       "2      NOT ENOUGH INFO  \n",
       "3      NOT ENOUGH INFO  \n",
       "4      NOT ENOUGH INFO  \n",
       "...                ...  \n",
       "33670  NOT ENOUGH INFO  \n",
       "33671  NOT ENOUGH INFO  \n",
       "33672          REFUTES  \n",
       "33673          REFUTES  \n",
       "33674          REFUTES  \n",
       "\n",
       "[33675 rows x 5 columns]"
      ]
     },
     "execution_count": 20,
     "metadata": {},
     "output_type": "execute_result"
    }
   ],
   "source": [
    "preds_df_fever"
   ]
  },
  {
   "cell_type": "code",
   "execution_count": 21,
   "metadata": {},
   "outputs": [
    {
     "data": {
      "text/plain": [
       "0.711097928265036"
      ]
     },
     "execution_count": 21,
     "metadata": {},
     "output_type": "execute_result"
    }
   ],
   "source": [
    "preds_df_fever_filtered = preds_df_fever[preds_df_fever['label_true'].isin(['SUPPORTS', 'REFUTES'])]\n",
    "np.mean(preds_df_fever_filtered.label == preds_df_fever_filtered.label_true) "
   ]
  },
  {
   "cell_type": "code",
   "execution_count": 22,
   "metadata": {},
   "outputs": [
    {
     "name": "stdout",
     "output_type": "stream",
     "text": [
      "[[8628  677 1476]\n",
      " [2295 6955 1883]\n",
      " [1563 1035 9163]]\n",
      "                 precision    recall  f1-score   support\n",
      "\n",
      "       SUPPORTS       0.69      0.80      0.74     10781\n",
      "        REFUTES       0.80      0.62      0.70     11133\n",
      "NOT ENOUGH INFO       0.73      0.78      0.75     11761\n",
      "\n",
      "       accuracy                           0.73     33675\n",
      "      macro avg       0.74      0.73      0.73     33675\n",
      "   weighted avg       0.74      0.73      0.73     33675\n",
      "\n"
     ]
    }
   ],
   "source": [
    "# Importing the dependancies\n",
    "from sklearn import metrics\n",
    "# Predicted values\n",
    "y_pred = preds_df_fever['label']\n",
    "# Actual values\n",
    "y_act = preds_df_fever['label_true']\n",
    "# Printing the confusion matrix\n",
    "# The columns will show the instances predicted for each label,\n",
    "# and the rows will show the actual number of instances for each label.\n",
    "print(metrics.confusion_matrix(y_act, y_pred, labels=['SUPPORTS', 'REFUTES', 'NOT ENOUGH INFO']))\n",
    "# Printing the precision and recall, among other metrics\n",
    "print(metrics.classification_report(y_act, y_pred, labels=['SUPPORTS', 'REFUTES', 'NOT ENOUGH INFO']))"
   ]
  },
  {
   "cell_type": "markdown",
   "metadata": {},
   "source": [
    "## Validating on cleaned hypothesis"
   ]
  },
  {
   "cell_type": "code",
   "execution_count": 23,
   "metadata": {},
   "outputs": [
    {
     "data": {
      "application/vnd.jupyter.widget-view+json": {
       "model_id": "aa9cd947148e48f5bd7c857c40a094d3",
       "version_major": 2,
       "version_minor": 0
      },
      "text/plain": [
       "HBox(children=(FloatProgress(value=0.0, description='Batches', max=1053.0, style=ProgressStyle(description_wid…"
      ]
     },
     "metadata": {},
     "output_type": "display_data"
    },
    {
     "name": "stdout",
     "output_type": "stream",
     "text": [
      "\n"
     ]
    },
    {
     "data": {
      "application/vnd.jupyter.widget-view+json": {
       "model_id": "fcacd30316c741ca8682d40b593ca823",
       "version_major": 2,
       "version_minor": 0
      },
      "text/plain": [
       "HBox(children=(FloatProgress(value=0.0, description='Batches', max=1053.0, style=ProgressStyle(description_wid…"
      ]
     },
     "metadata": {},
     "output_type": "display_data"
    },
    {
     "name": "stdout",
     "output_type": "stream",
     "text": [
      "\n"
     ]
    }
   ],
   "source": [
    "def clean_hyp(text):\n",
    "    text = str(text)\n",
    "    dot_id = text.rfind('.')\n",
    "    if dot_id > 0:\n",
    "        text = text[1:dot_id+1]\n",
    "    else:\n",
    "        text = text[1:]\n",
    "        t_id = text.find('\\t')\n",
    "        if t_id > 0:\n",
    "            text = text[:t_id]\n",
    "    return text\n",
    "\n",
    "test_fever.hypothesis = test_fever.hypothesis.apply(clean_hyp)\n",
    "\n",
    "from tqdm.auto import tqdm\n",
    "preds = model.predict_batch(test_fever.claim, test_fever.hypothesis)"
   ]
  },
  {
   "cell_type": "code",
   "execution_count": 24,
   "metadata": {},
   "outputs": [
    {
     "data": {
      "text/plain": [
       "0.7338678544914625"
      ]
     },
     "execution_count": 24,
     "metadata": {},
     "output_type": "execute_result"
    }
   ],
   "source": [
    "preds_df_fever = pd.DataFrame(preds)\n",
    "\n",
    "preds_df_fever['label_true'] = test_fever['label']\n",
    "preds_df_fever['label_true'] = preds_df_fever['label_true']\n",
    "\n",
    "import numpy as np\n",
    "np.mean(preds_df_fever.label == preds_df_fever.label_true)"
   ]
  },
  {
   "cell_type": "code",
   "execution_count": 25,
   "metadata": {},
   "outputs": [
    {
     "data": {
      "text/plain": [
       "0.7044355206717167"
      ]
     },
     "execution_count": 25,
     "metadata": {},
     "output_type": "execute_result"
    }
   ],
   "source": [
    "preds_df_fever_filtered = preds_df_fever[preds_df_fever['label_true'].isin(['SUPPORTS', 'REFUTES'])]\n",
    "np.mean(preds_df_fever_filtered.label == preds_df_fever_filtered.label_true) "
   ]
  },
  {
   "cell_type": "code",
   "execution_count": 26,
   "metadata": {},
   "outputs": [
    {
     "name": "stdout",
     "output_type": "stream",
     "text": [
      "[[8620  612 1549]\n",
      " [2359 6817 1957]\n",
      " [1528  957 9276]]\n",
      "                 precision    recall  f1-score   support\n",
      "\n",
      "       SUPPORTS       0.69      0.80      0.74     10781\n",
      "        REFUTES       0.81      0.61      0.70     11133\n",
      "NOT ENOUGH INFO       0.73      0.79      0.76     11761\n",
      "\n",
      "       accuracy                           0.73     33675\n",
      "      macro avg       0.74      0.73      0.73     33675\n",
      "   weighted avg       0.74      0.73      0.73     33675\n",
      "\n"
     ]
    }
   ],
   "source": [
    "# Importing the dependancies\n",
    "from sklearn import metrics\n",
    "# Predicted values\n",
    "y_pred = preds_df_fever['label']\n",
    "# Actual values\n",
    "y_act = preds_df_fever['label_true']\n",
    "# Printing the confusion matrix\n",
    "# The columns will show the instances predicted for each label,\n",
    "# and the rows will show the actual number of instances for each label.\n",
    "print(metrics.confusion_matrix(y_act, y_pred, labels=['SUPPORTS', 'REFUTES', 'NOT ENOUGH INFO']))\n",
    "# Printing the precision and recall, among other metrics\n",
    "print(metrics.classification_report(y_act, y_pred, labels=['SUPPORTS', 'REFUTES', 'NOT ENOUGH INFO']))"
   ]
  },
  {
   "cell_type": "markdown",
   "metadata": {},
   "source": [
    "## Model performance depending on length of text"
   ]
  },
  {
   "cell_type": "code",
   "execution_count": 43,
   "metadata": {},
   "outputs": [],
   "source": [
    "correctness = (preds_df_fever.label == preds_df_fever.label_true).values\n",
    "length = test_fever.hypothesis.apply(lambda x: len(x.split(' ')))\n",
    "\n",
    "df = pd.DataFrame({'correctness': correctness, 'length':length})\n",
    "\n",
    "one_per = len(df)*0.01"
   ]
  },
  {
   "cell_type": "code",
   "execution_count": 44,
   "metadata": {},
   "outputs": [
    {
     "name": "stdout",
     "output_type": "stream",
     "text": [
      "       correctness                 length\n",
      "              mean count       std  first\n",
      "length                                   \n",
      "10        0.743487   499  0.437146     10\n",
      "11        0.771255   494  0.420450     11\n",
      "12        0.737374   594  0.440432     12\n",
      "13        0.823444   691  0.381568     13\n",
      "14        0.736905   840  0.440576     14\n",
      "15        0.745506  1057  0.435783     15\n",
      "16        0.738289   982  0.439790     16\n",
      "17        0.762800   957  0.425588     17\n",
      "18        0.761155  1143  0.426565     18\n",
      "19        0.787743  1338  0.409059     19\n",
      "20        0.775168  1192  0.417647     20\n",
      "21        0.773946  1305  0.418435     21\n",
      "22        0.739408  1251  0.439133     22\n",
      "23        0.768519  1296  0.421942     23\n",
      "24        0.743750  1280  0.436732     24\n",
      "25        0.753690  1084  0.431060     25\n",
      "26        0.743205  1067  0.437070     26\n",
      "27        0.761905   987  0.426134     27\n",
      "28        0.771292  1045  0.420202     28\n",
      "29        0.746835  1185  0.435008     29\n",
      "30        0.738232   871  0.439850     30\n",
      "31        0.737130   913  0.440434     31\n",
      "32        0.732099   810  0.443139     32\n",
      "33        0.715415   759  0.451514     33\n",
      "34        0.776316   684  0.417018     34\n",
      "35        0.752011   746  0.432135     35\n",
      "36        0.759184   735  0.427870     36\n",
      "37        0.740132   608  0.438923     37\n",
      "38        0.717949   468  0.450480     38\n",
      "39        0.727876   452  0.445546     39\n",
      "40        0.783080   461  0.412595     40\n",
      "41        0.743802   363  0.437135     41\n",
      "42        0.704403   477  0.456790     42\n",
      "------------------------------\n",
      "            mean  count       std  first   ci95_hi   ci95_lo\n",
      "length                                                      \n",
      "10      0.743487    499  0.437146     10  0.781647  0.705327\n",
      "11      0.771255    494  0.420450     11  0.808143  0.734367\n",
      "12      0.737374    594  0.440432     12  0.772612  0.702135\n",
      "13      0.823444    691  0.381568     13  0.851750  0.795139\n",
      "14      0.736905    840  0.440576     14  0.766547  0.707262\n",
      "15      0.745506   1057  0.435783     15  0.771644  0.719368\n",
      "16      0.738289    982  0.439790     16  0.765656  0.710922\n",
      "17      0.762800    957  0.425588     17  0.789627  0.735974\n",
      "18      0.761155   1143  0.426565     18  0.785758  0.736551\n",
      "19      0.787743   1338  0.409059     19  0.809550  0.765936\n",
      "20      0.775168   1192  0.417647     20  0.798757  0.751579\n",
      "21      0.773946   1305  0.418435     21  0.796533  0.751359\n",
      "22      0.739408   1251  0.439133     22  0.763619  0.715198\n",
      "23      0.768519   1296  0.421942     23  0.791374  0.745663\n",
      "24      0.743750   1280  0.436732     24  0.767554  0.719946\n",
      "25      0.753690   1084  0.431060     25  0.779220  0.728160\n",
      "26      0.743205   1067  0.437070     26  0.769297  0.717113\n",
      "27      0.761905    987  0.426134     27  0.788355  0.735455\n",
      "28      0.771292   1045  0.420202     28  0.796639  0.745944\n",
      "29      0.746835   1185  0.435008     29  0.771477  0.722194\n",
      "30      0.738232    871  0.439850     30  0.767294  0.709170\n",
      "31      0.737130    913  0.440434     31  0.765554  0.708707\n",
      "32      0.732099    810  0.443139     32  0.762461  0.701737\n",
      "33      0.715415    759  0.451514     33  0.747373  0.683457\n",
      "34      0.776316    684  0.417018     34  0.807409  0.745223\n",
      "35      0.752011    746  0.432135     35  0.782863  0.721159\n",
      "36      0.759184    735  0.427870     36  0.789959  0.728408\n",
      "37      0.740132    608  0.438923     37  0.774843  0.705420\n",
      "38      0.717949    468  0.450480     38  0.758554  0.677343\n",
      "39      0.727876    452  0.445546     39  0.768742  0.687010\n",
      "40      0.783080    461  0.412595     40  0.820552  0.745608\n",
      "41      0.743802    363  0.437135     41  0.788542  0.699062\n",
      "42      0.704403    477  0.456790     42  0.745187  0.663618\n"
     ]
    }
   ],
   "source": [
    "import math \n",
    "\n",
    "stats = df.groupby('length').agg({'correctness': ['mean', 'count', 'std'], 'length':['first']})\n",
    "stats = stats[stats['correctness']['count'] > one_per]\n",
    "\n",
    "print(stats)\n",
    "print('-'*30)\n",
    "\n",
    "ci95_hi = []\n",
    "ci95_lo = []\n",
    "\n",
    "for i in stats.index:\n",
    "    m, c, s, _ = stats.loc[i]\n",
    "    ci95_hi.append(m + 1.95*s/math.sqrt(c))\n",
    "    ci95_lo.append(m - 1.95*s/math.sqrt(c))\n",
    "\n",
    "stats['ci95_hi'] = ci95_hi\n",
    "stats['ci95_lo'] = ci95_lo\n",
    "stats.columns = list(stats.columns.droplevel())[:-2] + ['ci95_hi', 'ci95_lo']\n",
    "print(stats)"
   ]
  },
  {
   "cell_type": "code",
   "execution_count": 45,
   "metadata": {},
   "outputs": [
    {
     "data": {
      "text/html": [
       "\n",
       "<div id=\"altair-viz-d38705e76e2949a5a55f360b430b21fc\"></div>\n",
       "<script type=\"text/javascript\">\n",
       "  (function(spec, embedOpt){\n",
       "    let outputDiv = document.currentScript.previousElementSibling;\n",
       "    if (outputDiv.id !== \"altair-viz-d38705e76e2949a5a55f360b430b21fc\") {\n",
       "      outputDiv = document.getElementById(\"altair-viz-d38705e76e2949a5a55f360b430b21fc\");\n",
       "    }\n",
       "    const paths = {\n",
       "      \"vega\": \"https://cdn.jsdelivr.net/npm//vega@5?noext\",\n",
       "      \"vega-lib\": \"https://cdn.jsdelivr.net/npm//vega-lib?noext\",\n",
       "      \"vega-lite\": \"https://cdn.jsdelivr.net/npm//vega-lite@4.8.1?noext\",\n",
       "      \"vega-embed\": \"https://cdn.jsdelivr.net/npm//vega-embed@6?noext\",\n",
       "    };\n",
       "\n",
       "    function loadScript(lib) {\n",
       "      return new Promise(function(resolve, reject) {\n",
       "        var s = document.createElement('script');\n",
       "        s.src = paths[lib];\n",
       "        s.async = true;\n",
       "        s.onload = () => resolve(paths[lib]);\n",
       "        s.onerror = () => reject(`Error loading script: ${paths[lib]}`);\n",
       "        document.getElementsByTagName(\"head\")[0].appendChild(s);\n",
       "      });\n",
       "    }\n",
       "\n",
       "    function showError(err) {\n",
       "      outputDiv.innerHTML = `<div class=\"error\" style=\"color:red;\">${err}</div>`;\n",
       "      throw err;\n",
       "    }\n",
       "\n",
       "    function displayChart(vegaEmbed) {\n",
       "      vegaEmbed(outputDiv, spec, embedOpt)\n",
       "        .catch(err => showError(`Javascript Error: ${err.message}<br>This usually means there's a typo in your chart specification. See the javascript console for the full traceback.`));\n",
       "    }\n",
       "\n",
       "    if(typeof define === \"function\" && define.amd) {\n",
       "      requirejs.config({paths});\n",
       "      require([\"vega-embed\"], displayChart, err => showError(`Error loading script: ${err.message}`));\n",
       "    } else if (typeof vegaEmbed === \"function\") {\n",
       "      displayChart(vegaEmbed);\n",
       "    } else {\n",
       "      loadScript(\"vega\")\n",
       "        .then(() => loadScript(\"vega-lite\"))\n",
       "        .then(() => loadScript(\"vega-embed\"))\n",
       "        .catch(showError)\n",
       "        .then(() => displayChart(vegaEmbed));\n",
       "    }\n",
       "  })({\"config\": {\"view\": {\"continuousWidth\": 400, \"continuousHeight\": 300}}, \"layer\": [{\"mark\": {\"type\": \"point\", \"color\": \"black\", \"filled\": true, \"size\": 50}, \"encoding\": {\"x\": {\"type\": \"quantitative\", \"field\": \"first\", \"scale\": {\"domain\": [5, 45]}, \"title\": \"Accuracy\"}, \"y\": {\"type\": \"quantitative\", \"field\": \"mean\", \"scale\": {\"domain\": [0.6, 0.9]}, \"title\": \"Length of sentence\"}}}, {\"mark\": \"errorbar\", \"encoding\": {\"x\": {\"type\": \"quantitative\", \"field\": \"first\", \"title\": \"\"}, \"y\": {\"type\": \"quantitative\", \"field\": \"ci95_lo\", \"title\": \"\"}, \"y2\": {\"field\": \"ci95_hi\"}}}], \"data\": {\"name\": \"data-7f4a7e6e4f50afe6c65a0465bc1c3133\"}, \"height\": 300, \"width\": 600, \"$schema\": \"https://vega.github.io/schema/vega-lite/v4.8.1.json\", \"datasets\": {\"data-7f4a7e6e4f50afe6c65a0465bc1c3133\": [{\"mean\": 0.7434869739478958, \"count\": 499, \"std\": 0.4371464898004336, \"first\": 10, \"ci95_hi\": 0.781647234733364, \"ci95_lo\": 0.7053267131624276}, {\"mean\": 0.771255060728745, \"count\": 494, \"std\": 0.42045040531712524, \"first\": 11, \"ci95_hi\": 0.808143128948134, \"ci95_lo\": 0.7343669925093559}, {\"mean\": 0.7373737373737373, \"count\": 594, \"std\": 0.4404319186033473, \"first\": 12, \"ci95_hi\": 0.7726124613719906, \"ci95_lo\": 0.7021350133754841}, {\"mean\": 0.8234442836468886, \"count\": 691, \"std\": 0.381568468991962, \"first\": 13, \"ci95_hi\": 0.8517496035216793, \"ci95_lo\": 0.7951389637720979}, {\"mean\": 0.736904761904762, \"count\": 840, \"std\": 0.440576002300716, \"first\": 14, \"ci95_hi\": 0.766547328637157, \"ci95_lo\": 0.7072621951723669}, {\"mean\": 0.7455061494796594, \"count\": 1057, \"std\": 0.435782510011845, \"first\": 15, \"ci95_hi\": 0.7716438220799832, \"ci95_lo\": 0.7193684768793357}, {\"mean\": 0.7382892057026477, \"count\": 982, \"std\": 0.4397899668587533, \"first\": 16, \"ci95_hi\": 0.7656560161953545, \"ci95_lo\": 0.7109223952099408}, {\"mean\": 0.7628004179728317, \"count\": 957, \"std\": 0.42558806826460416, \"first\": 17, \"ci95_hi\": 0.789627169457712, \"ci95_lo\": 0.7359736664879514}, {\"mean\": 0.7611548556430446, \"count\": 1143, \"std\": 0.42656457206657344, \"first\": 18, \"ci95_hi\": 0.7857583208741669, \"ci95_lo\": 0.7365513904119224}, {\"mean\": 0.7877428998505231, \"count\": 1338, \"std\": 0.4090587765722205, \"first\": 19, \"ci95_hi\": 0.809549716384191, \"ci95_lo\": 0.7659360833168553}, {\"mean\": 0.7751677852348994, \"count\": 1192, \"std\": 0.4176470077014107, \"first\": 20, \"ci95_hi\": 0.7987565857589882, \"ci95_lo\": 0.7515789847108105}, {\"mean\": 0.7739463601532567, \"count\": 1305, \"std\": 0.4184346525686584, \"first\": 21, \"ci95_hi\": 0.7965332793847548, \"ci95_lo\": 0.7513594409217585}, {\"mean\": 0.7394084732214229, \"count\": 1251, \"std\": 0.43913292955111805, \"first\": 22, \"ci95_hi\": 0.7636188730391305, \"ci95_lo\": 0.7151980734037153}, {\"mean\": 0.7685185185185185, \"count\": 1296, \"std\": 0.42194215010493796, \"first\": 23, \"ci95_hi\": 0.7913737183158693, \"ci95_lo\": 0.7456633187211676}, {\"mean\": 0.74375, \"count\": 1280, \"std\": 0.4367321251969522, \"first\": 24, \"ci95_hi\": 0.7675537162975219, \"ci95_lo\": 0.7199462837024782}, {\"mean\": 0.753690036900369, \"count\": 1084, \"std\": 0.43106006446946965, \"first\": 25, \"ci95_hi\": 0.7792204451649546, \"ci95_lo\": 0.7281596286357833}, {\"mean\": 0.7432052483598875, \"count\": 1067, \"std\": 0.4370700654056988, \"first\": 26, \"ci95_hi\": 0.7692970137409153, \"ci95_lo\": 0.7171134829788598}, {\"mean\": 0.7619047619047619, \"count\": 987, \"std\": 0.4261336378769486, \"first\": 27, \"ci95_hi\": 0.7883545290284993, \"ci95_lo\": 0.7354549947810244}, {\"mean\": 0.7712918660287081, \"count\": 1045, \"std\": 0.4202019629140732, \"first\": 28, \"ci95_hi\": 0.7966393316654314, \"ci95_lo\": 0.7459444003919848}, {\"mean\": 0.7468354430379747, \"count\": 1185, \"std\": 0.4350079924236561, \"first\": 29, \"ci95_hi\": 0.7714772568904513, \"ci95_lo\": 0.722193629185498}, {\"mean\": 0.7382319173363949, \"count\": 871, \"std\": 0.439849604851657, \"first\": 30, \"ci95_hi\": 0.7672942011740854, \"ci95_lo\": 0.7091696334987044}, {\"mean\": 0.7371303395399781, \"count\": 913, \"std\": 0.4404335004288324, \"first\": 31, \"ci95_hi\": 0.7655539712725009, \"ci95_lo\": 0.7087067078074553}, {\"mean\": 0.7320987654320987, \"count\": 810, \"std\": 0.4431394796128547, \"first\": 32, \"ci95_hi\": 0.7624609170943301, \"ci95_lo\": 0.7017366137698674}, {\"mean\": 0.7154150197628458, \"count\": 759, \"std\": 0.4515140817890318, \"first\": 33, \"ci95_hi\": 0.7473734193820087, \"ci95_lo\": 0.6834566201436829}, {\"mean\": 0.7763157894736842, \"count\": 684, \"std\": 0.4170177812189985, \"first\": 34, \"ci95_hi\": 0.8074086825761989, \"ci95_lo\": 0.7452228963711695}, {\"mean\": 0.7520107238605898, \"count\": 746, \"std\": 0.4321353005780132, \"first\": 35, \"ci95_hi\": 0.7828628389200375, \"ci95_lo\": 0.721158608801142}, {\"mean\": 0.7591836734693878, \"count\": 735, \"std\": 0.42787019314904035, \"first\": 36, \"ci95_hi\": 0.7899590216426194, \"ci95_lo\": 0.7284083252961561}, {\"mean\": 0.7401315789473685, \"count\": 608, \"std\": 0.4389233297661323, \"first\": 37, \"ci95_hi\": 0.7748429275293963, \"ci95_lo\": 0.7054202303653406}, {\"mean\": 0.717948717948718, \"count\": 468, \"std\": 0.45047971282688026, \"first\": 38, \"ci95_hi\": 0.7585544105275582, \"ci95_lo\": 0.6773430253698777}, {\"mean\": 0.7278761061946902, \"count\": 452, \"std\": 0.44554647942254527, \"first\": 39, \"ci95_hi\": 0.7687417561198843, \"ci95_lo\": 0.6870104562694962}, {\"mean\": 0.7830802603036876, \"count\": 461, \"std\": 0.41259524863533487, \"first\": 40, \"ci95_hi\": 0.8205523895285288, \"ci95_lo\": 0.7456081310788464}, {\"mean\": 0.743801652892562, \"count\": 363, \"std\": 0.4371351792862662, \"first\": 41, \"ci95_hi\": 0.7885417639102622, \"ci95_lo\": 0.6990615418748617}, {\"mean\": 0.7044025157232704, \"count\": 477, \"std\": 0.45678993829193576, \"first\": 42, \"ci95_hi\": 0.745186716017684, \"ci95_lo\": 0.6636183154288567}]}}, {\"mode\": \"vega-lite\"});\n",
       "</script>"
      ],
      "text/plain": [
       "alt.LayerChart(...)"
      ]
     },
     "execution_count": 45,
     "metadata": {},
     "output_type": "execute_result"
    }
   ],
   "source": [
    "import altair as alt\n",
    "import pandas as pd\n",
    "import numpy as np\n",
    "\n",
    "# the base chart\n",
    "base = alt.Chart(stats)\n",
    "\n",
    "# generate the points\n",
    "points = base.mark_point(\n",
    "    filled=True,\n",
    "    size=50,\n",
    "    color='black'\n",
    ").encode(\n",
    "    x=alt.X('first:Q', title = 'Accuracy', scale=alt.Scale(domain=(5, 45))),\n",
    "    y=alt.Y('mean:Q', title = 'Length of sentence', scale=alt.Scale(domain=(0.6, 0.9)))\n",
    ")\n",
    "\n",
    "# generate the error bars\n",
    "errorbars = base.mark_errorbar().encode(\n",
    "    x=alt.X(\"first:Q\", title = ''),\n",
    "    y=alt.Y(\"ci95_lo:Q\",title = ''),\n",
    "    y2=\"ci95_hi:Q\"\n",
    ")\n",
    "\n",
    "(points + errorbars).properties(\n",
    "    width=600,\n",
    "    height=300\n",
    ")"
   ]
  }
 ],
 "metadata": {
  "kernelspec": {
   "display_name": "ntr",
   "language": "python",
   "name": "ntr"
  },
  "language_info": {
   "codemirror_mode": {
    "name": "ipython",
    "version": 3
   },
   "file_extension": ".py",
   "mimetype": "text/x-python",
   "name": "python",
   "nbconvert_exporter": "python",
   "pygments_lexer": "ipython3",
   "version": "3.7.7"
  }
 },
 "nbformat": 4,
 "nbformat_minor": 2
}
