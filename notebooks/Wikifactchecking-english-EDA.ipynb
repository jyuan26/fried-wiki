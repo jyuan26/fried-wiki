{
 "cells": [
  {
   "cell_type": "code",
   "execution_count": 3,
   "metadata": {},
   "outputs": [],
   "source": [
    "import pandas as pd\n",
    "import numpy as np\n",
    "\n",
    "train_df = pd.read_table('../data/wfc_train.tsv', index_col='Unnamed: 0')"
   ]
  },
  {
   "cell_type": "code",
   "execution_count": 4,
   "metadata": {},
   "outputs": [
    {
     "data": {
      "text/plain": [
       "19478"
      ]
     },
     "execution_count": 4,
     "metadata": {},
     "output_type": "execute_result"
    }
   ],
   "source": [
    "len(train_df)"
   ]
  },
  {
   "cell_type": "code",
   "execution_count": 8,
   "metadata": {},
   "outputs": [
    {
     "name": "stdout",
     "output_type": "stream",
     "text": [
      "\u001b[1mContext: \u001b[0m\n",
      "A lunar sortie (or lunar sortie mission ) is a human spaceflight mission to the Moon.\n",
      "\u001b[1mTrue claim: \u001b[0m\n",
      "In contrast with lunar outpost missions, lunar sorties will be of relatively brief duration.\n",
      "\u001b[1mRefuted claim: \u001b[0m\n",
      "In contrast with lunar outpost missions, lunar sorties will be of relatively longer duration.\n",
      "\n",
      "\n",
      "\u001b[1mContext: \u001b[0m\n",
      "Richard M. Dick Bond (April 23, 1921 – March 25, 2015) was an American politician from Washington State.\n",
      "\u001b[1mTrue claim: \u001b[0m\n",
      "He served the 6th district from 1975 to 1987.\n",
      "\u001b[1mRefuted claim: \u001b[0m\n",
      "He served the 7th district from 1975 to 1987.\n",
      "\n",
      "\n",
      "\u001b[1mContext: \u001b[0m\n",
      "Thomas Wadley Raoul House, also known as Raoulwood, is a historic home located at Asheville, Buncombe County, North Carolina. It was built in 1923, and is a two-story, hollow tile and wood frame dwelling in the Tudor Revival style. It is clad in stucco with half-timbering and has a hipped and gable slate roof. It measures 92 feet, 6 inches long and 20 to 30 feet deep.\n",
      "\u001b[1mTrue claim: \u001b[0m\n",
      "Also on the property is a contributing servant's cottage (1923) in the Bungalow style.\n",
      "\u001b[1mRefuted claim: \u001b[0m\n",
      "Only off the property is any contributing servant's cottage (1923) in the Bungalow style.\n",
      "\n",
      "\n",
      "\u001b[1mContext: \u001b[0m\n",
      "Criticism of her work from John Ruskin, rejection of a major painting by the Royal Academy, and the marriage of her friend Leigh Hunt contributed to a mental breakdown in 1857, after which she ceased to be an active artist. In 1859, Howitt married a childhood friend, the revenue officer Alaric Alfred Watts and moved with him to Chelsea. They shared literary ambitions that resulted in Aurora: a Volume of Verse (1884). This reflected a new-found interest in spiritualism, to which her parents had turned in the early 1850s, as did her book Pioneers of the Spiritual Reformation (1883), which consisted of biographical sketches of the German poet Justinus Kerner and of her father William Howitt, but whose other purpose was to promote spiritualism, Mesmerism and similar phenomena.\n",
      "\u001b[1mTrue claim: \u001b[0m\n",
      "Some contemporaries suggested that she suffered from periodic mental illness in later life.\n",
      "\u001b[1mRefuted claim: \u001b[0m\n",
      "None of the contemporaries suggested that she suffered from periodic mental illness in later life.\n",
      "\n",
      "\n",
      "\u001b[1mContext: \u001b[0m\n",
      "It also contains an extensive network of old logging roads which provide prime cross-country skiing trails. In 1897, William Collins Whitney purchased of land to create the privately owned Whitney Park, including the lands which now comprise this wilderness. After Whitney's death in 1904, his family retained ownership of the tract. In 1997, the family sold a portion of the property to New York State.\n",
      "\u001b[1mTrue claim: \u001b[0m\n",
      "The area was subsequently combined with adjacent state lands to form the present wilderness area.\n",
      "\u001b[1mRefuted claim: \u001b[0m\n",
      "The area was subsequently separated from adjacent state lands to form the present wilderness area.\n",
      "\n",
      "\n",
      "\u001b[1mContext: \u001b[0m\n",
      "Liometopum venerarium is an extinct species of Miocene ants in the genus Liometopum.\n",
      "\u001b[1mTrue claim: \u001b[0m\n",
      "Described by Heer in 1864, fossils of the species were found in Switzerland.\n",
      "\u001b[1mRefuted claim: \u001b[0m\n",
      "Described by Heer in 1864, fossils of the species were brought to Switzerland.\n",
      "\n",
      "\n",
      "\u001b[1mContext: \u001b[0m\n",
      "Construction worker George LaPointe watched the jets disappear behind tree tops, They didn't come back up, he said. They were going full tilt, really screaming, and at the time I thought they were too low. The airframes involved were all T-38A-75-NO Talons, serial numbers 68-8156, - 8175, - 8176 and - 8184. Technical Sergeant Alfred R. King filmed the accident from the ground.\n",
      "\u001b[1mTrue claim: \u001b[0m\n",
      "His footage helped to determine the cause for the AFR 127-4\n",
      "\u001b[1mRefuted claim: \u001b[0m\n",
      "His footage was unhelpful to determine the cause for the AFR 127-4.\n",
      "\n",
      "\n",
      "\u001b[1mContext: \u001b[0m\n",
      "The table below records the fastest ever Paralympic record in this class for specific events. Swimming classification generally has three components. The first is a bench press. The second is water test.\n",
      "\u001b[1mTrue claim: \u001b[0m\n",
      "The third is in competition observation.\n",
      "\u001b[1mRefuted claim: \u001b[0m\n",
      "The second is in competition observation.\n",
      "\n",
      "\n"
     ]
    }
   ],
   "source": [
    "strange_items_ids = [0,5,15,16,17,18,19,20]\n",
    "\n",
    "ok_ids = np.arange(10,20)\n",
    "\n",
    "for i in strange_items_ids:\n",
    "    print(\"\\033[1m\" + 'Context: ' + \"\\033[0m\")\n",
    "    print(train_df.loc[i]['context'])\n",
    "    print(\"\\033[1m\" + 'True claim: ' + \"\\033[0m\")\n",
    "    print(train_df.loc[i]['claim'])\n",
    "    print(\"\\033[1m\" + 'Refuted claim: ' + \"\\033[0m\")\n",
    "    print(train_df.loc[i]['refuted'])\n",
    "    print()\n",
    "    print()"
   ]
  }
 ],
 "metadata": {
  "kernelspec": {
   "display_name": "Python 3",
   "language": "python",
   "name": "python3"
  },
  "language_info": {
   "codemirror_mode": {
    "name": "ipython",
    "version": 3
   },
   "file_extension": ".py",
   "mimetype": "text/x-python",
   "name": "python",
   "nbconvert_exporter": "python",
   "pygments_lexer": "ipython3",
   "version": "3.8.3"
  }
 },
 "nbformat": 4,
 "nbformat_minor": 4
}
