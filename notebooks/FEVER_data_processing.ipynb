{
 "cells": [
  {
   "cell_type": "code",
   "execution_count": null,
   "metadata": {
    "scrolled": true
   },
   "outputs": [],
   "source": [
    "import pandas as pd\n",
    "import numpy as np\n",
    "import json\n",
    "import re\n",
    "from tqdm.auto import tqdm\n",
    "from unidecode import unidecode\n",
    "\n",
    "\n",
    "import sys\n",
    "\n",
    "train = pd.read_json(path_or_buf='../data/fever/train.jsonl', lines=True)\n",
    "test = pd.read_json(path_or_buf='../data/fever/shared_task_dev.jsonl', lines=True)"
   ]
  },
  {
   "cell_type": "code",
   "execution_count": null,
   "metadata": {},
   "outputs": [],
   "source": [
    "sys.path.insert(0, \"/Users/ntr/Documents/tresh/fairapi\")\n",
    "from modules.candidatets_picker import WikiCandidatesSelector\n",
    "\n",
    "MIN_SEN_LEN = 10\n",
    "\n",
    "sel = WikiCandidatesSelector()"
   ]
  },
  {
   "cell_type": "code",
   "execution_count": null,
   "metadata": {
    "scrolled": true
   },
   "outputs": [],
   "source": [
    "test.head(1)"
   ]
  },
  {
   "cell_type": "code",
   "execution_count": null,
   "metadata": {
    "scrolled": true
   },
   "outputs": [],
   "source": [
    "train.head(5)"
   ]
  },
  {
   "cell_type": "code",
   "execution_count": null,
   "metadata": {},
   "outputs": [],
   "source": [
    "def process_breckets(text):\n",
    "    try:\n",
    "        return text.replace('-RRB-', ')').replace('-LRB-', '(').replace('-COLON-', ':').replace('\\t', ' ')\n",
    "    except:\n",
    "        return text\n",
    "\n",
    "def get_all_evidence(x):\n",
    "    res = []\n",
    "    for l in x:\n",
    "        for m in l:\n",
    "            res.append(process_link(m[2]))\n",
    "    return set(res)\n",
    "\n",
    "def process_link(x):\n",
    "    if x is None:\n",
    "        return None\n",
    "    x = process_breckets(x)\n",
    "    new_x = unidecode(x)\n",
    "    if x == new_x:\n",
    "        return new_x\n",
    "    else:\n",
    "        return new_x + '_'\n",
    "\n",
    "train['evidence_sources'] = train['evidence'].apply(get_all_evidence)\n",
    "test['evidence_sources'] = test['evidence'].apply(get_all_evidence)"
   ]
  },
  {
   "cell_type": "code",
   "execution_count": null,
   "metadata": {},
   "outputs": [],
   "source": [
    "test"
   ]
  },
  {
   "cell_type": "code",
   "execution_count": null,
   "metadata": {},
   "outputs": [],
   "source": [
    "all_related_articles = set()\n",
    "\n",
    "for ev in train.evidence_sources.values:\n",
    "    all_related_articles.update(ev)\n",
    "    \n",
    "for ev in test.evidence_sources.values:\n",
    "    all_related_articles.update(ev)\n",
    "    \n",
    "\n",
    "### removing diactric symbols\n",
    "all_related_articles = all_related_articles - {None}  \n",
    "all_related = set()\n",
    "for s in all_related_articles:\n",
    "    all_related.update(set([unidecode(s)])) "
   ]
  },
  {
   "cell_type": "code",
   "execution_count": null,
   "metadata": {},
   "outputs": [],
   "source": [
    "len(all_related_articles)"
   ]
  },
  {
   "cell_type": "markdown",
   "metadata": {},
   "source": [
    "### Reading wikipedia dump:"
   ]
  },
  {
   "cell_type": "code",
   "execution_count": null,
   "metadata": {},
   "outputs": [],
   "source": [
    "dfs = []\n",
    "for i in tqdm(range(1, 110)):\n",
    "    if len(str(i))==1:\n",
    "        s = '00'+str(i)\n",
    "    elif len(str(i))==2:\n",
    "        s = '0'+str(i)\n",
    "    else:\n",
    "        s = str(i)\n",
    "    dfs.append(pd.read_json(path_or_buf=f'../data/wiki-pages/wiki-pages/wiki-{s}.jsonl', lines=True))\n",
    "    \n",
    "df_wiki = pd.concat(dfs, axis = 0)\n",
    "del dfs"
   ]
  },
  {
   "cell_type": "code",
   "execution_count": null,
   "metadata": {
    "scrolled": true
   },
   "outputs": [],
   "source": [
    "### filtering\n",
    "df_wiki.id = df_wiki.id.apply(lambda x: process_link(x))\n",
    "# df_wiki = df_wiki[df_wiki.id.isin(all_related)]"
   ]
  },
  {
   "cell_type": "markdown",
   "metadata": {},
   "source": [
    "### Converting FEVER dataset into SNLI style data"
   ]
  },
  {
   "cell_type": "markdown",
   "metadata": {},
   "source": [
    "#### Wikipedia dump to dict (consider using Redis for that)"
   ]
  },
  {
   "cell_type": "code",
   "execution_count": null,
   "metadata": {
    "scrolled": true
   },
   "outputs": [],
   "source": [
    "converted_dataset = {}\n",
    "\n",
    "for i, row in tqdm(df_wiki.iterrows()):\n",
    "    page_text = {}\n",
    "    for line in row.lines.split('\\n'):\n",
    "        try:\n",
    "            m = re.match(r'(\\d+)+(.*)', line)\n",
    "            page_text.update({int(m.group(1)):m.group(2)})\n",
    "        except:\n",
    "            pass\n",
    "    converted_dataset.update({row.id:page_text})"
   ]
  },
  {
   "cell_type": "markdown",
   "metadata": {},
   "source": [
    "#### Converting relations to SNLI like dataset"
   ]
  },
  {
   "cell_type": "code",
   "execution_count": null,
   "metadata": {
    "scrolled": true
   },
   "outputs": [],
   "source": [
    "def fever_oversample(articles_used, sentences_used):\n",
    "    returned_sentences = []\n",
    "    iterator_lock = 0\n",
    "    while len(returned_sentences) < len(sentences_used):\n",
    "        article = np.random.choice(articles_used)\n",
    "        sentences_set = converted_dataset.get(article, None)\n",
    "        if sentences_set:\n",
    "            sentences_set = list(sentences_set.keys())\n",
    "            picked_sentence = np.random.choice(sentences_set)\n",
    "\n",
    "            if ((picked_sentence in sentences_used) or (picked_sentence in returned_sentences) or\n",
    "                (len(converted_dataset[article][picked_sentence]) < MIN_SEN_LEN) or\n",
    "                 picked_sentence == '\\t'):\n",
    "                pass\n",
    "            else:\n",
    "                returned_sentences.append(converted_dataset[article][picked_sentence])\n",
    "\n",
    "        iterator_lock += 1\n",
    "        if iterator_lock > 25:\n",
    "            break\n",
    "            \n",
    "    return returned_sentences\n",
    "\n",
    "\n",
    "def fill_NEI_text(claim):\n",
    "    res = sel.getting_wiki_candidates_NER(claim)\n",
    "    \n",
    "    ### try to get from FEVER\n",
    "    for candidate in res:\n",
    "        article = converted_dataset.get(process_link(candidate))\n",
    "        if article:\n",
    "            keys = list(article.keys())\n",
    "            iterator_lock = 0\n",
    "            while True:\n",
    "                iterator_lock += 1\n",
    "                i = np.random.choice(keys)\n",
    "                if len(article[i]) < MIN_SEN_LEN:\n",
    "                    pass\n",
    "                else:\n",
    "                    return article[i]\n",
    "                if iterator_lock > 25:\n",
    "                    break\n",
    "    \n",
    "    candidate = np.random.choice(list(res))\n",
    "    return np.random.choice(wikipedia.page(candidate).summary.split(\". \"))\n",
    "                    \n",
    "            \n",
    "\n",
    "    \n",
    "def convert_to_snli_style(df, NEI_filling = False, FEVER_sampling = False):\n",
    "    labels = []\n",
    "    claims = []\n",
    "    hypothesis = []\n",
    "\n",
    "    for i, row in tqdm(df.iterrows()):\n",
    "        \n",
    "        articles_used = []\n",
    "        ids_used = []\n",
    "        \n",
    "        # ------ Adding lables that already present in dataset ------ #\n",
    "        #         collecting evidences\n",
    "        evidences = set()\n",
    "        for evidence in row.evidence:\n",
    "            for little_evidence in evidence:\n",
    "                if little_evidence[2] is not None:\n",
    "                    evidences.add((little_evidence[2], little_evidence[3]))\n",
    "        \n",
    "        for evidence in evidences:   \n",
    "            labels.append(row.label)\n",
    "            claims.append(row.claim)\n",
    "            hypothesis.append(converted_dataset.get(process_link(evidence[0]), {}).get(evidence[1], None))\n",
    "            articles_used.append(process_link(evidence[0]))\n",
    "            ids_used.append(evidence[1])\n",
    "            \n",
    "        # ------ Adding negative sample texts for NEI labaled samples using wikipedia API------- #\n",
    "        if NEI_filling and (row.label == 'NOT ENOUGH INFO'):\n",
    "            labels.append(row.label)\n",
    "            claims.append(row.claim)\n",
    "            hypothesis.append(None)\n",
    "            labels.append(row.label)\n",
    "            claims.append(row.claim)\n",
    "            hypothesis.append(None)\n",
    "         \n",
    "        # ------ Oversampling texts with NEI labled from lables present ------ #\n",
    "        if FEVER_sampling and (len(articles_used) > 0):\n",
    "            new_sentences_samples = fever_oversample(articles_used, ids_used)\n",
    "            \n",
    "            for evidence in new_sentences_samples:\n",
    "                labels.append('NOT ENOUGH INFO')\n",
    "                claims.append(row.claim)\n",
    "                hypothesis.append(evidence)\n",
    "            \n",
    "    return pd.DataFrame({'claim':claims, 'hypothesis':hypothesis, 'label':labels})\n",
    "\n",
    "# train_processed = convert_to_snli_style(train, FEVER_sampling = True, NEI_filling = False)\n",
    "# test_processed = convert_to_snli_style(test, NEI_filling = True)"
   ]
  },
  {
   "cell_type": "code",
   "execution_count": null,
   "metadata": {},
   "outputs": [],
   "source": [
    "# train_processed.to_csv(\"../data/fever/train_snli_style_sampling_2.csv\", index = False)\n",
    "# test_processed.to_csv(\"../data/fever/test_snli_style_sampling.csv\", index = False)"
   ]
  },
  {
   "cell_type": "markdown",
   "metadata": {},
   "source": [
    "## Building true Fever testset\n",
    "\n",
    "Select candidates from model one (can be done in parallel) -> get corresponding texts from FEVER -> if texts are not found select directly from wikipedia\n"
   ]
  },
  {
   "cell_type": "code",
   "execution_count": null,
   "metadata": {
    "scrolled": true
   },
   "outputs": [],
   "source": [
    "test_processed = convert_to_snli_style(test, NEI_filling = True)"
   ]
  },
  {
   "cell_type": "code",
   "execution_count": null,
   "metadata": {},
   "outputs": [],
   "source": [
    "import pickle\n",
    "with open('/Users/ntr/Documents/tresh/parsed_candidates.pickle', 'rb') as handle:\n",
    "    b = pickle.load(handle)\n",
    "    \n",
    "results = b['results']\n",
    "index, query, candidates = results[0], results[1], results[2]\n",
    "\n",
    "candidates_df = pd.DataFrame({'query':query, 'candidates':candidates})\n",
    "candidates_df = candidates_df.drop_duplicates('query')\n",
    "\n",
    "test_processed = test_processed.merge(candidates_df, left_on='claim', right_on='query')"
   ]
  },
  {
   "cell_type": "code",
   "execution_count": null,
   "metadata": {},
   "outputs": [],
   "source": [
    "test = test.merge(candidates_df, left_on='claim', right_on='query')"
   ]
  },
  {
   "cell_type": "code",
   "execution_count": null,
   "metadata": {},
   "outputs": [],
   "source": [
    "# ------------ filling_passed_queries ----------------- #\n",
    "from flair.data import Sentence\n",
    "from flair.models import SequenceTagger\n",
    "import wikipedia\n",
    "\n",
    "tagger = SequenceTagger.load('ner-fast') #'ner-fast'\n",
    "\n",
    "def getting_wiki_candidates_raw(query, n = 10):\n",
    "    search_results = wikipedia.search(query, results=n)\n",
    "    return [t.replace(' ', '_') for t in search_results]\n",
    "\n",
    "def get_enteties_flair(text):\n",
    "    # make and process sentence\n",
    "    sentence = Sentence(text)\n",
    "    tagger.predict(sentence)\n",
    "    ents = []\n",
    "    # iterate over entities and print\n",
    "    for entity in sentence.get_spans('ner'):\n",
    "        ents.append(entity.text)\n",
    "    return ents\n",
    "\n",
    "def getting_wiki_candidates_NER(i, query, \n",
    "                                n = 10, \n",
    "                                separate = True,\n",
    "                                verbose = True):\n",
    "    \n",
    "    ents = get_enteties_flair(query) \n",
    "    # extenting enteties if needed\n",
    "    \n",
    "    search_results = getting_wiki_candidates_raw(query, n=n)\n",
    "    \n",
    "    if not separate:\n",
    "        search_results_en = getting_wiki_candidates_raw(' '.join(ents), n=n)\n",
    "    \n",
    "    else:\n",
    "        search_results_en = []\n",
    "        for e in ents:\n",
    "            search_results_en += getting_wiki_candidates_raw(e, n=n)\n",
    "#     print(i, search_results_en)\n",
    "\n",
    "    return i, query, set([t.replace(' ', '_') for t in search_results + search_results_en])\n",
    "\n",
    "conf = {'n':3, 'separate': True}\n",
    "def getting_wiki_candidates_with_params(query):\n",
    "    return getting_wiki_candidates_NER(0, query, **conf)[2]\n"
   ]
  },
  {
   "cell_type": "code",
   "execution_count": null,
   "metadata": {},
   "outputs": [],
   "source": [
    "def fill_candidates(query):\n",
    "    new_query = ''\n",
    "    for word in query.split(' '):\n",
    "        try:\n",
    "            if word[0].isupper():\n",
    "                new_query += word + ' '\n",
    "        except:\n",
    "            pass\n",
    "    ### - query with capital letter\n",
    "    res = getting_wiki_candidates_with_params(new_query)\n",
    "    \n",
    "    ### - query with only start of sentence\n",
    "    res.update(getting_wiki_candidates_with_params(' '.join(query.split(' ')[:3])))\n",
    "    \n",
    "    return res\n",
    "\n",
    "for index, row in tqdm(test_processed.iterrows()):\n",
    "    if len(row['candidates']) == 0:\n",
    "        candidates = fill_candidates(row['claim'])\n",
    "        test_processed.loc[index, ['candidates']] = [candidates]\n",
    "        \n",
    "for index, row in tqdm(test.iterrows()):\n",
    "    if len(row['candidates']) == 0:\n",
    "        candidates = fill_candidates(row['claim'])\n",
    "        test.loc[index, ['candidates']] = [candidates]"
   ]
  },
  {
   "cell_type": "code",
   "execution_count": null,
   "metadata": {},
   "outputs": [],
   "source": [
    "def fill_NEI_text(claim, candidates):\n",
    "    if len(candidates) < 1:\n",
    "        return ' '\n",
    "    ### try to get from FEVER\n",
    "    for candidate in candidates:\n",
    "        article = converted_dataset.get(process_link(candidate))\n",
    "        if article:\n",
    "            keys = list(article.keys())\n",
    "            iterator_lock = 0\n",
    "            while True:\n",
    "                iterator_lock += 1\n",
    "                i = np.random.choice(keys)\n",
    "                if len(article[i]) < MIN_SEN_LEN:\n",
    "                    pass\n",
    "                else:\n",
    "                    return article[i]\n",
    "                if iterator_lock > 25:\n",
    "                    break\n",
    "    \n",
    "    candidate = np.random.choice(list(candidates))\n",
    "    iterator_lock = 0\n",
    "    while True:\n",
    "        iterator_lock += 1\n",
    "        try:\n",
    "            return np.random.choice(wikipedia.page(candidate).summary.split(\". \"))\n",
    "        except: pass\n",
    "        if iterator_lock > 25:\n",
    "            return ' '\n",
    "        \n",
    "\n",
    "def fill_NEI_dataset(dataset):\n",
    "    new_hypothesis = []\n",
    "    for claim, hypothesis, candidates in tqdm(zip(dataset.claim.values, dataset.hypothesis.values, dataset.candidates.values)):\n",
    "        if hypothesis is None:\n",
    "            new_hypothesis.append(fill_NEI_text(claim, candidates))\n",
    "        else:\n",
    "            new_hypothesis.append(hypothesis)\n",
    "    dataset['hypothesis'] = new_hypothesis\n",
    "    return dataset"
   ]
  },
  {
   "cell_type": "code",
   "execution_count": null,
   "metadata": {
    "scrolled": true
   },
   "outputs": [],
   "source": [
    "test_processed = fill_NEI_dataset(test_processed)"
   ]
  },
  {
   "cell_type": "code",
   "execution_count": null,
   "metadata": {
    "scrolled": true
   },
   "outputs": [],
   "source": [
    "test_processed.head()"
   ]
  },
  {
   "cell_type": "code",
   "execution_count": null,
   "metadata": {},
   "outputs": [],
   "source": [
    "test_processed.label.value_counts()"
   ]
  },
  {
   "cell_type": "code",
   "execution_count": null,
   "metadata": {
    "scrolled": true
   },
   "outputs": [],
   "source": [
    "test_processed.to_csv('test_oversampled.csv', \n",
    "                      index = False)"
   ]
  },
  {
   "cell_type": "markdown",
   "metadata": {},
   "source": [
    "### Texts collection and saving:"
   ]
  },
  {
   "cell_type": "code",
   "execution_count": null,
   "metadata": {},
   "outputs": [],
   "source": [
    "# ------------ collecting texts for FEVER validation ----------------- #\n",
    "def get_texts_for_validation(candidates):\n",
    "    text_candidates = dict()\n",
    "    ### try to get from FEVER\n",
    "    if len(candidates) < 1:\n",
    "        return dict()\n",
    "    for candidate in candidates:\n",
    "        article = converted_dataset.get(process_link(candidate))\n",
    "        if article:\n",
    "            text_candidates[candidate] = article\n",
    "        else:\n",
    "            text_candidates[candidate] = {}\n",
    "#             print(candidate)\n",
    "#             try:\n",
    "#                 text_wiki = wikipedia.page(candidate).summary.split(\". \")\n",
    "#                 text_candidates[candidate] = {i:sentence for i, sentence in enumerate(text_wiki)}\n",
    "#             except:\n",
    "#                 pass\n",
    "    return text_candidates"
   ]
  },
  {
   "cell_type": "code",
   "execution_count": null,
   "metadata": {},
   "outputs": [],
   "source": [
    "fever_full_test = {claim:get_texts_for_validation(candidates) for claim, candidates in tqdm(zip(test.claim.values, test.candidates.values))}"
   ]
  },
  {
   "cell_type": "code",
   "execution_count": null,
   "metadata": {},
   "outputs": [],
   "source": [
    "import pickle\n",
    "\n",
    "with open('fever_end_test.pickle', 'wb') as handle:\n",
    "    pickle.dump(fever_full_test, handle, protocol=pickle.HIGHEST_PROTOCOL)"
   ]
  },
  {
   "cell_type": "markdown",
   "metadata": {},
   "source": [
    "### Finding rate of not found articles"
   ]
  },
  {
   "cell_type": "code",
   "execution_count": null,
   "metadata": {},
   "outputs": [],
   "source": [
    "not_found_at_all = 0\n",
    "not_found_candidates = 0\n",
    "total_candidates = 0\n",
    "\n",
    "for key in fever_full_test:\n",
    "    candidates = fever_full_test[key].keys()\n",
    "    total_items = len(candidates)\n",
    "    found_items = 0\n",
    "    for c in candidates:\n",
    "        if len(fever_full_test[key][c]) != 0:\n",
    "            found_items += 1\n",
    "    \n",
    "    total_candidates += total_items\n",
    "    not_found_candidates += (total_items - found_items)\n",
    "    if found_items == 0:\n",
    "        not_found_at_all += 1\n",
    "    \n",
    "    "
   ]
  },
  {
   "cell_type": "code",
   "execution_count": null,
   "metadata": {
    "scrolled": true
   },
   "outputs": [],
   "source": [
    "print(not_found_at_all)\n",
    "print(not_found_candidates)\n",
    "print(total_candidates)"
   ]
  },
  {
   "cell_type": "code",
   "execution_count": null,
   "metadata": {},
   "outputs": [],
   "source": [
    "print(not_found_at_all)\n",
    "print(not_found_candidates)\n",
    "print(total_candidates)"
   ]
  },
  {
   "cell_type": "code",
   "execution_count": null,
   "metadata": {},
   "outputs": [],
   "source": [
    "14373/124843"
   ]
  },
  {
   "cell_type": "markdown",
   "metadata": {},
   "source": [
    "## Getting candidates for aggregation training:"
   ]
  },
  {
   "cell_type": "code",
   "execution_count": null,
   "metadata": {},
   "outputs": [],
   "source": [
    "import pickle\n",
    "\n",
    "with open('nei_res.pickle', 'rb') as handle:\n",
    "    b = pickle.load(handle)\n",
    "\n",
    "d = b['results']"
   ]
  },
  {
   "cell_type": "code",
   "execution_count": null,
   "metadata": {},
   "outputs": [],
   "source": [
    "di = {c:h for c,h in d}"
   ]
  },
  {
   "cell_type": "code",
   "execution_count": null,
   "metadata": {},
   "outputs": [],
   "source": [
    "train['picked_article'] = train.claim.apply(lambda x: di.get(x, []))\n",
    "train.head()"
   ]
  },
  {
   "cell_type": "code",
   "execution_count": null,
   "metadata": {},
   "outputs": [],
   "source": [
    "ids_to_use = []\n",
    "\n",
    "ids_to_use.append(np.random.choice(train[(train.label == 'NOT ENOUGH INFO') & (train.picked_article.apply(len) > 0)].id.values, 5000, replace = False))\n",
    "ids_to_use.append(np.random.choice(train[train.label == 'SUPPORTS'].id.values, 5000, replace = False))\n",
    "ids_to_use.append(np.random.choice(train[train.label == 'REFUTES'].id.values, 5000, replace = False))"
   ]
  },
  {
   "cell_type": "code",
   "execution_count": null,
   "metadata": {},
   "outputs": [],
   "source": [
    "ranking_train = pd.concat([train[train.id.isin(ids_to_use[i])] for i in range(3)], axis = 0)\n",
    "\n"
   ]
  },
  {
   "cell_type": "code",
   "execution_count": null,
   "metadata": {},
   "outputs": [],
   "source": [
    "ranking_train"
   ]
  },
  {
   "cell_type": "code",
   "execution_count": null,
   "metadata": {},
   "outputs": [],
   "source": [
    "# ------------ collecting texts for FEVER validation ----------------- #\n",
    "def get_texts_for_validation(candidates):\n",
    "    text_candidates = dict()\n",
    "    ### try to get from FEVER\n",
    "    if candidates is None:\n",
    "#         print(1)\n",
    "        return dict()\n",
    "    if list(candidates)[0] is None:\n",
    "#         print(2)\n",
    "        return dict()\n",
    "    if len(candidates) < 1:\n",
    "#         print(3)\n",
    "        return dict()\n",
    "    for candidate in candidates:\n",
    "        article = converted_dataset.get(process_link(candidate))\n",
    "        if article:\n",
    "            text_candidates[candidate] = article\n",
    "        else:\n",
    "            text_candidates[candidate] = {}\n",
    "    return text_candidates"
   ]
  },
  {
   "cell_type": "code",
   "execution_count": null,
   "metadata": {
    "scrolled": true
   },
   "outputs": [],
   "source": [
    "ranking_train_agg = {(claim, lable):get_texts_for_validation(candidates) for lable, claim, candidates in tqdm(zip(ranking_train.label.values, ranking_train.claim.values, ranking_train.evidence_sources.values))}\n",
    "\n",
    "for lable, claim, picked_article in tqdm(zip(ranking_train.label.values, ranking_train.claim.values, ranking_train.picked_article.values)):\n",
    "    if len(picked_article)>0:\n",
    "        ranking_train_agg.update({(claim, lable):get_texts_for_validation(picked_article)})\n",
    "\n",
    "import pickle\n",
    "\n",
    "with open('train_set_labling.pickle', 'wb') as handle:\n",
    "    pickle.dump(ranking_train_agg, handle, protocol=pickle.HIGHEST_PROTOCOL)\n",
    "    \n"
   ]
  },
  {
   "cell_type": "code",
   "execution_count": null,
   "metadata": {},
   "outputs": [],
   "source": [
    "dataset_ev = []\n",
    "\n",
    "for claim, e, l in zip(ranking_train.claim.values,ranking_train.evidence.values,ranking_train.label.values):\n",
    "    evidences = set()\n",
    "    for evidence in e:\n",
    "        for little_evidence in evidence:\n",
    "            if little_evidence[2] is not None:\n",
    "                evidences.add((little_evidence[2], little_evidence[3]))\n",
    "    \n",
    "    if len(evidences)>0:\n",
    "        dataset_ev.append((claim, evidences, l))"
   ]
  },
  {
   "cell_type": "code",
   "execution_count": null,
   "metadata": {},
   "outputs": [],
   "source": [
    "with open('train_set_labling_ranking.pickle', 'wb') as handle:\n",
    "    pickle.dump(dataset_ev, handle, protocol=pickle.HIGHEST_PROTOCOL)"
   ]
  }
 ],
 "metadata": {
  "kernelspec": {
   "display_name": "Python 3",
   "language": "python",
   "name": "python3"
  },
  "language_info": {
   "codemirror_mode": {
    "name": "ipython",
    "version": 3
   },
   "file_extension": ".py",
   "mimetype": "text/x-python",
   "name": "python",
   "nbconvert_exporter": "python",
   "pygments_lexer": "ipython3",
   "version": "3.8.3"
  }
 },
 "nbformat": 4,
 "nbformat_minor": 4
}
