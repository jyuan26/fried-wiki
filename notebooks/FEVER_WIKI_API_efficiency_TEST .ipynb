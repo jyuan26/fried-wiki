{
 "cells": [
  {
   "cell_type": "code",
   "execution_count": 1,
   "metadata": {
    "scrolled": true
   },
   "outputs": [],
   "source": [
    "# !pip install wikipedia\n",
    "# !pip install -U spacy\n",
    "# !python -m spacy download en_core_web_trf"
   ]
  },
  {
   "cell_type": "code",
   "execution_count": 1,
   "metadata": {},
   "outputs": [
    {
     "name": "stdout",
     "output_type": "stream",
     "text": [
      "2021-04-27 19:56:21,921 --------------------------------------------------------------------------------\n",
      "2021-04-27 19:56:21,924 The model key 'ner-fast' now maps to 'https://huggingface.co/flair/ner-english-fast' on the HuggingFace ModelHub\n",
      "2021-04-27 19:56:21,924  - The most current version of the model is automatically downloaded from there.\n",
      "2021-04-27 19:56:21,925  - (you can alternatively manually download the original model at https://nlp.informatik.hu-berlin.de/resources/models/ner-fast/en-ner-fast-conll03-v0.4.pt)\n",
      "2021-04-27 19:56:21,925 --------------------------------------------------------------------------------\n",
      "2021-04-27 19:56:22,548 loading file /Users/ntr/.flair/models/ner-english-fast/4c58e7191ff952c030b82db25b3694b58800b0e722ff15427f527e1631ed6142.e13c7c4664ffe2bbfa8f1f5375bd0dced866b8c1dd7ff89a6d705518abf0a611\n"
     ]
    }
   ],
   "source": [
    "import pandas as pd\n",
    "import numpy as np\n",
    "import json\n",
    "import re\n",
    "import pickle\n",
    "from tqdm.auto import tqdm\n",
    "import time\n",
    "\n",
    "import wikipedia\n",
    "import spacy\n",
    "import unidecode\n",
    "from tqdm.auto import tqdm\n",
    "from multiprocessing import Process, Pool\n",
    "\n",
    "from flair.data import Sentence\n",
    "from flair.models import SequenceTagger\n",
    "\n",
    "# load the NER tagger\n",
    "tagger = SequenceTagger.load('ner-fast') #'ner-fast'\n",
    "\n",
    "nlp1 = spacy.load(\"en_core_web_sm\")\n",
    "nlp2 = spacy.load(\"en_core_web_trf\")\n",
    "\n",
    "def getting_wiki_candidates_raw(query, n = 10):\n",
    "    search_results = wikipedia.search(query, results=n)\n",
    "    return [t.replace(' ', '_') for t in search_results]\n",
    "\n",
    "def get_enteties_spacy_sm(text):\n",
    "    doc = nlp1(text)\n",
    "    ents = []\n",
    "    for ent in doc.ents:\n",
    "         ents.append(ent.text)\n",
    "    return ents\n",
    "\n",
    "def get_enteties_spacy_trf(text):\n",
    "    doc = nlp2(text)\n",
    "    ents = []\n",
    "    for ent in doc.ents:\n",
    "         ents.append(ent.text)\n",
    "    return ents\n",
    "\n",
    "def get_enteties_flair(text):\n",
    "    # make and process sentence\n",
    "    sentence = Sentence(text)\n",
    "    tagger.predict(sentence)\n",
    "    ents = []\n",
    "    # iterate over entities and print\n",
    "    for entity in sentence.get_spans('ner'):\n",
    "        ents.append(entity.text)\n",
    "    return ents\n",
    "\n",
    "def query_extending_with_entities(text, ents, extend = True):\n",
    "    # getting NE\n",
    "    if not extend:\n",
    "        return ents\n",
    "    else:\n",
    "        for e in ents:\n",
    "            tokens_b = re.findall(f'{e} \\(.*?\\)',text)\n",
    "            if len(tokens_b) > 0:\n",
    "                ents.remove(e)\n",
    "                ents.append(tokens_b[0])\n",
    "        return ents\n",
    "\n",
    "def getting_wiki_candidates_NER(i, query, \n",
    "                                ents_name: str = None, \n",
    "                                n: int = 10, \n",
    "                                extend: bool = False, \n",
    "                                separate: bool = True,\n",
    "                                verbose = True):\n",
    "    i+=1\n",
    "    \n",
    "    # getting enteties\n",
    "    if ents_name == 'spacy_en':\n",
    "        ents = get_enteties_spacy_sm(query)\n",
    "    elif ents_name == 'spacy_trf':\n",
    "        ents = get_enteties_spacy_trf(query)\n",
    "    elif ents_name == 'flair':\n",
    "        ents = get_enteties_flair(query)\n",
    "    else:\n",
    "        ents = []\n",
    "        \n",
    "    # extenting enteties if needed\n",
    "    ents = query_extending_with_entities(query, ents, extend = extend) \n",
    "    \n",
    "    if verbose:\n",
    "        print(i)\n",
    "        print(query)\n",
    "        print(ents)\n",
    "    \n",
    "    search_results = getting_wiki_candidates_raw(query, n=n)\n",
    "    \n",
    "    if not separate:\n",
    "        search_results_en = getting_wiki_candidates_raw(' '.join(ents), n=n)\n",
    "    \n",
    "    else:\n",
    "        search_results_en = []\n",
    "        for e in ents:\n",
    "            search_results_en += getting_wiki_candidates_raw(e, n=n)\n",
    "\n",
    "    return query, set([t.replace(' ', '_') for t in search_results + search_results_en])\n",
    "\n",
    "\n",
    "configs = [{'ents_name':None, 'n':10, 'extend':False, 'separate': True},\n",
    "          {'ents_name':None, 'n':30, 'extend':False, 'separate': True},\n",
    "          {'ents_name':None, 'n':50, 'extend':False, 'separate': True},\n",
    "          {'ents_name':'spacy_en', 'n':10, 'extend':False, 'separate': False},\n",
    "          {'ents_name':'spacy_en', 'n':30, 'extend':False, 'separate': False},\n",
    "          {'ents_name':'spacy_en', 'n':50, 'extend':False, 'separate': False},\n",
    "          {'ents_name':'spacy_en', 'n':10, 'extend':False, 'separate': True},\n",
    "          {'ents_name':'spacy_en', 'n':10, 'extend':True, 'separate': True},\n",
    "          {'ents_name':'spacy_trf', 'n':10, 'extend':False, 'separate': False},\n",
    "          {'ents_name':'spacy_trf', 'n':3, 'extend':False, 'separate': True},\n",
    "          {'ents_name':'spacy_trf', 'n':5, 'extend':False, 'separate': True},\n",
    "          {'ents_name':'spacy_trf', 'n':10, 'extend':False, 'separate': True},\n",
    "          {'ents_name':'spacy_trf', 'n':10, 'extend':True, 'separate': True},\n",
    "          {'ents_name':'flair', 'n':10, 'extend':False, 'separate': False},\n",
    "          {'ents_name':'flair', 'n':3, 'extend':False, 'separate': True},\n",
    "          {'ents_name':'flair', 'n':5, 'extend':False, 'separate': True},\n",
    "          {'ents_name':'flair', 'n':10, 'extend':False, 'separate': True},\n",
    "          {'ents_name':'flair', 'n':10, 'extend':True, 'separate': True}]\n",
    "\n",
    "all_fever = pd.read_csv('all_fever_upd.csv')\n",
    "all_fever = all_fever.head(10)\n",
    "input_iterable = all_fever.claim.values\n",
    "\n",
    "# time_performance = []\n",
    "# for conf in tqdm(configs):\n",
    "#     start = time.time()\n",
    "    \n",
    "#     def getting_wiki_candidates_with_params(i, query):\n",
    "#         return getting_wiki_candidates_NER(i, query, **conf)\n",
    "    \n",
    "#     pool = Pool(processes=20) # Initalize a pool of n processes\n",
    "#     results = []\n",
    "#     def get_result(result):\n",
    "#         global results\n",
    "#         results.append(result)\n",
    "#     for i in range(0, len(input_iterable)):\n",
    "#         pool.apply_async(getting_wiki_candidates_with_params, args = (i, input_iterable[i]), callback=get_result)\n",
    "#     pool.close() # this means that no more tasks will be added to the pool\n",
    "#     pool.join()  \n",
    "#     end = time.time()\n",
    "    \n",
    "#     time_performance.append(end - start)\n",
    "    \n",
    "# print(time_performance)"
   ]
  },
  {
   "cell_type": "code",
   "execution_count": 43,
   "metadata": {},
   "outputs": [
    {
     "data": {
      "text/plain": [
       "{'ents_name': None, 'n': 10, 'extend': False, 'separate': True}"
      ]
     },
     "execution_count": 43,
     "metadata": {},
     "output_type": "execute_result"
    }
   ],
   "source": [
    "configs = [{'ents_name':None, 'n':10, 'extend':False, 'separate': True},\n",
    "          {'ents_name':None, 'n':30, 'extend':False, 'separate': True},\n",
    "          {'ents_name':None, 'n':50, 'extend':False, 'separate': True},\n",
    "          {'ents_name':'spacy_en', 'n':10, 'extend':False, 'separate': False},\n",
    "          {'ents_name':'spacy_en', 'n':30, 'extend':False, 'separate': False},\n",
    "          {'ents_name':'spacy_en', 'n':50, 'extend':False, 'separate': False},\n",
    "          {'ents_name':'spacy_en', 'n':10, 'extend':False, 'separate': True},\n",
    "          {'ents_name':'spacy_en', 'n':10, 'extend':True, 'separate': True},\n",
    "          {'ents_name':'spacy_trf', 'n':10, 'extend':False, 'separate': False},\n",
    "          {'ents_name':'spacy_trf', 'n':3, 'extend':False, 'separate': True},\n",
    "          {'ents_name':'spacy_trf', 'n':5, 'extend':False, 'separate': True},\n",
    "          {'ents_name':'spacy_trf', 'n':10, 'extend':False, 'separate': True},\n",
    "          {'ents_name':'spacy_trf', 'n':10, 'extend':True, 'separate': True},\n",
    "          {'ents_name':'flair', 'n':10, 'extend':False, 'separate': False},\n",
    "          {'ents_name':'flair', 'n':3, 'extend':False, 'separate': True},\n",
    "          {'ents_name':'flair', 'n':5, 'extend':False, 'separate': True},\n",
    "          {'ents_name':'flair', 'n':10, 'extend':False, 'separate': True},\n",
    "          {'ents_name':'flair', 'n':10, 'extend':True, 'separate': True}]\n",
    "\n",
    "configs[0]"
   ]
  },
  {
   "cell_type": "code",
   "execution_count": 2,
   "metadata": {
    "scrolled": true
   },
   "outputs": [
    {
     "name": "stdout",
     "output_type": "stream",
     "text": [
      "2\n",
      "Stranger Things is set in Bloomington, Indiana.\n",
      "['Stranger Things', 'Bloomington', 'Indiana']\n"
     ]
    },
    {
     "data": {
      "text/plain": [
       "('Stranger Things is set in Bloomington, Indiana.',\n",
       " {'Alfred_Schütz',\n",
       "  'Auschwitz_concentration_camp',\n",
       "  'Breaking_Away',\n",
       "  'Ceiling_Unlimited',\n",
       "  'John_Mellencamp',\n",
       "  'Lewis_Browne',\n",
       "  'List_of_erotic_thriller_films',\n",
       "  'Martin_Heidegger',\n",
       "  'Orson_Welles_radio_credits',\n",
       "  'Robby_Benson',\n",
       "  \"Schindler's_List\",\n",
       "  'Shawn_Pelton',\n",
       "  'Sophist_(dialogue)',\n",
       "  'Things_Fall_Apart'})"
      ]
     },
     "execution_count": 2,
     "metadata": {},
     "output_type": "execute_result"
    }
   ],
   "source": [
    "getting_wiki_candidates_NER(1, 'Stranger Things is set in Bloomington, Indiana.', **configs[8])"
   ]
  },
  {
   "cell_type": "code",
   "execution_count": 4,
   "metadata": {},
   "outputs": [],
   "source": [
    "page = wikipedia.page('Alfred Schütz')"
   ]
  },
  {
   "cell_type": "code",
   "execution_count": 12,
   "metadata": {},
   "outputs": [
    {
     "data": {
      "text/plain": [
       "['Alfred Schutz (; born Alfred Schütz, German: [ʃʏts]; 1899–1959) was an Austrian philosopher and social phenomenologist whose work bridged sociological and phenomenological traditions',\n",
       " \"Schutz is gradually being recognized as one of the 20th century's leading philosophers of social science\",\n",
       " \"He related Edmund Husserl's work to the social sciences, using it to develop the philosophical foundations of Max Weber's sociology in his major work, Phenomenology of the Social World.\\n\\n\\n== Biography ==\\nSchutz was born on 13 April 1899 in Vienna, Austria, as an only child in an upper-middle-class Jewish family\",\n",
       " 'Following his graduation from high school, he was drafted into the Austrian Army where he quickly rose to the American equivalent rank of second lieutenant',\n",
       " 'His army regiment was dispatched to fight in a series of heavy battles on the Italian front (WWI).\\n\\n\\n=== Education and later life ===\\nIn 1918, Schutz enrolled at the University of Vienna, where he earned his law degree',\n",
       " 'He also enrolled at the Viennese Academy of International Trade from 1919 to 1920, specialising in international law',\n",
       " 'During his time at the University of Vienna, attending lectures given by Max Weber, Schutz came to the conclusion that Weber had left the problem of meaning unexplicated',\n",
       " \"As noted by Wagner (1983), Schutz's fascination with this problem was a result of his experience in combat, combined with returning to starving and economically decimated Vienna.Schutz married Ilse Heim in 1926\",\n",
       " 'Partly because there were few academic posts available, he developed a well-established and prominent career in international banking, He became the chief financial officer for Reitler and Company, the Vienna banking firm',\n",
       " 'His academic work was done in his spare time',\n",
       " \"He was once described by Edmund Husserl as “a banker by day and a philosopher by night.” In 1933, the threat of Adolf Hitler's rise in Germany caused Schutz and other Viennese intellectuals to flee Austria and seek asylum in allied countries\",\n",
       " ' Schutz and his family relocated to Paris in 1938 in political exile',\n",
       " 'He continued to work for Reitler and Company as an international lawyer',\n",
       " 'He moved to the United States in 1939, where he became a part-time faculty member of The New School',\n",
       " 'There, he taught sociology and philosophy, as well as serving as chair of the Philosophy department',\n",
       " 'Schutz received a substantial amount of assistance from his wife, Ilse, who transcribed his working notes and letters from his taped dictations.Schutz died on 20 May 1959 in New York City at the age of 60',\n",
       " \"Four volumes of Collected Papers were published posthumously, along with the draft of a second book he had been working on prior to his death.\\n\\n\\n== Intellectual career ==\\nSchutz was strongly influenced by Ludwig von Mises, Henri Bergson, William James, and Edmund Husserl, as well as Max Weber.\\nDrawing on phenomenology, Schutz's principal aim was to create a philosophical foundation for the social sciences\",\n",
       " \"While Schutz's work paralleled George Herbert Mead’s analysis of the meanings within social interactions, Schutz was highly critical of Mead’s behavioristic approach\",\n",
       " \"Although Schutz was never a student of Husserl, he and colleague Felix Kaufmann intensively studied Husserl's work in order to seek a basis for Weber's interpretive sociology and for Austrian economic theory\",\n",
       " \"\\nIn 1932, Schutz’s efforts resulted in his first published book, Der sinnhafte Aufbau der sozialen Welt ('The Meaningful Structure of the Social World') which was published in English as The Phenomenology of the Social World\",\n",
       " 'Schutz took up the generic emphasis of phenomenology, arguing that everyday life—rather than philosophical or scientific observation—is most important for analysis',\n",
       " \"In this work, Schutz both applauds and criticizes Weber's thinking on related issues\",\n",
       " 'Schutz very much admired Weber’s notions of the “ideal type,” which does not allow for personal interests or values in the context of social theory; what is referred to as the value-free state',\n",
       " 'Building from this concept, Schutz maintained that sociological inquiry should be considered value-relevant, rather than simply value-free',\n",
       " 'He viewed the technique of bracketing, drawn from Husserlian phenomenology, as a way beyond the limitations of ideal-type analysis',\n",
       " \"This publication brought him to the attention of Husserl, whom he visited frequently and corresponded with until Husserl's death in 1938\",\n",
       " \"Even so, when Husserl asked Schutz to be his assistant, he was unable to accept the offer at Freiburg University for personal reasons.Schutz's main area of concern was the ways in which people grasp the consciousness of others while living within their own streams of consciousness\",\n",
       " 'He spoke much about intersubjectivity, in a broader sense, using it in reference to the social world, specifically the social nature of knowledge',\n",
       " 'A great deal of his work deals with the \"lifeworld,\" in which people create social reality under the constraints of preexisting social and cultural factors and structures',\n",
       " 'He was very focused on the \"dialectical relationship between the way people construct social reality and the obdurate social and cultural reality that they inherit from those who preceded them in the social world.\"Schutz is also known for his belief that humans attempt to typify everything; i.e., to categorize people and things to better understand them within the context of society',\n",
       " \"He believed that the various typifications we use inform how we understand and interact with people and objects in the social world.\\nSchutz's theories and conceptions are illuminated through an intense and insightful correspondence with Harvard scholar Talcott Parsons\",\n",
       " 'The thrust of the discussion centered on the meaning of the concept \"social action.\" Whether the Schutz-Parsons correspondence can be characterized as “dialogue” rather than “debate” has been analyzed by Rehorick (1980)',\n",
       " 'Further insights into the fundamental differences between Schutz and Parsons is provided by a critical examination of original correspondence that brought in a third scholarly voice—that of Eric Voegelin',\n",
       " \"This discussion shows that conceptual and theoretical differences between Schutz and Parsons stem from different “ways of knowing,” implying fundamentally different orientations toward social scientific thought.\\n\\n\\n== Legacy ==\\nSchutz's writings have had a lasting impact on the social sciences, both on phenomenological approaches to sociology and in ethnomethodology (through the writings of Harold Garfinkel)\",\n",
       " \"Heavily influenced by Schutz's work as his student, Thomas Luckmann ultimately finished Schutz's work on the structures of the lifeworld by filling out his unfinished notes after Schutz died\",\n",
       " 'As noted by Farganis (2011), Peter L',\n",
       " \"Berger, also a student of Schutz's, was arguably the best-known living sociologist influenced by Schutz, especially through his creation of the social construction theory, which explains how the processes of externalization, objectification, and internalization contribute to the social construction of reality\",\n",
       " \"Berger and Luckmann went on to use Schutz's work to further understand human culture and reality, through the development of a new form of the sociology of knowledge.\\n\\n\\n=== Phenomenology ===\\nPhenomenology is the study of things as they appear (i.e., phenomena)\",\n",
       " 'It is also often said to be descriptive rather than explanatory: a central task of phenomenology is to provide a \"clear, undistorted description of the ways things appear.\"Phenomenology originated with Edmund Husserl, who Schutz studied and even met',\n",
       " 'There are many assumptions behind phenomenology that help explain its creation',\n",
       " 'First, it rejects the concept of objective research: phenomenologists would rather group presumptions through a process called phenomenological epoche',\n",
       " 'Second, phenomenology believes that analyzing the daily human behavior will provide one with a comprehensive understanding of nature',\n",
       " 'The third assumption is that persons, not individuals, should be explored and questioned',\n",
       " 'Sociologically speaking, this is in part because persons can be better understood by the unique ways they reflect and symbolize the society they live in',\n",
       " 'Fourth, phenomenologists prefer to gather capta, or conscious experience, rather than traditional data',\n",
       " 'Finally, phenomenology is considered to be oriented on discovery, and therefore phenomenologists gather research using methods that are far less restricting than in other sciences.\\n\\n\\n=== Social phenomenology ===\\nSocial phenomenology is concerned with how people use ordinary, everyday interactions to produce a feeling of reality and intersubjectivity',\n",
       " \"Most of Schutz's work concerned the methods used for the construction of reality through everyday experiences\",\n",
       " 'The social construction of reality and ethnomethodology are disciplinary extensions beyond the social phenomenology of Alfred Schutz.As noted by Farganis (2011), phenomenological sociology is characterized as particularly subjective in nature because its emphasis of understanding reality through the perspective of the acting subject rather than through the lens of the scientific observer',\n",
       " 'Rather than attempting to uncover and document the social structures which influence our social world Schutz and other sociological phenomenologists seek not only to identify the content of our consciousness related to our conception of the social reality of everyday life but also, how this reality comes to assume the form it is.In essence, Schutz and social phenomenologists are principally concerned with the happenings of everyday life, or what Schutz refers to as the lifeworld, “an intersubjective world in which people both create social reality and are constrained by the preexisting social and cultural structures created by their predecessors.\" Within this world, relationships between the social and natural world are what come into doubt',\n",
       " 'There is this existence of meaning that comes into play, yet most people simply accept the world how it is and never second guess the concept or problem of meaning',\n",
       " \"Schutz delves even more into specific relationships such as the difference between intimate face-to-face relationships and distant and impersonal relationships.\\n\\n\\n==== The four divisions of the lifeworld ====\\nSchutz's division of Husserl's lebenswelt (the mundane 'lifeworld') into four distinct sub-worlds is perhaps his most influential theoretical contribution\",\n",
       " \"The theory of the lifeworld is that social experience creates a world that is separated between:\\nthe social reality that has been directly experienced; and\\nsocial reality that is on the horizon of direct experience.The former consists of the umwelt ('environment'), the environment defined through the perception and action of agents\",\n",
       " 'This is an environment of consociates, or fellow-men; of the man who \"shares with me a community of space and a community of time.\"In contrast, those who Schutz did not deem his fellow-men, he put them in three classes:\\nthe world of contemporaries (mitwelt);\\nthe world of predecessors (vorwelt); and\\nthe world of successors (folgewelt).The last two represent the past and the future, whereas one\\'s contemporaries share a community of time, if not space, and are different from the predecessors and successors because it is possible for them to become fellow-men or consociates.Schutz was interested in documenting the transition from direct to indirect experience and the series of experiences in between',\n",
       " 'He also wanted to map the progressive anonymisation of the contemporaries (mitwelt), which was a measurement of increasing anonymity of \"my absent friend, his brother whom he has described to me, the professor whose books I have read, the postal clerk, the Canadian Parliament, abstract entities like Canada herself, the rules of English grammar, or the basic principles of jurisprudence.\" Schutz argued that the more one goes into the contemporary world, the more anonymous the contemporary inhabitants become, with the most anonymous being artifacts of any kind that hold meaning, context, and suggest there are unknown people.\\nIn his later writings, Schutz explored how everyday social experiences that pertain to these dimensions are most often intertwined in varying degrees of anonymity',\n",
       " \"For instance:[I]f in a face-to-face relationship with a friend I discuss a magazine article dealing with the attitude of the President and Congress toward China, I am in a relationship not only with the perhaps anonymous contemporary writer of the article but also with the contemporary individual or collective actors on the social scene designated by the terms, 'President', 'Congress', 'China'\\n\\n\\n== Selected bibliography ==\\n1932: Der sinnhafte Aufbau der sozialen Welt: eine Einleitung in die verstehende Soziologie\",\n",
       " 'Wien: J',\n",
       " 'Springer.\\n1941: \"William James\\' Concept of the Stream of Consciousness Phenomenologically Interpreted.\" Philosophy and Phenomenological Research 1:442–51.\\n1942: \"Scheler\\'s Theory of Intersubjectivity & the General Thesis of the Alter Ego.\" Philosophy and Phenomenological Research 2: 323–47.\\n1944: \"The Stranger.\" American Journal of Sociology 49(6):499–507.\\n1945: \"On Multiple Realities.\" Philosophy and Phenomenological Research 5:533–576.\\n1948: \"Sartre\\'s Theory of Alter Ego.\" Philosophy and Phenomenological Research 9:181–199.\\n1951: \"Choosing Among Projects of Action.\" Philosophy and Phenomenological Research 12:161–84.\\n1953: \"Edmund Husserl\\'s Ideas, Volume II.\" Philosophy and Phenomenological Research 13: 394–413.\\n1953: \"Die Phänomenologie und die fundamente der Wissenschaften',\n",
       " '(Ideas III by Edmund Husserl: A Review.)\" Philosophy and Phenomenological Research 13:506–14.\\n1953: \"Common-sense and Scientific Interpretation of Human Action.\" Philosophy and Phenomenological Research 14:1–38.\\n1954: \"Concept and Theory Formation in the Social Sciences.\" Journal of Philosophy',\n",
       " '51:257–72.\\n1957: \"Max Scheler\\'s Epistemology and Ethics: I.\" Review of Metaphysics 11:304–14.\\n1958: \"Max Scheler\\'s Epistemology and Ethics: II.\" Review of Metaphysics',\n",
       " '11:486–501.\\n1959: \"Type and Eidos in Husserl\\'s Late Philosophy.\" Philosophy and Phenomenological Research 20:147–65.\\n1962–66: Collected Papers I: The Problem of Social Reality, edited by M',\n",
       " 'A',\n",
       " 'Natanson and H',\n",
       " 'L',\n",
       " 'van Breda',\n",
       " 'Dordrecht: Martinus Nijhoff Publishers.\\n\\nCollected Papers II',\n",
       " 'Studies in Social Theory, edited by A',\n",
       " 'Brodersen',\n",
       " 'Dordrecht: Martinus Nijhoff Publishers.\\nCollected Papers III',\n",
       " 'Studies in Phenomenological Philosophy, edited by I',\n",
       " 'Schutz and A',\n",
       " 'Gurwitsch',\n",
       " 'Dordrecht: Martinus Nijhoff Publishers.1967: The Phenomenology of the Social World',\n",
       " 'Evanston, IL: Northwestern University Press.\\n1970: Reflections on the Problem of Relevance, edited by R',\n",
       " 'Zaner',\n",
       " 'New Haven, CT: Yale University Press.\\n1970: On Phenomenology and Social Relations: Selected Writings, edited by Helmut R',\n",
       " 'Wagner',\n",
       " 'Chicago: University of Chicago Press.\\n1971: Das Problem der Relevanz',\n",
       " 'Frankfurt am Main: Suhrkamp.\\n1972: Gesammelte Aufsätze: Band I',\n",
       " 'Das Problem der Sozialen Wirklichkeit Translated by B',\n",
       " 'Luckmann and R.H',\n",
       " 'Grathoff',\n",
       " 'Dordrecht, The Netherlands: Martinus Nijhoff Publishers.\\n1972: Gesammelte Aufsätze: Band II',\n",
       " 'Studien zur Soziologischen Theorie, translated by A',\n",
       " 'von Baeyer and edited by A',\n",
       " 'Brodersen',\n",
       " 'Dordrecht: Martinus Nijhoff Publishers.\\n1972: Gesammelte Aufsätze: Band III',\n",
       " 'Studien zur Phänomenologischen Philosophie, translated by A',\n",
       " 'von Baeyer and edited by I',\n",
       " 'Schutz',\n",
       " 'Dordrecht: Martinus Nijhoff Publishers.\\n1973: The Structures of the Life-World [Strukturen der Lebenswelt], with Thomas Luckmann, translated by R',\n",
       " 'M',\n",
       " 'Zaner and H',\n",
       " 'T',\n",
       " 'Engelhardt, Jr',\n",
       " 'Evanston, IL: Northwestern University Press.\\n1976: \"Fragments on the Phenomenology of Music.\" Music Man 2:5–72.\\n1977: Zur Theorie sozialen Handelns: Briefwechsel Alfred Schutz, Talcott Parsons, edited by W',\n",
       " 'M',\n",
       " 'Sprondel',\n",
       " 'Frankfurt am Main: Suhrkamp.\\n\\n1978: The Theory of Social Action: The Correspondence of Alfred Schutz and Talcott Parsons, edited by R',\n",
       " 'Grathoff',\n",
       " 'Bloomington: Indiana University Press.1982: Life forms and meaning structure [Lebensformen und Sinnstruktur], translated by H',\n",
       " 'R',\n",
       " 'Wagner',\n",
       " 'London: Routledge & K',\n",
       " 'Paul.\\n1985: Alfred Schutz, Aron Gurwitsch: Briefwechsel, 1939-1959, edited by Ludwig Landgrebe',\n",
       " 'München: W',\n",
       " 'Fink.\\n\\n1989: Philosophers in Exile: the Correspondence of Alfred Schutz and Aron Gurwitsch, 1939-1959, translated by J',\n",
       " 'C',\n",
       " 'Evans and edited by R',\n",
       " 'Grathoff',\n",
       " 'Bloomington, IN: Indiana University Press.1996: Collected Papers IV, edited by H',\n",
       " 'Wagner, G',\n",
       " 'Psathas, and F',\n",
       " 'Kersten',\n",
       " 'Dordrecht: Kluwer Academic Publishers.\\n\\n\\n== References ==\\n\\n\\n== Further reading ==\\nMichael Barber, Alfred Schutz In: Stanford Encyclopedia of Philosophy\\nBarber, M',\n",
       " '(2004)',\n",
       " 'The Participating Citizen: A Biography of Alfred Schutz',\n",
       " 'New York, State University of New York Press.\\nEmbree, Lester',\n",
       " '(2000)',\n",
       " '“Schutz, Alfred (1899-1959), Philosopher and Social Scientist.” Internet Encyclopedia of Philosophy.\\nJochen Dreher: Alfred Schutz In: George Ritzer, Jeff Stepnisky (Hrsg.): The Wiley-Blackwell Companion to Major Social Theorists, Vol',\n",
       " 'I Wiley-Blackwell, Oxford 2011, ISBN 978-1-4443-3078-6, S',\n",
       " '489–510.\\nWagner, H',\n",
       " 'R',\n",
       " '(1983)',\n",
       " 'Alfred Schutz: An Intellectual Biography',\n",
       " 'Chicago and London, The University of Chicago Press.\\nGrathoff, R',\n",
       " 'Evans, C',\n",
       " '(1989)',\n",
       " 'Philosophers in Exile: The Correspondence of Alfred Schutz and Aron Gurwitsch, 1939-1959 Indianapolis, Indiana University Press.\\nNasu, Hisashi & Waksler, Frances C',\n",
       " '(2012)',\n",
       " '(Eds.)',\n",
       " 'Interaction in Everyday Life: Phenomenology and Ethnomethodological Essays in Honor of George Psathas',\n",
       " 'Lanham, Maryland, Lexington Books',\n",
       " 'ISBN 978-0-7391-7644-3\\nRehorick, David & Bentz, Valerie M',\n",
       " '(2017)',\n",
       " '(Eds.)',\n",
       " 'Expressions of Phenomenological Research: Consciousness and Lifeworld Studies',\n",
       " 'Santa Barbara CA,  Fielding University Press',\n",
       " 'ISBN 978-1-5484-5200-1\\n\\n\\n== External links ==\\n\"Alfred Schütz\"',\n",
       " 'Internet Encyclopedia of Philosophy.\\nStanford Encyclopedia of Philosophy, \"Alfred Schutz,\" by Michael Barber\\nAlfred Schutz Papers',\n",
       " 'General Collection, Beinecke Rare Book and Manuscript Library, Yale University.\\nThe Alfred Schutz Archive.\\nSociety for Phenomenology and Existential Philosophy.\\nInternet Encyclopedia of Philosophy - Phenomenology \\nSocial Science Archive Konstanz (Alfred Schutz Memorial Archive)\\nSozialwissenschaftliches Archiv Konstanz – Alfred-Schütz-Gedächtnis–Archiv\\nThe International Alfred Schutz Circle for Phenomenology and Interpretive Social Science\\nThe New School\\nGuide to the Papers of the Alfred Schutz Family at the Leo Baeck Institute, New York.\\nAlfred Schutz YouTube Video\\nSociety for Phenomenology and the Human Sciences (SPHS)\\nHuman Studies: A Journal of Philosophy and the Social Sciences (Springer)']"
      ]
     },
     "execution_count": 12,
     "metadata": {},
     "output_type": "execute_result"
    }
   ],
   "source": [
    "page.content.split('. ')"
   ]
  },
  {
   "cell_type": "code",
   "execution_count": 13,
   "metadata": {},
   "outputs": [
    {
     "data": {
      "text/plain": [
       "'Alfred Schutz (; born Alfred Schütz, German: [ʃʏts]; 1899–1959) was an Austrian philosopher and social phenomenologist whose work bridged sociological and phenomenological traditions. Schutz is gradually being recognized as one of the 20th century\\'s leading philosophers of social science. He related Edmund Husserl\\'s work to the social sciences, using it to develop the philosophical foundations of Max Weber\\'s sociology in his major work, Phenomenology of the Social World.\\n\\n\\n== Biography ==\\nSchutz was born on 13 April 1899 in Vienna, Austria, as an only child in an upper-middle-class Jewish family. Following his graduation from high school, he was drafted into the Austrian Army where he quickly rose to the American equivalent rank of second lieutenant. His army regiment was dispatched to fight in a series of heavy battles on the Italian front (WWI).\\n\\n\\n=== Education and later life ===\\nIn 1918, Schutz enrolled at the University of Vienna, where he earned his law degree. He also enrolled at the Viennese Academy of International Trade from 1919 to 1920, specialising in international law. During his time at the University of Vienna, attending lectures given by Max Weber, Schutz came to the conclusion that Weber had left the problem of meaning unexplicated. As noted by Wagner (1983), Schutz\\'s fascination with this problem was a result of his experience in combat, combined with returning to starving and economically decimated Vienna.Schutz married Ilse Heim in 1926. Partly because there were few academic posts available, he developed a well-established and prominent career in international banking, He became the chief financial officer for Reitler and Company, the Vienna banking firm. His academic work was done in his spare time. He was once described by Edmund Husserl as “a banker by day and a philosopher by night.” In 1933, the threat of Adolf Hitler\\'s rise in Germany caused Schutz and other Viennese intellectuals to flee Austria and seek asylum in allied countries.  Schutz and his family relocated to Paris in 1938 in political exile. He continued to work for Reitler and Company as an international lawyer. He moved to the United States in 1939, where he became a part-time faculty member of The New School. There, he taught sociology and philosophy, as well as serving as chair of the Philosophy department. Schutz received a substantial amount of assistance from his wife, Ilse, who transcribed his working notes and letters from his taped dictations.Schutz died on 20 May 1959 in New York City at the age of 60. Four volumes of Collected Papers were published posthumously, along with the draft of a second book he had been working on prior to his death.\\n\\n\\n== Intellectual career ==\\nSchutz was strongly influenced by Ludwig von Mises, Henri Bergson, William James, and Edmund Husserl, as well as Max Weber.\\nDrawing on phenomenology, Schutz\\'s principal aim was to create a philosophical foundation for the social sciences. While Schutz\\'s work paralleled George Herbert Mead’s analysis of the meanings within social interactions, Schutz was highly critical of Mead’s behavioristic approach. Although Schutz was never a student of Husserl, he and colleague Felix Kaufmann intensively studied Husserl\\'s work in order to seek a basis for Weber\\'s interpretive sociology and for Austrian economic theory. \\nIn 1932, Schutz’s efforts resulted in his first published book, Der sinnhafte Aufbau der sozialen Welt (\\'The Meaningful Structure of the Social World\\') which was published in English as The Phenomenology of the Social World. Schutz took up the generic emphasis of phenomenology, arguing that everyday life—rather than philosophical or scientific observation—is most important for analysis. In this work, Schutz both applauds and criticizes Weber\\'s thinking on related issues. Schutz very much admired Weber’s notions of the “ideal type,” which does not allow for personal interests or values in the context of social theory; what is referred to as the value-free state. Building from this concept, Schutz maintained that sociological inquiry should be considered value-relevant, rather than simply value-free. He viewed the technique of bracketing, drawn from Husserlian phenomenology, as a way beyond the limitations of ideal-type analysis. This publication brought him to the attention of Husserl, whom he visited frequently and corresponded with until Husserl\\'s death in 1938. Even so, when Husserl asked Schutz to be his assistant, he was unable to accept the offer at Freiburg University for personal reasons.Schutz\\'s main area of concern was the ways in which people grasp the consciousness of others while living within their own streams of consciousness. He spoke much about intersubjectivity, in a broader sense, using it in reference to the social world, specifically the social nature of knowledge. A great deal of his work deals with the \"lifeworld,\" in which people create social reality under the constraints of preexisting social and cultural factors and structures. He was very focused on the \"dialectical relationship between the way people construct social reality and the obdurate social and cultural reality that they inherit from those who preceded them in the social world.\"Schutz is also known for his belief that humans attempt to typify everything; i.e., to categorize people and things to better understand them within the context of society. He believed that the various typifications we use inform how we understand and interact with people and objects in the social world.\\nSchutz\\'s theories and conceptions are illuminated through an intense and insightful correspondence with Harvard scholar Talcott Parsons. The thrust of the discussion centered on the meaning of the concept \"social action.\" Whether the Schutz-Parsons correspondence can be characterized as “dialogue” rather than “debate” has been analyzed by Rehorick (1980). Further insights into the fundamental differences between Schutz and Parsons is provided by a critical examination of original correspondence that brought in a third scholarly voice—that of Eric Voegelin. This discussion shows that conceptual and theoretical differences between Schutz and Parsons stem from different “ways of knowing,” implying fundamentally different orientations toward social scientific thought.\\n\\n\\n== Legacy ==\\nSchutz\\'s writings have had a lasting impact on the social sciences, both on phenomenological approaches to sociology and in ethnomethodology (through the writings of Harold Garfinkel). Heavily influenced by Schutz\\'s work as his student, Thomas Luckmann ultimately finished Schutz\\'s work on the structures of the lifeworld by filling out his unfinished notes after Schutz died. As noted by Farganis (2011), Peter L. Berger, also a student of Schutz\\'s, was arguably the best-known living sociologist influenced by Schutz, especially through his creation of the social construction theory, which explains how the processes of externalization, objectification, and internalization contribute to the social construction of reality. Berger and Luckmann went on to use Schutz\\'s work to further understand human culture and reality, through the development of a new form of the sociology of knowledge.\\n\\n\\n=== Phenomenology ===\\nPhenomenology is the study of things as they appear (i.e., phenomena). It is also often said to be descriptive rather than explanatory: a central task of phenomenology is to provide a \"clear, undistorted description of the ways things appear.\"Phenomenology originated with Edmund Husserl, who Schutz studied and even met. There are many assumptions behind phenomenology that help explain its creation. First, it rejects the concept of objective research: phenomenologists would rather group presumptions through a process called phenomenological epoche. Second, phenomenology believes that analyzing the daily human behavior will provide one with a comprehensive understanding of nature. The third assumption is that persons, not individuals, should be explored and questioned. Sociologically speaking, this is in part because persons can be better understood by the unique ways they reflect and symbolize the society they live in. Fourth, phenomenologists prefer to gather capta, or conscious experience, rather than traditional data. Finally, phenomenology is considered to be oriented on discovery, and therefore phenomenologists gather research using methods that are far less restricting than in other sciences.\\n\\n\\n=== Social phenomenology ===\\nSocial phenomenology is concerned with how people use ordinary, everyday interactions to produce a feeling of reality and intersubjectivity. Most of Schutz\\'s work concerned the methods used for the construction of reality through everyday experiences. The social construction of reality and ethnomethodology are disciplinary extensions beyond the social phenomenology of Alfred Schutz.As noted by Farganis (2011), phenomenological sociology is characterized as particularly subjective in nature because its emphasis of understanding reality through the perspective of the acting subject rather than through the lens of the scientific observer. Rather than attempting to uncover and document the social structures which influence our social world Schutz and other sociological phenomenologists seek not only to identify the content of our consciousness related to our conception of the social reality of everyday life but also, how this reality comes to assume the form it is.In essence, Schutz and social phenomenologists are principally concerned with the happenings of everyday life, or what Schutz refers to as the lifeworld, “an intersubjective world in which people both create social reality and are constrained by the preexisting social and cultural structures created by their predecessors.\" Within this world, relationships between the social and natural world are what come into doubt. There is this existence of meaning that comes into play, yet most people simply accept the world how it is and never second guess the concept or problem of meaning. Schutz delves even more into specific relationships such as the difference between intimate face-to-face relationships and distant and impersonal relationships.\\n\\n\\n==== The four divisions of the lifeworld ====\\nSchutz\\'s division of Husserl\\'s lebenswelt (the mundane \\'lifeworld\\') into four distinct sub-worlds is perhaps his most influential theoretical contribution. The theory of the lifeworld is that social experience creates a world that is separated between:\\nthe social reality that has been directly experienced; and\\nsocial reality that is on the horizon of direct experience.The former consists of the umwelt (\\'environment\\'), the environment defined through the perception and action of agents. This is an environment of consociates, or fellow-men; of the man who \"shares with me a community of space and a community of time.\"In contrast, those who Schutz did not deem his fellow-men, he put them in three classes:\\nthe world of contemporaries (mitwelt);\\nthe world of predecessors (vorwelt); and\\nthe world of successors (folgewelt).The last two represent the past and the future, whereas one\\'s contemporaries share a community of time, if not space, and are different from the predecessors and successors because it is possible for them to become fellow-men or consociates.Schutz was interested in documenting the transition from direct to indirect experience and the series of experiences in between. He also wanted to map the progressive anonymisation of the contemporaries (mitwelt), which was a measurement of increasing anonymity of \"my absent friend, his brother whom he has described to me, the professor whose books I have read, the postal clerk, the Canadian Parliament, abstract entities like Canada herself, the rules of English grammar, or the basic principles of jurisprudence.\" Schutz argued that the more one goes into the contemporary world, the more anonymous the contemporary inhabitants become, with the most anonymous being artifacts of any kind that hold meaning, context, and suggest there are unknown people.\\nIn his later writings, Schutz explored how everyday social experiences that pertain to these dimensions are most often intertwined in varying degrees of anonymity. For instance:[I]f in a face-to-face relationship with a friend I discuss a magazine article dealing with the attitude of the President and Congress toward China, I am in a relationship not only with the perhaps anonymous contemporary writer of the article but also with the contemporary individual or collective actors on the social scene designated by the terms, \\'President\\', \\'Congress\\', \\'China\\'\\n\\n\\n== Selected bibliography ==\\n1932: Der sinnhafte Aufbau der sozialen Welt: eine Einleitung in die verstehende Soziologie. Wien: J. Springer.\\n1941: \"William James\\' Concept of the Stream of Consciousness Phenomenologically Interpreted.\" Philosophy and Phenomenological Research 1:442–51.\\n1942: \"Scheler\\'s Theory of Intersubjectivity & the General Thesis of the Alter Ego.\" Philosophy and Phenomenological Research 2: 323–47.\\n1944: \"The Stranger.\" American Journal of Sociology 49(6):499–507.\\n1945: \"On Multiple Realities.\" Philosophy and Phenomenological Research 5:533–576.\\n1948: \"Sartre\\'s Theory of Alter Ego.\" Philosophy and Phenomenological Research 9:181–199.\\n1951: \"Choosing Among Projects of Action.\" Philosophy and Phenomenological Research 12:161–84.\\n1953: \"Edmund Husserl\\'s Ideas, Volume II.\" Philosophy and Phenomenological Research 13: 394–413.\\n1953: \"Die Phänomenologie und die fundamente der Wissenschaften. (Ideas III by Edmund Husserl: A Review.)\" Philosophy and Phenomenological Research 13:506–14.\\n1953: \"Common-sense and Scientific Interpretation of Human Action.\" Philosophy and Phenomenological Research 14:1–38.\\n1954: \"Concept and Theory Formation in the Social Sciences.\" Journal of Philosophy. 51:257–72.\\n1957: \"Max Scheler\\'s Epistemology and Ethics: I.\" Review of Metaphysics 11:304–14.\\n1958: \"Max Scheler\\'s Epistemology and Ethics: II.\" Review of Metaphysics. 11:486–501.\\n1959: \"Type and Eidos in Husserl\\'s Late Philosophy.\" Philosophy and Phenomenological Research 20:147–65.\\n1962–66: Collected Papers I: The Problem of Social Reality, edited by M. A. Natanson and H. L. van Breda. Dordrecht: Martinus Nijhoff Publishers.\\n\\nCollected Papers II. Studies in Social Theory, edited by A. Brodersen. Dordrecht: Martinus Nijhoff Publishers.\\nCollected Papers III. Studies in Phenomenological Philosophy, edited by I. Schutz and A. Gurwitsch. Dordrecht: Martinus Nijhoff Publishers.1967: The Phenomenology of the Social World. Evanston, IL: Northwestern University Press.\\n1970: Reflections on the Problem of Relevance, edited by R. Zaner. New Haven, CT: Yale University Press.\\n1970: On Phenomenology and Social Relations: Selected Writings, edited by Helmut R. Wagner. Chicago: University of Chicago Press.\\n1971: Das Problem der Relevanz. Frankfurt am Main: Suhrkamp.\\n1972: Gesammelte Aufsätze: Band I. Das Problem der Sozialen Wirklichkeit Translated by B. Luckmann and R.H. Grathoff. Dordrecht, The Netherlands: Martinus Nijhoff Publishers.\\n1972: Gesammelte Aufsätze: Band II. Studien zur Soziologischen Theorie, translated by A. von Baeyer and edited by A. Brodersen. Dordrecht: Martinus Nijhoff Publishers.\\n1972: Gesammelte Aufsätze: Band III. Studien zur Phänomenologischen Philosophie, translated by A. von Baeyer and edited by I. Schutz. Dordrecht: Martinus Nijhoff Publishers.\\n1973: The Structures of the Life-World [Strukturen der Lebenswelt], with Thomas Luckmann, translated by R. M. Zaner and H. T. Engelhardt, Jr. Evanston, IL: Northwestern University Press.\\n1976: \"Fragments on the Phenomenology of Music.\" Music Man 2:5–72.\\n1977: Zur Theorie sozialen Handelns: Briefwechsel Alfred Schutz, Talcott Parsons, edited by W. M. Sprondel. Frankfurt am Main: Suhrkamp.\\n\\n1978: The Theory of Social Action: The Correspondence of Alfred Schutz and Talcott Parsons, edited by R. Grathoff. Bloomington: Indiana University Press.1982: Life forms and meaning structure [Lebensformen und Sinnstruktur], translated by H. R. Wagner. London: Routledge & K. Paul.\\n1985: Alfred Schutz, Aron Gurwitsch: Briefwechsel, 1939-1959, edited by Ludwig Landgrebe. München: W. Fink.\\n\\n1989: Philosophers in Exile: the Correspondence of Alfred Schutz and Aron Gurwitsch, 1939-1959, translated by J. C. Evans and edited by R. Grathoff. Bloomington, IN: Indiana University Press.1996: Collected Papers IV, edited by H. Wagner, G. Psathas, and F. Kersten. Dordrecht: Kluwer Academic Publishers.\\n\\n\\n== References ==\\n\\n\\n== Further reading ==\\nMichael Barber, Alfred Schutz In: Stanford Encyclopedia of Philosophy\\nBarber, M. (2004). The Participating Citizen: A Biography of Alfred Schutz. New York, State University of New York Press.\\nEmbree, Lester. (2000). “Schutz, Alfred (1899-1959), Philosopher and Social Scientist.” Internet Encyclopedia of Philosophy.\\nJochen Dreher: Alfred Schutz In: George Ritzer, Jeff Stepnisky (Hrsg.): The Wiley-Blackwell Companion to Major Social Theorists, Vol. I Wiley-Blackwell, Oxford 2011, ISBN 978-1-4443-3078-6, S. 489–510.\\nWagner, H. R. (1983). Alfred Schutz: An Intellectual Biography. Chicago and London, The University of Chicago Press.\\nGrathoff, R. Evans, C. (1989). Philosophers in Exile: The Correspondence of Alfred Schutz and Aron Gurwitsch, 1939-1959 Indianapolis, Indiana University Press.\\nNasu, Hisashi & Waksler, Frances C. (2012). (Eds.). Interaction in Everyday Life: Phenomenology and Ethnomethodological Essays in Honor of George Psathas. Lanham, Maryland, Lexington Books. ISBN 978-0-7391-7644-3\\nRehorick, David & Bentz, Valerie M. (2017). (Eds.). Expressions of Phenomenological Research: Consciousness and Lifeworld Studies. Santa Barbara CA,  Fielding University Press. ISBN 978-1-5484-5200-1\\n\\n\\n== External links ==\\n\"Alfred Schütz\". Internet Encyclopedia of Philosophy.\\nStanford Encyclopedia of Philosophy, \"Alfred Schutz,\" by Michael Barber\\nAlfred Schutz Papers. General Collection, Beinecke Rare Book and Manuscript Library, Yale University.\\nThe Alfred Schutz Archive.\\nSociety for Phenomenology and Existential Philosophy.\\nInternet Encyclopedia of Philosophy - Phenomenology \\nSocial Science Archive Konstanz (Alfred Schutz Memorial Archive)\\nSozialwissenschaftliches Archiv Konstanz – Alfred-Schütz-Gedächtnis–Archiv\\nThe International Alfred Schutz Circle for Phenomenology and Interpretive Social Science\\nThe New School\\nGuide to the Papers of the Alfred Schutz Family at the Leo Baeck Institute, New York.\\nAlfred Schutz YouTube Video\\nSociety for Phenomenology and the Human Sciences (SPHS)\\nHuman Studies: A Journal of Philosophy and the Social Sciences (Springer)'"
      ]
     },
     "execution_count": 13,
     "metadata": {},
     "output_type": "execute_result"
    }
   ],
   "source": [
    "page.content"
   ]
  },
  {
   "cell_type": "code",
   "execution_count": 17,
   "metadata": {},
   "outputs": [
    {
     "data": {
      "text/plain": [
       "[]"
      ]
     },
     "execution_count": 17,
     "metadata": {},
     "output_type": "execute_result"
    }
   ],
   "source": [
    "page.sections"
   ]
  },
  {
   "cell_type": "code",
   "execution_count": null,
   "metadata": {},
   "outputs": [],
   "source": []
  },
  {
   "cell_type": "code",
   "execution_count": null,
   "metadata": {},
   "outputs": [],
   "source": []
  },
  {
   "cell_type": "code",
   "execution_count": null,
   "metadata": {},
   "outputs": [],
   "source": []
  },
  {
   "cell_type": "code",
   "execution_count": null,
   "metadata": {},
   "outputs": [],
   "source": []
  },
  {
   "cell_type": "code",
   "execution_count": null,
   "metadata": {},
   "outputs": [],
   "source": []
  },
  {
   "cell_type": "code",
   "execution_count": null,
   "metadata": {},
   "outputs": [],
   "source": []
  },
  {
   "cell_type": "code",
   "execution_count": null,
   "metadata": {},
   "outputs": [],
   "source": []
  },
  {
   "cell_type": "code",
   "execution_count": null,
   "metadata": {},
   "outputs": [],
   "source": []
  },
  {
   "cell_type": "code",
   "execution_count": null,
   "metadata": {},
   "outputs": [],
   "source": []
  },
  {
   "cell_type": "code",
   "execution_count": null,
   "metadata": {},
   "outputs": [],
   "source": []
  },
  {
   "cell_type": "code",
   "execution_count": null,
   "metadata": {},
   "outputs": [],
   "source": []
  },
  {
   "cell_type": "code",
   "execution_count": null,
   "metadata": {},
   "outputs": [],
   "source": []
  },
  {
   "cell_type": "code",
   "execution_count": null,
   "metadata": {},
   "outputs": [],
   "source": []
  },
  {
   "cell_type": "code",
   "execution_count": null,
   "metadata": {},
   "outputs": [],
   "source": []
  },
  {
   "cell_type": "markdown",
   "metadata": {},
   "source": [
    "## Experiment itself: "
   ]
  },
  {
   "cell_type": "code",
   "execution_count": 52,
   "metadata": {},
   "outputs": [
    {
     "data": {
      "application/vnd.jupyter.widget-view+json": {
       "model_id": "ce69ab8658094d51a793e71a8486d407",
       "version_major": 2,
       "version_minor": 0
      },
      "text/plain": [
       "HBox(children=(FloatProgress(value=0.0, max=18.0), HTML(value='')))"
      ]
     },
     "metadata": {},
     "output_type": "display_data"
    },
    {
     "name": "stdout",
     "output_type": "stream",
     "text": [
      "\n"
     ]
    },
    {
     "ename": "KeyboardInterrupt",
     "evalue": "",
     "output_type": "error",
     "traceback": [
      "\u001b[0;31m---------------------------------------------------------------------------\u001b[0m",
      "\u001b[0;31mKeyboardInterrupt\u001b[0m                         Traceback (most recent call last)",
      "\u001b[0;32m<ipython-input-52-eb12ec227b64>\u001b[0m in \u001b[0;36m<module>\u001b[0;34m\u001b[0m\n\u001b[1;32m     18\u001b[0m         \u001b[0mpool\u001b[0m\u001b[0;34m.\u001b[0m\u001b[0mapply_async\u001b[0m\u001b[0;34m(\u001b[0m\u001b[0mgetting_wiki_candidates_with_params\u001b[0m\u001b[0;34m,\u001b[0m \u001b[0margs\u001b[0m \u001b[0;34m=\u001b[0m \u001b[0;34m(\u001b[0m\u001b[0mi\u001b[0m\u001b[0;34m,\u001b[0m \u001b[0minput_iterable\u001b[0m\u001b[0;34m[\u001b[0m\u001b[0mi\u001b[0m\u001b[0;34m]\u001b[0m\u001b[0;34m)\u001b[0m\u001b[0;34m,\u001b[0m \u001b[0mcallback\u001b[0m\u001b[0;34m=\u001b[0m\u001b[0mget_result\u001b[0m\u001b[0;34m)\u001b[0m\u001b[0;34m\u001b[0m\u001b[0;34m\u001b[0m\u001b[0m\n\u001b[1;32m     19\u001b[0m     \u001b[0mpool\u001b[0m\u001b[0;34m.\u001b[0m\u001b[0mclose\u001b[0m\u001b[0;34m(\u001b[0m\u001b[0;34m)\u001b[0m \u001b[0;31m# this means that no more tasks will be added to the pool\u001b[0m\u001b[0;34m\u001b[0m\u001b[0;34m\u001b[0m\u001b[0m\n\u001b[0;32m---> 20\u001b[0;31m     \u001b[0mpool\u001b[0m\u001b[0;34m.\u001b[0m\u001b[0mjoin\u001b[0m\u001b[0;34m(\u001b[0m\u001b[0;34m)\u001b[0m\u001b[0;34m\u001b[0m\u001b[0;34m\u001b[0m\u001b[0m\n\u001b[0m\u001b[1;32m     21\u001b[0m     \u001b[0mend\u001b[0m \u001b[0;34m=\u001b[0m \u001b[0mtime\u001b[0m\u001b[0;34m.\u001b[0m\u001b[0mtime\u001b[0m\u001b[0;34m(\u001b[0m\u001b[0;34m)\u001b[0m\u001b[0;34m\u001b[0m\u001b[0;34m\u001b[0m\u001b[0m\n\u001b[1;32m     22\u001b[0m \u001b[0;34m\u001b[0m\u001b[0m\n",
      "\u001b[0;32m~/opt/anaconda3/lib/python3.8/multiprocessing/pool.py\u001b[0m in \u001b[0;36mjoin\u001b[0;34m(self)\u001b[0m\n\u001b[1;32m    660\u001b[0m         \u001b[0;32melif\u001b[0m \u001b[0mself\u001b[0m\u001b[0;34m.\u001b[0m\u001b[0m_state\u001b[0m \u001b[0;32mnot\u001b[0m \u001b[0;32min\u001b[0m \u001b[0;34m(\u001b[0m\u001b[0mCLOSE\u001b[0m\u001b[0;34m,\u001b[0m \u001b[0mTERMINATE\u001b[0m\u001b[0;34m)\u001b[0m\u001b[0;34m:\u001b[0m\u001b[0;34m\u001b[0m\u001b[0;34m\u001b[0m\u001b[0m\n\u001b[1;32m    661\u001b[0m             \u001b[0;32mraise\u001b[0m \u001b[0mValueError\u001b[0m\u001b[0;34m(\u001b[0m\u001b[0;34m\"In unknown state\"\u001b[0m\u001b[0;34m)\u001b[0m\u001b[0;34m\u001b[0m\u001b[0;34m\u001b[0m\u001b[0m\n\u001b[0;32m--> 662\u001b[0;31m         \u001b[0mself\u001b[0m\u001b[0;34m.\u001b[0m\u001b[0m_worker_handler\u001b[0m\u001b[0;34m.\u001b[0m\u001b[0mjoin\u001b[0m\u001b[0;34m(\u001b[0m\u001b[0;34m)\u001b[0m\u001b[0;34m\u001b[0m\u001b[0;34m\u001b[0m\u001b[0m\n\u001b[0m\u001b[1;32m    663\u001b[0m         \u001b[0mself\u001b[0m\u001b[0;34m.\u001b[0m\u001b[0m_task_handler\u001b[0m\u001b[0;34m.\u001b[0m\u001b[0mjoin\u001b[0m\u001b[0;34m(\u001b[0m\u001b[0;34m)\u001b[0m\u001b[0;34m\u001b[0m\u001b[0;34m\u001b[0m\u001b[0m\n\u001b[1;32m    664\u001b[0m         \u001b[0mself\u001b[0m\u001b[0;34m.\u001b[0m\u001b[0m_result_handler\u001b[0m\u001b[0;34m.\u001b[0m\u001b[0mjoin\u001b[0m\u001b[0;34m(\u001b[0m\u001b[0;34m)\u001b[0m\u001b[0;34m\u001b[0m\u001b[0;34m\u001b[0m\u001b[0m\n",
      "\u001b[0;32m~/opt/anaconda3/lib/python3.8/threading.py\u001b[0m in \u001b[0;36mjoin\u001b[0;34m(self, timeout)\u001b[0m\n\u001b[1;32m   1009\u001b[0m \u001b[0;34m\u001b[0m\u001b[0m\n\u001b[1;32m   1010\u001b[0m         \u001b[0;32mif\u001b[0m \u001b[0mtimeout\u001b[0m \u001b[0;32mis\u001b[0m \u001b[0;32mNone\u001b[0m\u001b[0;34m:\u001b[0m\u001b[0;34m\u001b[0m\u001b[0;34m\u001b[0m\u001b[0m\n\u001b[0;32m-> 1011\u001b[0;31m             \u001b[0mself\u001b[0m\u001b[0;34m.\u001b[0m\u001b[0m_wait_for_tstate_lock\u001b[0m\u001b[0;34m(\u001b[0m\u001b[0;34m)\u001b[0m\u001b[0;34m\u001b[0m\u001b[0;34m\u001b[0m\u001b[0m\n\u001b[0m\u001b[1;32m   1012\u001b[0m         \u001b[0;32melse\u001b[0m\u001b[0;34m:\u001b[0m\u001b[0;34m\u001b[0m\u001b[0;34m\u001b[0m\u001b[0m\n\u001b[1;32m   1013\u001b[0m             \u001b[0;31m# the behavior of a negative timeout isn't documented, but\u001b[0m\u001b[0;34m\u001b[0m\u001b[0;34m\u001b[0m\u001b[0;34m\u001b[0m\u001b[0m\n",
      "\u001b[0;32m~/opt/anaconda3/lib/python3.8/threading.py\u001b[0m in \u001b[0;36m_wait_for_tstate_lock\u001b[0;34m(self, block, timeout)\u001b[0m\n\u001b[1;32m   1025\u001b[0m         \u001b[0;32mif\u001b[0m \u001b[0mlock\u001b[0m \u001b[0;32mis\u001b[0m \u001b[0;32mNone\u001b[0m\u001b[0;34m:\u001b[0m  \u001b[0;31m# already determined that the C code is done\u001b[0m\u001b[0;34m\u001b[0m\u001b[0;34m\u001b[0m\u001b[0m\n\u001b[1;32m   1026\u001b[0m             \u001b[0;32massert\u001b[0m \u001b[0mself\u001b[0m\u001b[0;34m.\u001b[0m\u001b[0m_is_stopped\u001b[0m\u001b[0;34m\u001b[0m\u001b[0;34m\u001b[0m\u001b[0m\n\u001b[0;32m-> 1027\u001b[0;31m         \u001b[0;32melif\u001b[0m \u001b[0mlock\u001b[0m\u001b[0;34m.\u001b[0m\u001b[0macquire\u001b[0m\u001b[0;34m(\u001b[0m\u001b[0mblock\u001b[0m\u001b[0;34m,\u001b[0m \u001b[0mtimeout\u001b[0m\u001b[0;34m)\u001b[0m\u001b[0;34m:\u001b[0m\u001b[0;34m\u001b[0m\u001b[0;34m\u001b[0m\u001b[0m\n\u001b[0m\u001b[1;32m   1028\u001b[0m             \u001b[0mlock\u001b[0m\u001b[0;34m.\u001b[0m\u001b[0mrelease\u001b[0m\u001b[0;34m(\u001b[0m\u001b[0;34m)\u001b[0m\u001b[0;34m\u001b[0m\u001b[0;34m\u001b[0m\u001b[0m\n\u001b[1;32m   1029\u001b[0m             \u001b[0mself\u001b[0m\u001b[0;34m.\u001b[0m\u001b[0m_stop\u001b[0m\u001b[0;34m(\u001b[0m\u001b[0;34m)\u001b[0m\u001b[0;34m\u001b[0m\u001b[0;34m\u001b[0m\u001b[0m\n",
      "\u001b[0;31mKeyboardInterrupt\u001b[0m: "
     ]
    }
   ],
   "source": [
    "all_fever = pd.read_csv('all_fever_upd.csv')\n",
    "all_fever = all_fever.head(10)\n",
    "input_iterable = all_fever.claim.values\n",
    "\n",
    "time_performance = []\n",
    "for conf in tqdm(configs):\n",
    "    start = time.time()\n",
    "    \n",
    "    def getting_wiki_candidates_with_params(i, query):\n",
    "        return getting_wiki_candidates_NER(i, query, **conf)\n",
    "    \n",
    "    pool = Pool(processes=20) # Initalize a pool of n processes\n",
    "    results = []\n",
    "    def get_result(result):\n",
    "        global results\n",
    "        results.append(result)\n",
    "    for i in range(0, len(input_iterable)):\n",
    "        pool.apply_async(getting_wiki_candidates_with_params, args = (i, input_iterable[i]), callback=get_result)\n",
    "    pool.close() # this means that no more tasks will be added to the pool\n",
    "    pool.join()  \n",
    "    end = time.time()\n",
    "    \n",
    "    time_performance.append(end - start)\n",
    "    \n",
    "print(time_performance)"
   ]
  },
  {
   "cell_type": "code",
   "execution_count": null,
   "metadata": {},
   "outputs": [],
   "source": []
  },
  {
   "cell_type": "code",
   "execution_count": 19,
   "metadata": {},
   "outputs": [
    {
     "data": {
      "text/html": [
       "<div>\n",
       "<style scoped>\n",
       "    .dataframe tbody tr th:only-of-type {\n",
       "        vertical-align: middle;\n",
       "    }\n",
       "\n",
       "    .dataframe tbody tr th {\n",
       "        vertical-align: top;\n",
       "    }\n",
       "\n",
       "    .dataframe thead th {\n",
       "        text-align: right;\n",
       "    }\n",
       "</style>\n",
       "<table border=\"1\" class=\"dataframe\">\n",
       "  <thead>\n",
       "    <tr style=\"text-align: right;\">\n",
       "      <th></th>\n",
       "      <th>id</th>\n",
       "      <th>verifiable</th>\n",
       "      <th>label</th>\n",
       "      <th>claim</th>\n",
       "      <th>evidence</th>\n",
       "      <th>evidence_sources</th>\n",
       "      <th>NER</th>\n",
       "      <th>valid_link</th>\n",
       "    </tr>\n",
       "  </thead>\n",
       "  <tbody>\n",
       "    <tr>\n",
       "      <th>0</th>\n",
       "      <td>75397</td>\n",
       "      <td>VERIFIABLE</td>\n",
       "      <td>SUPPORTS</td>\n",
       "      <td>Nikolaj Coster-Waldau worked with the Fox Broa...</td>\n",
       "      <td>[[[92206, 104971, 'Nikolaj_Coster-Waldau', 7],...</td>\n",
       "      <td>{'Fox_Broadcasting_Company', 'Nikolaj_Coster-W...</td>\n",
       "      <td>['Nikolaj Coster-Waldau', 'Fox Broadcasting Co...</td>\n",
       "      <td>True</td>\n",
       "    </tr>\n",
       "    <tr>\n",
       "      <th>1</th>\n",
       "      <td>150448</td>\n",
       "      <td>VERIFIABLE</td>\n",
       "      <td>SUPPORTS</td>\n",
       "      <td>Roman Atwood is a content creator.</td>\n",
       "      <td>[[[174271, 187498, 'Roman_Atwood', 1]], [[1742...</td>\n",
       "      <td>{'Roman_Atwood'}</td>\n",
       "      <td>['Roman Atwood']</td>\n",
       "      <td>True</td>\n",
       "    </tr>\n",
       "    <tr>\n",
       "      <th>2</th>\n",
       "      <td>214861</td>\n",
       "      <td>VERIFIABLE</td>\n",
       "      <td>SUPPORTS</td>\n",
       "      <td>History of art includes architecture, dance, s...</td>\n",
       "      <td>[[[255136, 254645, 'History_of_art', 2]]]</td>\n",
       "      <td>{'History_of_art'}</td>\n",
       "      <td>[]</td>\n",
       "      <td>True</td>\n",
       "    </tr>\n",
       "    <tr>\n",
       "      <th>3</th>\n",
       "      <td>156709</td>\n",
       "      <td>VERIFIABLE</td>\n",
       "      <td>REFUTES</td>\n",
       "      <td>Adrienne Bailon is an accountant.</td>\n",
       "      <td>[[[180804, 193183, 'Adrienne_Bailon', 0]]]</td>\n",
       "      <td>{'Adrienne_Bailon'}</td>\n",
       "      <td>['Adrienne Bailon']</td>\n",
       "      <td>True</td>\n",
       "    </tr>\n",
       "    <tr>\n",
       "      <th>4</th>\n",
       "      <td>129629</td>\n",
       "      <td>VERIFIABLE</td>\n",
       "      <td>SUPPORTS</td>\n",
       "      <td>Homeland is an American television spy thrille...</td>\n",
       "      <td>[[[151831, 166598, 'Homeland_-LRB-TV_series-RR...</td>\n",
       "      <td>{'Prisoners_of_War_(TV_series)', 'Homeland_(TV...</td>\n",
       "      <td>['American', 'Israeli', 'Prisoners of War']</td>\n",
       "      <td>True</td>\n",
       "    </tr>\n",
       "    <tr>\n",
       "      <th>5</th>\n",
       "      <td>33078</td>\n",
       "      <td>VERIFIABLE</td>\n",
       "      <td>SUPPORTS</td>\n",
       "      <td>The Boston Celtics play their home games at TD...</td>\n",
       "      <td>[[[49158, 58489, 'Boston_Celtics', 3]], [[4915...</td>\n",
       "      <td>{'Boston_Celtics'}</td>\n",
       "      <td>['Boston Celtics', 'TD Garden']</td>\n",
       "      <td>True</td>\n",
       "    </tr>\n",
       "    <tr>\n",
       "      <th>6</th>\n",
       "      <td>6744</td>\n",
       "      <td>VERIFIABLE</td>\n",
       "      <td>SUPPORTS</td>\n",
       "      <td>The Ten Commandments is an epic film.</td>\n",
       "      <td>[[[23513, 28977, 'The_Ten_Commandments_-LRB-19...</td>\n",
       "      <td>{'The_Ten_Commandments_(1956_film)'}</td>\n",
       "      <td>['Ten Commandments']</td>\n",
       "      <td>True</td>\n",
       "    </tr>\n",
       "    <tr>\n",
       "      <th>7</th>\n",
       "      <td>226034</td>\n",
       "      <td>VERIFIABLE</td>\n",
       "      <td>SUPPORTS</td>\n",
       "      <td>Tetris has sold millions of physical copies.</td>\n",
       "      <td>[[[269479, 265800, 'Tetris', 18]]]</td>\n",
       "      <td>{'Tetris'}</td>\n",
       "      <td>['Tetris']</td>\n",
       "      <td>True</td>\n",
       "    </tr>\n",
       "    <tr>\n",
       "      <th>8</th>\n",
       "      <td>40190</td>\n",
       "      <td>VERIFIABLE</td>\n",
       "      <td>SUPPORTS</td>\n",
       "      <td>Cyndi Lauper won the Best New Artist award at ...</td>\n",
       "      <td>[[[56492, 66697, 'Cyndi_Lauper', 2]]]</td>\n",
       "      <td>{'Cyndi_Lauper'}</td>\n",
       "      <td>['Cyndi Lauper', 'Best New Artist award', '27t...</td>\n",
       "      <td>True</td>\n",
       "    </tr>\n",
       "    <tr>\n",
       "      <th>9</th>\n",
       "      <td>76253</td>\n",
       "      <td>VERIFIABLE</td>\n",
       "      <td>SUPPORTS</td>\n",
       "      <td>There is a movie called The Hunger Games.</td>\n",
       "      <td>[[[93100, 106004, 'The_Hunger_Games_-LRB-film-...</td>\n",
       "      <td>{'The_Hunger_Games_(film)'}</td>\n",
       "      <td>['The Hunger Games']</td>\n",
       "      <td>True</td>\n",
       "    </tr>\n",
       "  </tbody>\n",
       "</table>\n",
       "</div>"
      ],
      "text/plain": [
       "       id  verifiable     label  \\\n",
       "0   75397  VERIFIABLE  SUPPORTS   \n",
       "1  150448  VERIFIABLE  SUPPORTS   \n",
       "2  214861  VERIFIABLE  SUPPORTS   \n",
       "3  156709  VERIFIABLE   REFUTES   \n",
       "4  129629  VERIFIABLE  SUPPORTS   \n",
       "5   33078  VERIFIABLE  SUPPORTS   \n",
       "6    6744  VERIFIABLE  SUPPORTS   \n",
       "7  226034  VERIFIABLE  SUPPORTS   \n",
       "8   40190  VERIFIABLE  SUPPORTS   \n",
       "9   76253  VERIFIABLE  SUPPORTS   \n",
       "\n",
       "                                               claim  \\\n",
       "0  Nikolaj Coster-Waldau worked with the Fox Broa...   \n",
       "1                 Roman Atwood is a content creator.   \n",
       "2  History of art includes architecture, dance, s...   \n",
       "3                  Adrienne Bailon is an accountant.   \n",
       "4  Homeland is an American television spy thrille...   \n",
       "5  The Boston Celtics play their home games at TD...   \n",
       "6              The Ten Commandments is an epic film.   \n",
       "7       Tetris has sold millions of physical copies.   \n",
       "8  Cyndi Lauper won the Best New Artist award at ...   \n",
       "9          There is a movie called The Hunger Games.   \n",
       "\n",
       "                                            evidence  \\\n",
       "0  [[[92206, 104971, 'Nikolaj_Coster-Waldau', 7],...   \n",
       "1  [[[174271, 187498, 'Roman_Atwood', 1]], [[1742...   \n",
       "2          [[[255136, 254645, 'History_of_art', 2]]]   \n",
       "3         [[[180804, 193183, 'Adrienne_Bailon', 0]]]   \n",
       "4  [[[151831, 166598, 'Homeland_-LRB-TV_series-RR...   \n",
       "5  [[[49158, 58489, 'Boston_Celtics', 3]], [[4915...   \n",
       "6  [[[23513, 28977, 'The_Ten_Commandments_-LRB-19...   \n",
       "7                 [[[269479, 265800, 'Tetris', 18]]]   \n",
       "8              [[[56492, 66697, 'Cyndi_Lauper', 2]]]   \n",
       "9  [[[93100, 106004, 'The_Hunger_Games_-LRB-film-...   \n",
       "\n",
       "                                    evidence_sources  \\\n",
       "0  {'Fox_Broadcasting_Company', 'Nikolaj_Coster-W...   \n",
       "1                                   {'Roman_Atwood'}   \n",
       "2                                 {'History_of_art'}   \n",
       "3                                {'Adrienne_Bailon'}   \n",
       "4  {'Prisoners_of_War_(TV_series)', 'Homeland_(TV...   \n",
       "5                                 {'Boston_Celtics'}   \n",
       "6               {'The_Ten_Commandments_(1956_film)'}   \n",
       "7                                         {'Tetris'}   \n",
       "8                                   {'Cyndi_Lauper'}   \n",
       "9                        {'The_Hunger_Games_(film)'}   \n",
       "\n",
       "                                                 NER  valid_link  \n",
       "0  ['Nikolaj Coster-Waldau', 'Fox Broadcasting Co...        True  \n",
       "1                                   ['Roman Atwood']        True  \n",
       "2                                                 []        True  \n",
       "3                                ['Adrienne Bailon']        True  \n",
       "4        ['American', 'Israeli', 'Prisoners of War']        True  \n",
       "5                    ['Boston Celtics', 'TD Garden']        True  \n",
       "6                               ['Ten Commandments']        True  \n",
       "7                                         ['Tetris']        True  \n",
       "8  ['Cyndi Lauper', 'Best New Artist award', '27t...        True  \n",
       "9                               ['The Hunger Games']        True  "
      ]
     },
     "execution_count": 19,
     "metadata": {},
     "output_type": "execute_result"
    }
   ],
   "source": [
    "all_fever"
   ]
  },
  {
   "cell_type": "code",
   "execution_count": null,
   "metadata": {},
   "outputs": [],
   "source": []
  },
  {
   "cell_type": "code",
   "execution_count": null,
   "metadata": {},
   "outputs": [],
   "source": []
  },
  {
   "cell_type": "code",
   "execution_count": null,
   "metadata": {},
   "outputs": [],
   "source": []
  },
  {
   "cell_type": "code",
   "execution_count": null,
   "metadata": {},
   "outputs": [],
   "source": []
  },
  {
   "cell_type": "code",
   "execution_count": null,
   "metadata": {},
   "outputs": [],
   "source": []
  },
  {
   "cell_type": "code",
   "execution_count": null,
   "metadata": {},
   "outputs": [],
   "source": []
  },
  {
   "cell_type": "code",
   "execution_count": null,
   "metadata": {},
   "outputs": [],
   "source": []
  },
  {
   "cell_type": "code",
   "execution_count": null,
   "metadata": {},
   "outputs": [],
   "source": []
  },
  {
   "cell_type": "code",
   "execution_count": null,
   "metadata": {},
   "outputs": [],
   "source": []
  },
  {
   "cell_type": "code",
   "execution_count": null,
   "metadata": {},
   "outputs": [],
   "source": []
  },
  {
   "cell_type": "code",
   "execution_count": null,
   "metadata": {},
   "outputs": [],
   "source": []
  },
  {
   "cell_type": "code",
   "execution_count": null,
   "metadata": {},
   "outputs": [],
   "source": []
  },
  {
   "cell_type": "code",
   "execution_count": null,
   "metadata": {},
   "outputs": [],
   "source": []
  },
  {
   "cell_type": "code",
   "execution_count": null,
   "metadata": {},
   "outputs": [],
   "source": []
  },
  {
   "cell_type": "code",
   "execution_count": null,
   "metadata": {},
   "outputs": [],
   "source": []
  },
  {
   "cell_type": "code",
   "execution_count": null,
   "metadata": {},
   "outputs": [],
   "source": []
  },
  {
   "cell_type": "code",
   "execution_count": null,
   "metadata": {},
   "outputs": [],
   "source": []
  },
  {
   "cell_type": "code",
   "execution_count": null,
   "metadata": {},
   "outputs": [],
   "source": []
  },
  {
   "cell_type": "code",
   "execution_count": null,
   "metadata": {},
   "outputs": [],
   "source": []
  },
  {
   "cell_type": "code",
   "execution_count": null,
   "metadata": {},
   "outputs": [],
   "source": []
  },
  {
   "cell_type": "code",
   "execution_count": null,
   "metadata": {},
   "outputs": [],
   "source": []
  },
  {
   "cell_type": "code",
   "execution_count": null,
   "metadata": {},
   "outputs": [],
   "source": []
  },
  {
   "cell_type": "code",
   "execution_count": null,
   "metadata": {},
   "outputs": [],
   "source": []
  },
  {
   "cell_type": "code",
   "execution_count": null,
   "metadata": {},
   "outputs": [],
   "source": []
  },
  {
   "cell_type": "code",
   "execution_count": null,
   "metadata": {},
   "outputs": [],
   "source": []
  }
 ],
 "metadata": {
  "kernelspec": {
   "display_name": "Python 3",
   "language": "python",
   "name": "python3"
  },
  "language_info": {
   "codemirror_mode": {
    "name": "ipython",
    "version": 3
   },
   "file_extension": ".py",
   "mimetype": "text/x-python",
   "name": "python",
   "nbconvert_exporter": "python",
   "pygments_lexer": "ipython3",
   "version": "3.8.3"
  }
 },
 "nbformat": 4,
 "nbformat_minor": 4
}
